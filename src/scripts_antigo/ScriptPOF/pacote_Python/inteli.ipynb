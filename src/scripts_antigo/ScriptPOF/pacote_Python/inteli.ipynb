{
 "cells": [
  {
   "cell_type": "code",
   "execution_count": 8,
   "metadata": {},
   "outputs": [
    {
     "name": "stdout",
     "output_type": "stream",
     "text": [
      "The autoreload extension is already loaded. To reload it, use:\n",
      "  %reload_ext autoreload\n"
     ]
    }
   ],
   "source": [
    "# Este código garante que o notebook sempre vai buscar os módulos\n",
    "%load_ext autoreload\n",
    "%autoreload 2"
   ]
  },
  {
   "cell_type": "code",
   "execution_count": 9,
   "metadata": {},
   "outputs": [
    {
     "name": "stdout",
     "output_type": "stream",
     "text": [
      "Note: you may need to restart the kernel to use updated packages.Requirement already satisfied: openpyxl in c:\\users\\inteli\\appdata\\local\\packages\\pythonsoftwarefoundation.python.3.11_qbz5n2kfra8p0\\localcache\\local-packages\\python311\\site-packages (3.1.2)\n",
      "Requirement already satisfied: et-xmlfile in c:\\users\\inteli\\appdata\\local\\packages\\pythonsoftwarefoundation.python.3.11_qbz5n2kfra8p0\\localcache\\local-packages\\python311\\site-packages (from openpyxl) (1.1.0)\n",
      "\n"
     ]
    },
    {
     "name": "stderr",
     "output_type": "stream",
     "text": [
      "\n",
      "[notice] A new release of pip is available: 23.1.2 -> 23.3.1\n",
      "[notice] To update, run: C:\\Users\\Inteli\\AppData\\Local\\Microsoft\\WindowsApps\\PythonSoftwareFoundation.Python.3.11_qbz5n2kfra8p0\\python.exe -m pip install --upgrade pip\n"
     ]
    }
   ],
   "source": [
    "pip install openpyxl\n"
   ]
  },
  {
   "cell_type": "code",
   "execution_count": 10,
   "metadata": {},
   "outputs": [
    {
     "name": "stdout",
     "output_type": "stream",
     "text": [
      "Processing c:\\users\\inteli\\downloads\\pacotepython\\pacotepython\n",
      "  Preparing metadata (setup.py): started\n",
      "  Preparing metadata (setup.py): finished with status 'done'\n",
      "Building wheels for collected packages: intelidata\n",
      "  Building wheel for intelidata (setup.py): started\n",
      "  Building wheel for intelidata (setup.py): finished with status 'done'\n",
      "  Created wheel for intelidata: filename=intelidata-0.0.0-py3-none-any.whl size=1866 sha256=d38a824b3933fabad058507385c6e1e73bfac18d1a9e7e8690bef8f4d82b6370\n",
      "  Stored in directory: C:\\Users\\Inteli\\AppData\\Local\\Temp\\pip-ephem-wheel-cache-foav0bey\\wheels\\87\\6a\\1b\\a4523f55ab45fe190ce4b14840dbe15ec573125c440a34f171\n",
      "Successfully built intelidata\n",
      "Installing collected packages: intelidata\n",
      "  Attempting uninstall: intelidata\n",
      "    Found existing installation: intelidata 0.0.0\n",
      "    Uninstalling intelidata-0.0.0:\n",
      "      Successfully uninstalled intelidata-0.0.0\n",
      "Successfully installed intelidata-0.0.0\n",
      "Note: you may need to restart the kernel to use updated packages.\n"
     ]
    },
    {
     "name": "stderr",
     "output_type": "stream",
     "text": [
      "\n",
      "[notice] A new release of pip is available: 23.1.2 -> 23.3.1\n",
      "[notice] To update, run: C:\\Users\\Inteli\\AppData\\Local\\Microsoft\\WindowsApps\\PythonSoftwareFoundation.Python.3.11_qbz5n2kfra8p0\\python.exe -m pip install --upgrade pip\n"
     ]
    }
   ],
   "source": [
    "%pip install .\n",
    "import intelidata.lib as inteli\n",
    "import os"
   ]
  },
  {
   "cell_type": "code",
   "execution_count": 11,
   "metadata": {},
   "outputs": [
    {
     "name": "stdout",
     "output_type": "stream",
     "text": [
      "['V8500', 'V531112', 'V531122', 'V531132', 'V9010', 'V9011', 'V8500_DEFLA', 'V531112_DEFLA', 'V531122_DEFLA', 'V531132_DEFLA']\n",
      "['V8501', 'V9010', 'V9011', 'V8501_DEFLA']\n",
      "[]\n",
      "[]\n",
      "[]\n",
      "[]\n",
      "['V9010', 'V9011', 'V9012', 'V4104', 'V4105']\n",
      "['V9005', 'V9010', 'V9011', 'V9012', 'V1904', 'V1905', 'V1904_DEFLA', 'COD_IMPUT_QUANTIDADE']\n",
      "[]\n",
      "[]\n",
      "[]\n",
      "[]\n",
      "[]\n",
      "[]\n",
      "['V9010', 'V9011', 'V1904', 'V1905', 'V1904_DEFLA']\n",
      "['V9010', 'V9011', 'V4104', 'V4105']\n"
     ]
    }
   ],
   "source": [
    "rendimento = inteli.preencher_valores_nulos_csv('rendimento_trabalho.csv', 'Dicionários de váriaveis.xlsx', 'Rendimento do Trabalho', 'Código da variável' )\n",
    "outros = inteli.preencher_valores_nulos_csv('outros_rendimentos.csv', 'Dicionários de váriaveis.xlsx', 'Outros Rendimentos', 'Código da variável' )\n",
    "morador = inteli.preencher_valores_nulos_csv('morador.csv', 'Dicionários de váriaveis.xlsx', 'Morador', 'Código da variável' )\n",
    "quali_vida = inteli.preencher_valores_nulos_csv('morador_quali_vida.csv', 'Dicionários de váriaveis.xlsx', 'Morador - Qualidade de Vida', 'Código da variável' )\n",
    "inventario = inteli.preencher_valores_nulos_csv('inventario.csv', 'Dicionários de váriaveis.xlsx', 'Inventário', 'Código da variável' )\n",
    "domicilio = inteli.preencher_valores_nulos_csv('domicilio.csv', 'Dicionários de váriaveis.xlsx', 'Domicílio', 'Código da variável' )\n",
    "# despesa_individual = inteli.preencher_valores_nulos_csv('despesa_individual.csv', 'Dicionários de váriaveis.xlsx', 'Despesa Individual', 'Código da variável' )\n",
    "despesa_coletiva = inteli.preencher_valores_nulos_csv('despesa_coletiva.csv', 'Dicionários de váriaveis.xlsx', 'Despesa Coletiva', 'Código da variável' )\n",
    "# consumo_alimentar = inteli.preencher_valores_nulos_csv('consumo_alimentar.csv', 'Dicionários de váriaveis.xlsx', 'Consumo Alimentar', 'Código da variável' )\n",
    "condicoes_vida = inteli.preencher_valores_nulos_csv('condicoes_vida.csv', 'Dicionários de váriaveis.xlsx', 'Condições de Vida', 'Código da variável' )\n",
    "caracteristicas_dieta = inteli.preencher_valores_nulos_csv('caracteristicas_dieta.csv', 'Dicionários de váriaveis.xlsx', 'Características da Dieta', 'Código da variável' )\n",
    "caderneta_coletiva = inteli.preencher_valores_nulos_csv('caderneta_coletiva.csv', 'Dicionários de váriaveis.xlsx', 'Caderneta Coletiva', 'Código da variável' )\n",
    "aluguel_estimado = inteli.preencher_valores_nulos_csv('aluguel_estimado.csv', 'Dicionários de váriaveis.xlsx', 'Aluguel Estimado', 'Código da variável' )\n",
    "restricao = inteli.preencher_valores_nulos_csv('restricao_produtos_servicos_saude.csv', 'Dicionários de váriaveis.xlsx', 'Restrição - Saúde', 'Código da variável' )\n",
    "servico_pof2 = inteli.preencher_valores_nulos_csv('servico_nao_monetario_pof2.csv', 'Dicionários de váriaveis.xlsx', 'Serviços Não Monetários - POF 2', 'Código da variável' )\n",
    "servico_pof4 = inteli.preencher_valores_nulos_csv('servico_nao_monetario_pof4.csv', 'Dicionários de váriaveis.xlsx', 'Serviços Não Monetários - POF 4', 'Código da variável' )"
   ]
  },
  {
   "cell_type": "code",
   "execution_count": 12,
   "metadata": {},
   "outputs": [],
   "source": [
    "\n",
    "lista_dataframes = [rendimento, outros, morador, quali_vida, inventario, domicilio, despesa_individual, despesa_coletiva, consumo_alimentar, condicoes_vida, caracteristicas_dieta, caderneta_coletiva, aluguel_estimado, restricao, servico_pof2, servico_pof4]\n",
    "nomes_arquivos = ['rendimento.csv', 'outros.csv', 'morador.csv', 'quali_vida.csv', 'inventario.csv', 'domicilio.csv', 'despesa_individual.csv', 'despesa_coletiva.csv', 'consumo_alimentar.csv', 'condicoes_vida.csv', 'caracteristicas_dieta.csv', 'caderneta_coletiva.csv', 'aluguel_estimado.csv', 'restricao.csv', 'servico_pof2.csv', 'servico_pof4.csv']\n",
    "inteli.salvar_dataframes_como_csv(lista_dataframes, nomes_arquivos)\n"
   ]
  },
  {
   "cell_type": "code",
   "execution_count": 13,
   "metadata": {},
   "outputs": [
    {
     "name": "stdout",
     "output_type": "stream",
     "text": [
      "\u001b[1m============================= test session starts =============================\u001b[0m"
     ]
    },
    {
     "name": "stderr",
     "output_type": "stream",
     "text": [
      "\u001b[31mERROR: file or directory not found: #\n",
      "\u001b[0m\n"
     ]
    },
    {
     "name": "stdout",
     "output_type": "stream",
     "text": [
      "\n",
      "platform win32 -- Python 3.11.6, pytest-7.4.3, pluggy-1.3.0 -- C:\\Users\\Inteli\\AppData\\Local\\Microsoft\\WindowsApps\\PythonSoftwareFoundation.Python.3.11_qbz5n2kfra8p0\\python.exe\n",
      "cachedir: .pytest_cache\n",
      "rootdir: c:\\Users\\Inteli\\Downloads\\pacotePython\\pacotePython\n",
      "plugins: anyio-3.6.2\n",
      "\u001b[1mcollecting ... \u001b[0mcollected 0 items\n",
      "\n",
      "\u001b[33m============================ \u001b[33mno tests ran\u001b[0m\u001b[33m in 0.01s\u001b[0m\u001b[33m ============================\u001b[0m\n"
     ]
    }
   ],
   "source": [
    "!pytest tests -v # verbose"
   ]
  },
  {
   "cell_type": "code",
   "execution_count": 14,
   "metadata": {},
   "outputs": [],
   "source": [
    "# import intelidata.lib as inteli\n",
    "\n",
    "# df = inteli.load_data(rendimento)"
   ]
  },
  {
   "cell_type": "code",
   "execution_count": null,
   "metadata": {},
   "outputs": [],
   "source": [
    "# df = inteli.check_for_duplicates(teste)\n",
    "# df"
   ]
  },
  {
   "cell_type": "code",
   "execution_count": null,
   "metadata": {},
   "outputs": [],
   "source": [
    "# import intelidata.lib as inteli\n",
    "\n",
    "# data = inteli.clean_data(df)"
   ]
  },
  {
   "cell_type": "code",
   "execution_count": null,
   "metadata": {},
   "outputs": [],
   "source": [
    "# import os\n",
    "\n",
    "# # Defina o caminho da pasta onde estão os arquivos CSV\n",
    "# pasta = './csv'\n",
    "\n",
    "# # Inicialize uma lista vazia para armazenar os nomes dos arquivos CSV\n",
    "# nomes_arquivos = []\n",
    "\n",
    "# # Percorra os arquivos na pasta\n",
    "# for nome_arquivo in os.listdir(pasta):\n",
    "#     if nome_arquivo.endswith('.csv'):\n",
    "#         nomes_arquivos.append(nome_arquivo)\n",
    "\n",
    "# # Agora a lista nomes_arquivos contém os nomes dos arquivos CSV na pasta\n",
    "# print(nomes_arquivos)\n"
   ]
  },
  {
   "cell_type": "code",
   "execution_count": null,
   "metadata": {},
   "outputs": [],
   "source": [
    "# import pandas as pd\n",
    "# import os\n",
    "\n",
    "# pasta_tratados = './csv_tratados'\n",
    "\n",
    "# # Defina o valor para preencher os dados nulos\n",
    "# valor_preenchimento = \"null\"\n",
    "\n",
    "# # Define o separador como ponto e vírgula\n",
    "# separador = ';'\n",
    "\n",
    "# # Percorra os arquivos na pasta\n",
    "# for nome_arquivo in nomes_arquivos:\n",
    "#     caminho_completo_arquivo = os.path.join('./csv/', nome_arquivo)\n",
    "\n",
    "#     # Leia o arquivo CSV especificando a codificação e o separador\n",
    "#     df = pd.read_csv(caminho_completo_arquivo, encoding='latin1', sep=separador)\n",
    "\n",
    "#     # Preencha os dados nulos com o valor desejado (N/D)\n",
    "#     df = df.fillna(valor_preenchimento)\n",
    "\n",
    "#     # Salve o arquivo tratado de volta na mesma pasta (ou em uma pasta diferente, se necessário)\n",
    "#     caminho_arquivo_tratado = os.path.join(pasta_tratados, f\"{nome_arquivo}_tratado.csv\")\n",
    "#     df.to_csv(caminho_arquivo_tratado, index=False, sep=separador, encoding='utf-8')  # Salve com UTF-8 para manter os acentos\n",
    "\n",
    "#     print(f\"Arquivo {nome_arquivo} tratado e salvo como {caminho_arquivo_tratado}\")\n"
   ]
  },
  {
   "cell_type": "markdown",
   "metadata": {},
   "source": []
  }
 ],
 "metadata": {
  "kernelspec": {
   "display_name": "Python 3",
   "language": "python",
   "name": "python3"
  },
  "language_info": {
   "codemirror_mode": {
    "name": "ipython",
    "version": 3
   },
   "file_extension": ".py",
   "mimetype": "text/x-python",
   "name": "python",
   "nbconvert_exporter": "python",
   "pygments_lexer": "ipython3",
   "version": "3.11.6"
  }
 },
 "nbformat": 4,
 "nbformat_minor": 2
}
