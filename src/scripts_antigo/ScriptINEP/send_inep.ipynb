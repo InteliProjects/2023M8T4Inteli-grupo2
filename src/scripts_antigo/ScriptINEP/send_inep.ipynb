{
 "cells": [
  {
   "cell_type": "code",
   "execution_count": null,
   "metadata": {},
   "outputs": [],
   "source": [
    "!pip install pandas\n",
    "!pip install boto3\n",
    "!pip install os\n",
    "!pip install python-dotenv"
   ]
  },
  {
   "cell_type": "code",
   "execution_count": 1,
   "metadata": {},
   "outputs": [],
   "source": [
    "import pandas as pd\n",
    "import boto3\n",
    "import os\n",
    "from dotenv import load_dotenv"
   ]
  },
  {
   "cell_type": "code",
   "execution_count": 2,
   "metadata": {},
   "outputs": [
    {
     "data": {
      "text/plain": [
       "True"
      ]
     },
     "execution_count": 2,
     "metadata": {},
     "output_type": "execute_result"
    }
   ],
   "source": [
    "load_dotenv('.env.tmpl')"
   ]
  },
  {
   "cell_type": "code",
   "execution_count": 5,
   "metadata": {},
   "outputs": [
    {
     "name": "stdout",
     "output_type": "stream",
     "text": [
      "O arquivo ana_14_s3.csv foi enviado para o Amazon S3 com a chave ana_14_s3.csv.\n",
      "O arquivo ana_16_s3.csv foi enviado para o Amazon S3 com a chave ana_16_s3.csv.\n",
      "O arquivo ed_sup_2009_s3.csv foi enviado para o Amazon S3 com a chave ed_sup_2009_s3.csv.\n",
      "O arquivo ed_sup_2010_s3.csv foi enviado para o Amazon S3 com a chave ed_sup_2010_s3.csv.\n",
      "O arquivo ed_sup_2011_s3.csv foi enviado para o Amazon S3 com a chave ed_sup_2011_s3.csv.\n",
      "O arquivo ed_sup_2012_s3.csv foi enviado para o Amazon S3 com a chave ed_sup_2012_s3.csv.\n",
      "O arquivo ed_sup_2013_s3.csv foi enviado para o Amazon S3 com a chave ed_sup_2013_s3.csv.\n",
      "O arquivo ed_sup_2014_s3.csv foi enviado para o Amazon S3 com a chave ed_sup_2014_s3.csv.\n",
      "O arquivo ed_sup_2016_s3.csv foi enviado para o Amazon S3 com a chave ed_sup_2016_s3.csv.\n",
      "O arquivo ed_sup_2017_s3.csv foi enviado para o Amazon S3 com a chave ed_sup_2017_s3.csv.\n",
      "O arquivo ed_sup_2018_s3.csv foi enviado para o Amazon S3 com a chave ed_sup_2018_s3.csv.\n",
      "O arquivo ed_sup_2019_s3.csv foi enviado para o Amazon S3 com a chave ed_sup_2019_s3.csv.\n",
      "O arquivo ed_sup_2020_s3.csv foi enviado para o Amazon S3 com a chave ed_sup_2020_s3.csv.\n",
      "O arquivo ed_sup_2021_s3.csv foi enviado para o Amazon S3 com a chave ed_sup_2021_s3.csv.\n",
      "O arquivo ed_sup_2022_s3.csv foi enviado para o Amazon S3 com a chave ed_sup_2022_s3.csv.\n",
      "O arquivo enceja_14_s3.csv foi enviado para o Amazon S3 com a chave enceja_14_s3.csv.\n",
      "O arquivo enceja_20_s3.csv foi enviado para o Amazon S3 com a chave enceja_20_s3.csv.\n",
      "O arquivo enceja_22_s3.csv foi enviado para o Amazon S3 com a chave enceja_22_s3.csv.\n",
      "Todos os arquivos CSV foram processados e enviados para o Amazon S3.\n"
     ]
    }
   ],
   "source": [
    "aws_access_key_id = os.getenv(\"access_key_id\")\n",
    "aws_secret_access_key = os.getenv(\"secret_access_key\")\n",
    "\n",
    "aws_session_token= 'FwoGZXIvYXdzEPf//////////wEaDB/mOxOWKRL6RZ332CLQAZC0t1xJMNIm+2Hq+4vUUlA30vR7rbHe8uX8tIggdaLfXbwke47P4Lul2e/imfzfY08Z5UlJcrodEdMrPBAuXcvf5Na8mn1z5VR4yhU/USr4sxJSVpLZTMy8Xp4JDVw4xzMkKf9p21uUAxTOuO6Ol7Tp3EYQ7LTe/luYA2YUn6EXJVQMh/FCc3JOdOQiJUJy2Cnwe2PaPRgWjlUrfKe4d05M2eF7tkPUEveW7y8fxeIbUozCuauej7Qtb8NmkVg1IOq5M94t9t1e/Vp9NnBIxHYoxqLDqgYyLQKLsO0vyaMIF/epIEtN6GtJMx+yAEYxWUC2DdY9Bx1BnpfB/wuHrDMepgBpZg=='\n",
    "\n",
    "region_name = 'us-east-1'\n",
    "bucket_name = 'dadosinepdatadream'\n",
    "csv_directory = './csv_s3'\n",
    "\n",
    "s3 = boto3.client('s3', aws_access_key_id=aws_access_key_id, aws_secret_access_key=aws_secret_access_key, region_name=region_name, aws_session_token=aws_session_token)\n",
    "\n",
    "csv_files = [file for file in os.listdir(csv_directory) if file.endswith('.csv')]\n",
    "\n",
    "for csv_file in csv_files:\n",
    "    local_csv_file = os.path.join(csv_directory, csv_file)\n",
    "    s3_file_key = csv_file\n",
    "\n",
    "    s3.upload_file(local_csv_file, bucket_name, s3_file_key)\n",
    "\n",
    "    print(f'O arquivo {csv_file} foi enviado para o Amazon S3 com a chave {s3_file_key}.')\n",
    "\n",
    "print('Todos os arquivos CSV foram processados e enviados para o Amazon S3.')\n"
   ]
  },
  {
   "cell_type": "code",
   "execution_count": null,
   "metadata": {},
   "outputs": [],
   "source": []
  }
 ],
 "metadata": {
  "kernelspec": {
   "display_name": "Python 3",
   "language": "python",
   "name": "python3"
  },
  "language_info": {
   "codemirror_mode": {
    "name": "ipython",
    "version": 3
   },
   "file_extension": ".py",
   "mimetype": "text/x-python",
   "name": "python",
   "nbconvert_exporter": "python",
   "pygments_lexer": "ipython3",
   "version": "3.10.6"
  }
 },
 "nbformat": 4,
 "nbformat_minor": 2
}
