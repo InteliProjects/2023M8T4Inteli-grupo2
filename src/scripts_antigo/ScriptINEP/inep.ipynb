{
 "cells": [
  {
   "cell_type": "code",
   "execution_count": null,
   "metadata": {},
   "outputs": [],
   "source": [
    "!pip install ."
   ]
  },
  {
   "cell_type": "code",
   "execution_count": null,
   "metadata": {},
   "outputs": [],
   "source": [
    "import ana.lib as ana\n",
    "\n",
    "ana.preprocess()"
   ]
  },
  {
   "cell_type": "code",
   "execution_count": null,
   "metadata": {},
   "outputs": [],
   "source": [
    "!pytest tests -v # verbose"
   ]
  },
  {
   "cell_type": "code",
   "execution_count": null,
   "metadata": {},
   "outputs": [],
   "source": [
    "df_ana_14 = ana.load_data(\"csv/ana_2014.csv\")"
   ]
  },
  {
   "cell_type": "code",
   "execution_count": null,
   "metadata": {},
   "outputs": [],
   "source": [
    "# Este código garante que o notebook sempre vai buscar os módulos\n",
    "%load_ext autoreload\n",
    "%autoreload 2"
   ]
  },
  {
   "cell_type": "code",
   "execution_count": null,
   "metadata": {},
   "outputs": [],
   "source": [
    "df_ana_14"
   ]
  },
  {
   "cell_type": "code",
   "execution_count": null,
   "metadata": {},
   "outputs": [],
   "source": [
    "df_ana_14_clean = ana.clean_data(df_ana_14)\n",
    "df_ana_14_clean"
   ]
  },
  {
   "cell_type": "code",
   "execution_count": null,
   "metadata": {},
   "outputs": [],
   "source": [
    "ana_14_s3 = ana.ajustar_amazon_s3(df_ana_14_clean, './csv_s3/ana_14_s3.csv')"
   ]
  },
  {
   "cell_type": "code",
   "execution_count": null,
   "metadata": {},
   "outputs": [],
   "source": [
    "df_ana_16 = ana.load_data(\"csv/ana_2016.csv\")"
   ]
  },
  {
   "cell_type": "code",
   "execution_count": null,
   "metadata": {},
   "outputs": [],
   "source": [
    "df_ana_16"
   ]
  },
  {
   "cell_type": "code",
   "execution_count": null,
   "metadata": {},
   "outputs": [],
   "source": [
    "df_ana_16_clean = ana.clean_data(df_ana_16)\n",
    "df_ana_16_clean"
   ]
  },
  {
   "cell_type": "code",
   "execution_count": null,
   "metadata": {},
   "outputs": [],
   "source": [
    "ana_16_s3 = ana.ajustar_amazon_s3(df_ana_16_clean, './csv_s3/ana_16_s3.csv')"
   ]
  },
  {
   "cell_type": "code",
   "execution_count": null,
   "metadata": {},
   "outputs": [],
   "source": [
    "import ed_superior.lib as ed_sup\n",
    "\n",
    "ed_sup.preprocess()"
   ]
  },
  {
   "cell_type": "code",
   "execution_count": null,
   "metadata": {},
   "outputs": [],
   "source": [
    "df_ed_sup_2009 = ed_sup.load_data_with_correct_delimiter(\"csv/ed_sup_2009.csv\")"
   ]
  },
  {
   "cell_type": "code",
   "execution_count": null,
   "metadata": {},
   "outputs": [],
   "source": [
    "df_ed_sup_2009"
   ]
  },
  {
   "cell_type": "code",
   "execution_count": null,
   "metadata": {},
   "outputs": [],
   "source": [
    "df_ed_sup_2009_clean = ed_sup.clean_data(df_ed_sup_2009)\n",
    "df_ed_sup_2009_clean"
   ]
  },
  {
   "cell_type": "code",
   "execution_count": null,
   "metadata": {},
   "outputs": [],
   "source": [
    "df_ed_sup_2009_s3 = ed_sup.ajustar_amazon_s3(df_ed_sup_2009_clean, './csv_s3/ed_sup_2009_s3.csv')"
   ]
  },
  {
   "cell_type": "code",
   "execution_count": null,
   "metadata": {},
   "outputs": [],
   "source": [
    "df_ed_sup_2010 = ed_sup.load_data_with_correct_delimiter(\"csv/ed_sup_2010.csv\")"
   ]
  },
  {
   "cell_type": "code",
   "execution_count": null,
   "metadata": {},
   "outputs": [],
   "source": [
    "df_ed_sup_2010"
   ]
  },
  {
   "cell_type": "code",
   "execution_count": null,
   "metadata": {},
   "outputs": [],
   "source": [
    "df_ed_sup_2010_clean = ed_sup.clean_data(df_ed_sup_2010)\n",
    "df_ed_sup_2010_clean"
   ]
  },
  {
   "cell_type": "code",
   "execution_count": null,
   "metadata": {},
   "outputs": [],
   "source": [
    "df_ed_sup_2010_s3 = ed_sup.ajustar_amazon_s3(df_ed_sup_2010_clean, './csv_s3/ed_sup_2010_s3.csv')"
   ]
  },
  {
   "cell_type": "code",
   "execution_count": null,
   "metadata": {},
   "outputs": [],
   "source": [
    "df_ed_sup_2011 = ed_sup.load_data_with_correct_delimiter(\"csv/ed_sup_2011.csv\")"
   ]
  },
  {
   "cell_type": "code",
   "execution_count": null,
   "metadata": {},
   "outputs": [],
   "source": [
    "df_ed_sup_2011"
   ]
  },
  {
   "cell_type": "code",
   "execution_count": null,
   "metadata": {},
   "outputs": [],
   "source": [
    "df_ed_sup_2011_clean = ed_sup.clean_data(df_ed_sup_2011)\n",
    "df_ed_sup_2011_clean"
   ]
  },
  {
   "cell_type": "code",
   "execution_count": null,
   "metadata": {},
   "outputs": [],
   "source": [
    "df_ed_sup_2011_s3 = ed_sup.ajustar_amazon_s3(df_ed_sup_2011_clean, './csv_s3/ed_sup_2011_s3.csv')"
   ]
  },
  {
   "cell_type": "code",
   "execution_count": null,
   "metadata": {},
   "outputs": [],
   "source": [
    "df_ed_sup_2012 = ed_sup.load_data_with_correct_delimiter(\"csv/ed_sup_2012.csv\")"
   ]
  },
  {
   "cell_type": "code",
   "execution_count": null,
   "metadata": {},
   "outputs": [],
   "source": [
    "df_ed_sup_2012"
   ]
  },
  {
   "cell_type": "code",
   "execution_count": null,
   "metadata": {},
   "outputs": [],
   "source": [
    "df_ed_sup_2012_clean = ed_sup.clean_data(df_ed_sup_2012)\n",
    "df_ed_sup_2012_clean"
   ]
  },
  {
   "cell_type": "code",
   "execution_count": null,
   "metadata": {},
   "outputs": [],
   "source": [
    "df_ed_sup_2012_s3 = ed_sup.ajustar_amazon_s3(df_ed_sup_2012_clean, './csv_s3/ed_sup_2012_s3.csv')"
   ]
  },
  {
   "cell_type": "code",
   "execution_count": null,
   "metadata": {},
   "outputs": [],
   "source": [
    "df_ed_sup_2013 = ed_sup.load_data_with_correct_delimiter(\"csv/ed_sup_2013.csv\")"
   ]
  },
  {
   "cell_type": "code",
   "execution_count": null,
   "metadata": {},
   "outputs": [],
   "source": [
    "df_ed_sup_2013"
   ]
  },
  {
   "cell_type": "code",
   "execution_count": null,
   "metadata": {},
   "outputs": [],
   "source": [
    "df_ed_sup_2013_clean = ed_sup.clean_data(df_ed_sup_2013)\n",
    "df_ed_sup_2013_clean"
   ]
  },
  {
   "cell_type": "code",
   "execution_count": null,
   "metadata": {},
   "outputs": [],
   "source": [
    "df_ed_sup_2013_s3 = ed_sup.ajustar_amazon_s3(df_ed_sup_2013_clean, './csv_s3/ed_sup_2013_s3.csv')"
   ]
  },
  {
   "cell_type": "code",
   "execution_count": null,
   "metadata": {},
   "outputs": [],
   "source": [
    "df_ed_sup_2014 = ed_sup.load_data_with_correct_delimiter(\"csv/ed_sup_2014.csv\")"
   ]
  },
  {
   "cell_type": "code",
   "execution_count": null,
   "metadata": {},
   "outputs": [],
   "source": [
    "df_ed_sup_2014"
   ]
  },
  {
   "cell_type": "code",
   "execution_count": null,
   "metadata": {},
   "outputs": [],
   "source": [
    "df_ed_sup_2014_clean = ed_sup.clean_data(df_ed_sup_2014)\n",
    "df_ed_sup_2014_clean"
   ]
  },
  {
   "cell_type": "code",
   "execution_count": null,
   "metadata": {},
   "outputs": [],
   "source": [
    "df_ed_sup_2014_s3 = ed_sup.ajustar_amazon_s3(df_ed_sup_2014_clean, './csv_s3/ed_sup_2014_s3.csv')"
   ]
  },
  {
   "cell_type": "code",
   "execution_count": null,
   "metadata": {},
   "outputs": [],
   "source": [
    "df_ed_sup_2015 = ed_sup.load_data_with_correct_delimiter(\"csv/ed_sup_2015.csv\")"
   ]
  },
  {
   "cell_type": "code",
   "execution_count": null,
   "metadata": {},
   "outputs": [],
   "source": [
    "df_ed_sup_2015"
   ]
  },
  {
   "cell_type": "code",
   "execution_count": null,
   "metadata": {},
   "outputs": [],
   "source": [
    "df_ed_sup_2015_clean = ed_sup.clean_data(df_ed_sup_2015)\n",
    "df_ed_sup_2015_clean"
   ]
  },
  {
   "cell_type": "code",
   "execution_count": null,
   "metadata": {},
   "outputs": [],
   "source": [
    "df_ed_sup_2015_s3 = ed_sup.ajustar_amazon_s3(df_ed_sup_2015_clean, './csv/ed_sup_2015_s3.csv')"
   ]
  },
  {
   "cell_type": "code",
   "execution_count": null,
   "metadata": {},
   "outputs": [],
   "source": [
    "df_ed_sup_2016 = ed_sup.load_data_with_correct_delimiter(\"csv/ed_sup_2016.csv\")"
   ]
  },
  {
   "cell_type": "code",
   "execution_count": null,
   "metadata": {},
   "outputs": [],
   "source": [
    "df_ed_sup_2016"
   ]
  },
  {
   "cell_type": "code",
   "execution_count": null,
   "metadata": {},
   "outputs": [],
   "source": [
    "df_ed_sup_2016_clean = ed_sup.clean_data(df_ed_sup_2016)\n",
    "df_ed_sup_2016_clean"
   ]
  },
  {
   "cell_type": "code",
   "execution_count": null,
   "metadata": {},
   "outputs": [],
   "source": [
    "df_ed_sup_2016_s3 = ed_sup.ajustar_amazon_s3(df_ed_sup_2016_clean, './csv_s3/ed_sup_2016_s3.csv')"
   ]
  },
  {
   "cell_type": "code",
   "execution_count": null,
   "metadata": {},
   "outputs": [],
   "source": [
    "df_ed_sup_2017 = ed_sup.load_data_with_correct_delimiter(\"csv/ed_sup_2009.csv\")"
   ]
  },
  {
   "cell_type": "code",
   "execution_count": null,
   "metadata": {},
   "outputs": [],
   "source": [
    "df_ed_sup_2017"
   ]
  },
  {
   "cell_type": "code",
   "execution_count": null,
   "metadata": {},
   "outputs": [],
   "source": [
    "df_ed_sup_2017_clean = ed_sup.clean_data(df_ed_sup_2017)\n",
    "df_ed_sup_2017_clean"
   ]
  },
  {
   "cell_type": "code",
   "execution_count": null,
   "metadata": {},
   "outputs": [],
   "source": [
    "df_ed_sup_2017_s3 = ed_sup.ajustar_amazon_s3(df_ed_sup_2017_clean, './csv_s3/ed_sup_2017_s3.csv')"
   ]
  },
  {
   "cell_type": "code",
   "execution_count": null,
   "metadata": {},
   "outputs": [],
   "source": [
    "df_ed_sup_2018 = ed_sup.load_data_with_correct_delimiter(\"csv/ed_sup_2018.csv\")"
   ]
  },
  {
   "cell_type": "code",
   "execution_count": null,
   "metadata": {},
   "outputs": [],
   "source": [
    "df_ed_sup_2018"
   ]
  },
  {
   "cell_type": "code",
   "execution_count": null,
   "metadata": {},
   "outputs": [],
   "source": [
    "df_ed_sup_2018_clean = ed_sup.clean_data(df_ed_sup_2018)\n",
    "df_ed_sup_2018_clean"
   ]
  },
  {
   "cell_type": "code",
   "execution_count": null,
   "metadata": {},
   "outputs": [],
   "source": [
    "df_ed_sup_2018_s3 = ed_sup.ajustar_amazon_s3(df_ed_sup_2018_clean, './csv_s3/ed_sup_2018_s3.csv')"
   ]
  },
  {
   "cell_type": "code",
   "execution_count": null,
   "metadata": {},
   "outputs": [],
   "source": [
    "df_ed_sup_2019 = ed_sup.load_data_with_correct_delimiter(\"csv/ed_sup_2019.csv\")"
   ]
  },
  {
   "cell_type": "code",
   "execution_count": null,
   "metadata": {},
   "outputs": [],
   "source": [
    "df_ed_sup_2019"
   ]
  },
  {
   "cell_type": "code",
   "execution_count": null,
   "metadata": {},
   "outputs": [],
   "source": [
    "df_ed_sup_2019_clean = ed_sup.clean_data(df_ed_sup_2019)\n",
    "df_ed_sup_2019_clean"
   ]
  },
  {
   "cell_type": "code",
   "execution_count": null,
   "metadata": {},
   "outputs": [],
   "source": [
    "df_ed_sup_2019_s3 = ed_sup.ajustar_amazon_s3(df_ed_sup_2019_clean, './csv_s3/ed_sup_2019_s3.csv')"
   ]
  },
  {
   "cell_type": "code",
   "execution_count": null,
   "metadata": {},
   "outputs": [],
   "source": [
    "df_ed_sup_2020 = ed_sup.load_data_with_correct_delimiter(\"csv/ed_sup_2020.csv\")"
   ]
  },
  {
   "cell_type": "code",
   "execution_count": null,
   "metadata": {},
   "outputs": [],
   "source": [
    "df_ed_sup_2020"
   ]
  },
  {
   "cell_type": "code",
   "execution_count": null,
   "metadata": {},
   "outputs": [],
   "source": [
    "df_ed_sup_2020_clean = ed_sup.clean_data(df_ed_sup_2020)\n",
    "df_ed_sup_2020_clean"
   ]
  },
  {
   "cell_type": "code",
   "execution_count": null,
   "metadata": {},
   "outputs": [],
   "source": [
    "df_ed_sup_2020_s3 = ed_sup.ajustar_amazon_s3(df_ed_sup_2020_clean, './csv_s3/ed_sup_2020_s3.csv')"
   ]
  },
  {
   "cell_type": "code",
   "execution_count": null,
   "metadata": {},
   "outputs": [],
   "source": [
    "df_ed_sup_2021 = ed_sup.load_data_with_correct_delimiter(\"csv/ed_sup_2021.csv\")"
   ]
  },
  {
   "cell_type": "code",
   "execution_count": null,
   "metadata": {},
   "outputs": [],
   "source": [
    "df_ed_sup_2021"
   ]
  },
  {
   "cell_type": "code",
   "execution_count": null,
   "metadata": {},
   "outputs": [],
   "source": [
    "df_ed_sup_2021_clean = ed_sup.clean_data(df_ed_sup_2021)\n",
    "df_ed_sup_2021_clean"
   ]
  },
  {
   "cell_type": "code",
   "execution_count": null,
   "metadata": {},
   "outputs": [],
   "source": [
    "df_ed_sup_2021_s3 = ed_sup.ajustar_amazon_s3(df_ed_sup_2021_clean, './csv_s3/ed_sup_2021_s3.csv')"
   ]
  },
  {
   "cell_type": "code",
   "execution_count": null,
   "metadata": {},
   "outputs": [],
   "source": [
    "df_ed_sup_2022 = ed_sup.load_data_with_correct_delimiter(\"csv/ed_sup_2022.csv\")"
   ]
  },
  {
   "cell_type": "code",
   "execution_count": null,
   "metadata": {},
   "outputs": [],
   "source": [
    "df_ed_sup_2022"
   ]
  },
  {
   "cell_type": "code",
   "execution_count": null,
   "metadata": {},
   "outputs": [],
   "source": [
    "df_ed_sup_2022_clean = ed_sup.clean_data(df_ed_sup_2022)\n",
    "df_ed_sup_2022_clean"
   ]
  },
  {
   "cell_type": "code",
   "execution_count": null,
   "metadata": {},
   "outputs": [],
   "source": [
    "df_ed_sup_2022_s3 = ed_sup.ajustar_amazon_s3(df_ed_sup_2022_clean, './csv_s3/ed_sup_2022_s3.csv')"
   ]
  },
  {
   "cell_type": "code",
   "execution_count": 1,
   "metadata": {},
   "outputs": [
    {
     "name": "stdout",
     "output_type": "stream",
     "text": [
      "Teste Enceja!\n"
     ]
    }
   ],
   "source": [
    "import enceja.lib as enceja\n",
    "\n",
    "enceja.preprocess()"
   ]
  },
  {
   "cell_type": "code",
   "execution_count": null,
   "metadata": {},
   "outputs": [],
   "source": [
    "df_enceja_14 = enceja.load_data_with_correct_delimiter(\"csv/enceja_2014.csv\")"
   ]
  },
  {
   "cell_type": "code",
   "execution_count": null,
   "metadata": {},
   "outputs": [],
   "source": [
    "df_enceja_14"
   ]
  },
  {
   "cell_type": "code",
   "execution_count": null,
   "metadata": {},
   "outputs": [],
   "source": [
    "df_enceja_14_clean = enceja.clean_data(df_enceja_14)\n",
    "df_enceja_14_clean"
   ]
  },
  {
   "cell_type": "code",
   "execution_count": null,
   "metadata": {},
   "outputs": [],
   "source": [
    "df_enceja_14_s3 = enceja.ajustar_amazon_s3(df_enceja_14_clean, './csv_s3/enceja_14_s3.csv')"
   ]
  },
  {
   "cell_type": "code",
   "execution_count": 2,
   "metadata": {},
   "outputs": [],
   "source": [
    "df_enceja_20 = enceja.load_data(\"csv/enceja_2020.csv\")"
   ]
  },
  {
   "cell_type": "code",
   "execution_count": null,
   "metadata": {},
   "outputs": [],
   "source": [
    "df_enceja_20"
   ]
  },
  {
   "cell_type": "code",
   "execution_count": 3,
   "metadata": {},
   "outputs": [
    {
     "data": {
      "text/html": [
       "<div>\n",
       "<style scoped>\n",
       "    .dataframe tbody tr th:only-of-type {\n",
       "        vertical-align: middle;\n",
       "    }\n",
       "\n",
       "    .dataframe tbody tr th {\n",
       "        vertical-align: top;\n",
       "    }\n",
       "\n",
       "    .dataframe thead th {\n",
       "        text-align: right;\n",
       "    }\n",
       "</style>\n",
       "<table border=\"1\" class=\"dataframe\">\n",
       "  <thead>\n",
       "    <tr style=\"text-align: right;\">\n",
       "      <th></th>\n",
       "      <th>NU_INSCRICAO</th>\n",
       "      <th>NU_ANO</th>\n",
       "      <th>TP_CERTIFICACAO</th>\n",
       "      <th>TP_FAIXA_ETARIA</th>\n",
       "      <th>TP_SEXO</th>\n",
       "      <th>CO_UF_PROVA</th>\n",
       "      <th>SG_UF_PROVA</th>\n",
       "      <th>NO_ENTIDADE_CERTIFICADORA</th>\n",
       "      <th>IN_PROVA_LC</th>\n",
       "      <th>IN_PROVA_MT</th>\n",
       "      <th>...</th>\n",
       "      <th>Q57</th>\n",
       "      <th>Q58</th>\n",
       "      <th>Q59</th>\n",
       "      <th>Q60</th>\n",
       "      <th>Q61</th>\n",
       "      <th>Q62</th>\n",
       "      <th>Q63</th>\n",
       "      <th>Q64</th>\n",
       "      <th>Q65</th>\n",
       "      <th>Q66</th>\n",
       "    </tr>\n",
       "  </thead>\n",
       "  <tbody>\n",
       "    <tr>\n",
       "      <th>0</th>\n",
       "      <td>200001318359</td>\n",
       "      <td>2020</td>\n",
       "      <td>2</td>\n",
       "      <td>16</td>\n",
       "      <td>F</td>\n",
       "      <td>43</td>\n",
       "      <td>RS</td>\n",
       "      <td>SECRETARIA DE ESTADO DE EDUCAÇÃO DO RIO GRANDE...</td>\n",
       "      <td>0</td>\n",
       "      <td>1</td>\n",
       "      <td>...</td>\n",
       "      <td>null</td>\n",
       "      <td>B</td>\n",
       "      <td>null</td>\n",
       "      <td>null</td>\n",
       "      <td>null</td>\n",
       "      <td>null</td>\n",
       "      <td>null</td>\n",
       "      <td>null</td>\n",
       "      <td>A</td>\n",
       "      <td>C</td>\n",
       "    </tr>\n",
       "    <tr>\n",
       "      <th>1</th>\n",
       "      <td>200002815765</td>\n",
       "      <td>2020</td>\n",
       "      <td>2</td>\n",
       "      <td>12</td>\n",
       "      <td>M</td>\n",
       "      <td>35</td>\n",
       "      <td>SP</td>\n",
       "      <td>SECRETARIA DE ESTADO DE EDUCAÇÃO DE SÃO PAULO</td>\n",
       "      <td>1</td>\n",
       "      <td>1</td>\n",
       "      <td>...</td>\n",
       "      <td>C</td>\n",
       "      <td>B</td>\n",
       "      <td>null</td>\n",
       "      <td>null</td>\n",
       "      <td>null</td>\n",
       "      <td>null</td>\n",
       "      <td>null</td>\n",
       "      <td>null</td>\n",
       "      <td>A</td>\n",
       "      <td>C</td>\n",
       "    </tr>\n",
       "    <tr>\n",
       "      <th>2</th>\n",
       "      <td>200002310451</td>\n",
       "      <td>2020</td>\n",
       "      <td>2</td>\n",
       "      <td>8</td>\n",
       "      <td>M</td>\n",
       "      <td>53</td>\n",
       "      <td>DF</td>\n",
       "      <td>SECRETARIA DE ESTADO DE EDUCAÇÃO DO DISTRITO F...</td>\n",
       "      <td>1</td>\n",
       "      <td>0</td>\n",
       "      <td>...</td>\n",
       "      <td>null</td>\n",
       "      <td>A</td>\n",
       "      <td>A</td>\n",
       "      <td>A</td>\n",
       "      <td>A</td>\n",
       "      <td>B</td>\n",
       "      <td>A</td>\n",
       "      <td>B</td>\n",
       "      <td>null</td>\n",
       "      <td>null</td>\n",
       "    </tr>\n",
       "    <tr>\n",
       "      <th>3</th>\n",
       "      <td>200001895444</td>\n",
       "      <td>2020</td>\n",
       "      <td>2</td>\n",
       "      <td>11</td>\n",
       "      <td>F</td>\n",
       "      <td>13</td>\n",
       "      <td>AM</td>\n",
       "      <td>SECRETARIA DE ESTADO DE EDUCAÇÃO DO AMAZONAS</td>\n",
       "      <td>1</td>\n",
       "      <td>1</td>\n",
       "      <td>...</td>\n",
       "      <td>C</td>\n",
       "      <td>A</td>\n",
       "      <td>B</td>\n",
       "      <td>B</td>\n",
       "      <td>A</td>\n",
       "      <td>B</td>\n",
       "      <td>A</td>\n",
       "      <td>A</td>\n",
       "      <td>null</td>\n",
       "      <td>null</td>\n",
       "    </tr>\n",
       "    <tr>\n",
       "      <th>4</th>\n",
       "      <td>200002181288</td>\n",
       "      <td>2020</td>\n",
       "      <td>2</td>\n",
       "      <td>13</td>\n",
       "      <td>M</td>\n",
       "      <td>35</td>\n",
       "      <td>SP</td>\n",
       "      <td>SECRETARIA DE ESTADO DE EDUCAÇÃO DE SÃO PAULO</td>\n",
       "      <td>1</td>\n",
       "      <td>1</td>\n",
       "      <td>...</td>\n",
       "      <td>null</td>\n",
       "      <td>A</td>\n",
       "      <td>A</td>\n",
       "      <td>B</td>\n",
       "      <td>A</td>\n",
       "      <td>B</td>\n",
       "      <td>B</td>\n",
       "      <td>E</td>\n",
       "      <td>null</td>\n",
       "      <td>null</td>\n",
       "    </tr>\n",
       "    <tr>\n",
       "      <th>...</th>\n",
       "      <td>...</td>\n",
       "      <td>...</td>\n",
       "      <td>...</td>\n",
       "      <td>...</td>\n",
       "      <td>...</td>\n",
       "      <td>...</td>\n",
       "      <td>...</td>\n",
       "      <td>...</td>\n",
       "      <td>...</td>\n",
       "      <td>...</td>\n",
       "      <td>...</td>\n",
       "      <td>...</td>\n",
       "      <td>...</td>\n",
       "      <td>...</td>\n",
       "      <td>...</td>\n",
       "      <td>...</td>\n",
       "      <td>...</td>\n",
       "      <td>...</td>\n",
       "      <td>...</td>\n",
       "      <td>...</td>\n",
       "      <td>...</td>\n",
       "    </tr>\n",
       "    <tr>\n",
       "      <th>1607836</th>\n",
       "      <td>200001866882</td>\n",
       "      <td>2020</td>\n",
       "      <td>2</td>\n",
       "      <td>15</td>\n",
       "      <td>F</td>\n",
       "      <td>35</td>\n",
       "      <td>SP</td>\n",
       "      <td>SECRETARIA DE ESTADO DE EDUCAÇÃO DE SÃO PAULO</td>\n",
       "      <td>1</td>\n",
       "      <td>1</td>\n",
       "      <td>...</td>\n",
       "      <td>A</td>\n",
       "      <td>A</td>\n",
       "      <td>A</td>\n",
       "      <td>B</td>\n",
       "      <td>B</td>\n",
       "      <td>B</td>\n",
       "      <td>B</td>\n",
       "      <td>null</td>\n",
       "      <td>null</td>\n",
       "      <td>null</td>\n",
       "    </tr>\n",
       "    <tr>\n",
       "      <th>1607837</th>\n",
       "      <td>200001866883</td>\n",
       "      <td>2020</td>\n",
       "      <td>2</td>\n",
       "      <td>11</td>\n",
       "      <td>M</td>\n",
       "      <td>53</td>\n",
       "      <td>DF</td>\n",
       "      <td>INSTITUTO FEDERAL DE EDUCAÇÃO CIÊNCIA E TECNOL...</td>\n",
       "      <td>1</td>\n",
       "      <td>1</td>\n",
       "      <td>...</td>\n",
       "      <td>null</td>\n",
       "      <td>A</td>\n",
       "      <td>B</td>\n",
       "      <td>B</td>\n",
       "      <td>A</td>\n",
       "      <td>A</td>\n",
       "      <td>A</td>\n",
       "      <td>B</td>\n",
       "      <td>null</td>\n",
       "      <td>null</td>\n",
       "    </tr>\n",
       "    <tr>\n",
       "      <th>1607838</th>\n",
       "      <td>200001866884</td>\n",
       "      <td>2020</td>\n",
       "      <td>1</td>\n",
       "      <td>1</td>\n",
       "      <td>F</td>\n",
       "      <td>41</td>\n",
       "      <td>PR</td>\n",
       "      <td>SECRETARIA DE ESTADO DE EDUCAÇÃO DO PARANÁ</td>\n",
       "      <td>1</td>\n",
       "      <td>1</td>\n",
       "      <td>...</td>\n",
       "      <td>B</td>\n",
       "      <td>A</td>\n",
       "      <td>A</td>\n",
       "      <td>A</td>\n",
       "      <td>A</td>\n",
       "      <td>B</td>\n",
       "      <td>A</td>\n",
       "      <td>D</td>\n",
       "      <td>null</td>\n",
       "      <td>null</td>\n",
       "    </tr>\n",
       "    <tr>\n",
       "      <th>1607839</th>\n",
       "      <td>200002570038</td>\n",
       "      <td>2020</td>\n",
       "      <td>2</td>\n",
       "      <td>2</td>\n",
       "      <td>F</td>\n",
       "      <td>31</td>\n",
       "      <td>MG</td>\n",
       "      <td>SECRETARIA DE ESTADO DE EDUCAÇÃO DE MINAS GERAIS</td>\n",
       "      <td>1</td>\n",
       "      <td>1</td>\n",
       "      <td>...</td>\n",
       "      <td>null</td>\n",
       "      <td>A</td>\n",
       "      <td>A</td>\n",
       "      <td>A</td>\n",
       "      <td>A</td>\n",
       "      <td>A</td>\n",
       "      <td>A</td>\n",
       "      <td>D</td>\n",
       "      <td>null</td>\n",
       "      <td>null</td>\n",
       "    </tr>\n",
       "    <tr>\n",
       "      <th>1607840</th>\n",
       "      <td>200002683085</td>\n",
       "      <td>2020</td>\n",
       "      <td>2</td>\n",
       "      <td>2</td>\n",
       "      <td>F</td>\n",
       "      <td>41</td>\n",
       "      <td>PR</td>\n",
       "      <td>SECRETARIA DE ESTADO DE EDUCAÇÃO DO PARANÁ</td>\n",
       "      <td>1</td>\n",
       "      <td>1</td>\n",
       "      <td>...</td>\n",
       "      <td>null</td>\n",
       "      <td>null</td>\n",
       "      <td>null</td>\n",
       "      <td>null</td>\n",
       "      <td>null</td>\n",
       "      <td>null</td>\n",
       "      <td>null</td>\n",
       "      <td>null</td>\n",
       "      <td>null</td>\n",
       "      <td>null</td>\n",
       "    </tr>\n",
       "  </tbody>\n",
       "</table>\n",
       "<p>1607841 rows × 109 columns</p>\n",
       "</div>"
      ],
      "text/plain": [
       "         NU_INSCRICAO  NU_ANO  TP_CERTIFICACAO  TP_FAIXA_ETARIA TP_SEXO  \\\n",
       "0        200001318359    2020                2               16       F   \n",
       "1        200002815765    2020                2               12       M   \n",
       "2        200002310451    2020                2                8       M   \n",
       "3        200001895444    2020                2               11       F   \n",
       "4        200002181288    2020                2               13       M   \n",
       "...               ...     ...              ...              ...     ...   \n",
       "1607836  200001866882    2020                2               15       F   \n",
       "1607837  200001866883    2020                2               11       M   \n",
       "1607838  200001866884    2020                1                1       F   \n",
       "1607839  200002570038    2020                2                2       F   \n",
       "1607840  200002683085    2020                2                2       F   \n",
       "\n",
       "         CO_UF_PROVA SG_UF_PROVA  \\\n",
       "0                 43          RS   \n",
       "1                 35          SP   \n",
       "2                 53          DF   \n",
       "3                 13          AM   \n",
       "4                 35          SP   \n",
       "...              ...         ...   \n",
       "1607836           35          SP   \n",
       "1607837           53          DF   \n",
       "1607838           41          PR   \n",
       "1607839           31          MG   \n",
       "1607840           41          PR   \n",
       "\n",
       "                                 NO_ENTIDADE_CERTIFICADORA  IN_PROVA_LC  \\\n",
       "0        SECRETARIA DE ESTADO DE EDUCAÇÃO DO RIO GRANDE...            0   \n",
       "1            SECRETARIA DE ESTADO DE EDUCAÇÃO DE SÃO PAULO            1   \n",
       "2        SECRETARIA DE ESTADO DE EDUCAÇÃO DO DISTRITO F...            1   \n",
       "3             SECRETARIA DE ESTADO DE EDUCAÇÃO DO AMAZONAS            1   \n",
       "4            SECRETARIA DE ESTADO DE EDUCAÇÃO DE SÃO PAULO            1   \n",
       "...                                                    ...          ...   \n",
       "1607836      SECRETARIA DE ESTADO DE EDUCAÇÃO DE SÃO PAULO            1   \n",
       "1607837  INSTITUTO FEDERAL DE EDUCAÇÃO CIÊNCIA E TECNOL...            1   \n",
       "1607838         SECRETARIA DE ESTADO DE EDUCAÇÃO DO PARANÁ            1   \n",
       "1607839   SECRETARIA DE ESTADO DE EDUCAÇÃO DE MINAS GERAIS            1   \n",
       "1607840         SECRETARIA DE ESTADO DE EDUCAÇÃO DO PARANÁ            1   \n",
       "\n",
       "         IN_PROVA_MT  ...   Q57   Q58   Q59   Q60   Q61   Q62   Q63   Q64  \\\n",
       "0                  1  ...  null     B  null  null  null  null  null  null   \n",
       "1                  1  ...     C     B  null  null  null  null  null  null   \n",
       "2                  0  ...  null     A     A     A     A     B     A     B   \n",
       "3                  1  ...     C     A     B     B     A     B     A     A   \n",
       "4                  1  ...  null     A     A     B     A     B     B     E   \n",
       "...              ...  ...   ...   ...   ...   ...   ...   ...   ...   ...   \n",
       "1607836            1  ...     A     A     A     B     B     B     B  null   \n",
       "1607837            1  ...  null     A     B     B     A     A     A     B   \n",
       "1607838            1  ...     B     A     A     A     A     B     A     D   \n",
       "1607839            1  ...  null     A     A     A     A     A     A     D   \n",
       "1607840            1  ...  null  null  null  null  null  null  null  null   \n",
       "\n",
       "          Q65   Q66  \n",
       "0           A     C  \n",
       "1           A     C  \n",
       "2        null  null  \n",
       "3        null  null  \n",
       "4        null  null  \n",
       "...       ...   ...  \n",
       "1607836  null  null  \n",
       "1607837  null  null  \n",
       "1607838  null  null  \n",
       "1607839  null  null  \n",
       "1607840  null  null  \n",
       "\n",
       "[1607841 rows x 109 columns]"
      ]
     },
     "execution_count": 3,
     "metadata": {},
     "output_type": "execute_result"
    }
   ],
   "source": [
    "df_enceja_20_clean = enceja.clean_data(df_enceja_20)\n",
    "df_enceja_20_clean"
   ]
  },
  {
   "cell_type": "code",
   "execution_count": 4,
   "metadata": {},
   "outputs": [
    {
     "name": "stderr",
     "output_type": "stream",
     "text": [
      "/mnt/c/Users/maluv/OneDrive/Área de Trabalho/INEP/pacotePython/enceja/lib.py:82: FutureWarning: DataFrame.applymap has been deprecated. Use DataFrame.map instead.\n",
      "  df_chunk = df_chunk.applymap(lambda x: x.replace(',', ';') if isinstance(x, str) else x)\n"
     ]
    }
   ],
   "source": [
    "df_enceja_20_s3 = enceja.ajustar_amazon_s3(df_enceja_20_clean, './csv_s3/enceja_20_s3.csv')"
   ]
  },
  {
   "cell_type": "code",
   "execution_count": 2,
   "metadata": {},
   "outputs": [
    {
     "name": "stdout",
     "output_type": "stream",
     "text": [
      "Erro de decodificação com a codificação utf-8: 'utf-8' codec can't decode byte 0xc7 in position 26: invalid continuation byte\n",
      "Arquivo carregado com sucesso usando a codificação ISO-8859-1\n"
     ]
    }
   ],
   "source": [
    "df_enceja_22 = enceja.load_data_with_correct_delimiter(\"csv/enceja_2022.csv\")"
   ]
  },
  {
   "cell_type": "code",
   "execution_count": 3,
   "metadata": {},
   "outputs": [
    {
     "data": {
      "text/html": [
       "<div>\n",
       "<style scoped>\n",
       "    .dataframe tbody tr th:only-of-type {\n",
       "        vertical-align: middle;\n",
       "    }\n",
       "\n",
       "    .dataframe tbody tr th {\n",
       "        vertical-align: top;\n",
       "    }\n",
       "\n",
       "    .dataframe thead th {\n",
       "        text-align: right;\n",
       "    }\n",
       "</style>\n",
       "<table border=\"1\" class=\"dataframe\">\n",
       "  <thead>\n",
       "    <tr style=\"text-align: right;\">\n",
       "      <th></th>\n",
       "      <th>NU_INSCRICAO</th>\n",
       "      <th>NU_ANO</th>\n",
       "      <th>TP_CERTIFICACAO</th>\n",
       "      <th>TP_FAIXA_ETARIA</th>\n",
       "      <th>TP_SEXO</th>\n",
       "      <th>CO_UF_PROVA</th>\n",
       "      <th>SG_UF_PROVA</th>\n",
       "      <th>NO_ENTIDADE_CERTIFICADORA</th>\n",
       "      <th>IN_PROVA_LC</th>\n",
       "      <th>IN_PROVA_MT</th>\n",
       "      <th>...</th>\n",
       "      <th>Q53</th>\n",
       "      <th>Q54</th>\n",
       "      <th>Q55</th>\n",
       "      <th>Q56</th>\n",
       "      <th>Q57</th>\n",
       "      <th>Q58</th>\n",
       "      <th>Q59</th>\n",
       "      <th>Q60</th>\n",
       "      <th>Q61</th>\n",
       "      <th>Q62</th>\n",
       "    </tr>\n",
       "  </thead>\n",
       "  <tbody>\n",
       "    <tr>\n",
       "      <th>0</th>\n",
       "      <td>200004884438</td>\n",
       "      <td>2022</td>\n",
       "      <td>2</td>\n",
       "      <td>15</td>\n",
       "      <td>M</td>\n",
       "      <td>53</td>\n",
       "      <td>DF</td>\n",
       "      <td>INSTITUTO FEDERAL DE EDUCAÇÃO CIÊNCIA E TECNOL...</td>\n",
       "      <td>1</td>\n",
       "      <td>1</td>\n",
       "      <td>...</td>\n",
       "      <td>NaN</td>\n",
       "      <td>NaN</td>\n",
       "      <td>NaN</td>\n",
       "      <td>NaN</td>\n",
       "      <td>NaN</td>\n",
       "      <td>NaN</td>\n",
       "      <td>NaN</td>\n",
       "      <td>NaN</td>\n",
       "      <td>A</td>\n",
       "      <td>C</td>\n",
       "    </tr>\n",
       "    <tr>\n",
       "      <th>1</th>\n",
       "      <td>200004783444</td>\n",
       "      <td>2022</td>\n",
       "      <td>2</td>\n",
       "      <td>11</td>\n",
       "      <td>M</td>\n",
       "      <td>52</td>\n",
       "      <td>GO</td>\n",
       "      <td>INSTITUTO FEDERAL DE EDUCAÇÃO CIÊNCIA E TECNOL...</td>\n",
       "      <td>0</td>\n",
       "      <td>1</td>\n",
       "      <td>...</td>\n",
       "      <td>B</td>\n",
       "      <td>A</td>\n",
       "      <td>B</td>\n",
       "      <td>A</td>\n",
       "      <td>A</td>\n",
       "      <td>A</td>\n",
       "      <td>A</td>\n",
       "      <td>NaN</td>\n",
       "      <td>NaN</td>\n",
       "      <td>NaN</td>\n",
       "    </tr>\n",
       "    <tr>\n",
       "      <th>2</th>\n",
       "      <td>200003542579</td>\n",
       "      <td>2022</td>\n",
       "      <td>2</td>\n",
       "      <td>13</td>\n",
       "      <td>M</td>\n",
       "      <td>35</td>\n",
       "      <td>SP</td>\n",
       "      <td>SECRETARIA DE ESTADO DE EDUCAÇÃO DE SÃO PAULO</td>\n",
       "      <td>1</td>\n",
       "      <td>1</td>\n",
       "      <td>...</td>\n",
       "      <td>NaN</td>\n",
       "      <td>NaN</td>\n",
       "      <td>NaN</td>\n",
       "      <td>NaN</td>\n",
       "      <td>NaN</td>\n",
       "      <td>NaN</td>\n",
       "      <td>NaN</td>\n",
       "      <td>NaN</td>\n",
       "      <td>A</td>\n",
       "      <td>C</td>\n",
       "    </tr>\n",
       "    <tr>\n",
       "      <th>3</th>\n",
       "      <td>200004855636</td>\n",
       "      <td>2022</td>\n",
       "      <td>2</td>\n",
       "      <td>11</td>\n",
       "      <td>M</td>\n",
       "      <td>15</td>\n",
       "      <td>PA</td>\n",
       "      <td>SECRETARIA DE ESTADO DE EDUCAÇÃO DO PARÁ</td>\n",
       "      <td>0</td>\n",
       "      <td>1</td>\n",
       "      <td>...</td>\n",
       "      <td>NaN</td>\n",
       "      <td>NaN</td>\n",
       "      <td>NaN</td>\n",
       "      <td>NaN</td>\n",
       "      <td>NaN</td>\n",
       "      <td>NaN</td>\n",
       "      <td>NaN</td>\n",
       "      <td>NaN</td>\n",
       "      <td>B</td>\n",
       "      <td>NaN</td>\n",
       "    </tr>\n",
       "    <tr>\n",
       "      <th>4</th>\n",
       "      <td>200004773132</td>\n",
       "      <td>2022</td>\n",
       "      <td>2</td>\n",
       "      <td>13</td>\n",
       "      <td>M</td>\n",
       "      <td>42</td>\n",
       "      <td>SC</td>\n",
       "      <td>INSTITUTO FEDERAL DE EDUCAÇÃO CIÊNCIA E TECNOL...</td>\n",
       "      <td>1</td>\n",
       "      <td>1</td>\n",
       "      <td>...</td>\n",
       "      <td>A</td>\n",
       "      <td>A</td>\n",
       "      <td>B</td>\n",
       "      <td>A</td>\n",
       "      <td>A</td>\n",
       "      <td>A</td>\n",
       "      <td>A</td>\n",
       "      <td>A</td>\n",
       "      <td>NaN</td>\n",
       "      <td>NaN</td>\n",
       "    </tr>\n",
       "    <tr>\n",
       "      <th>...</th>\n",
       "      <td>...</td>\n",
       "      <td>...</td>\n",
       "      <td>...</td>\n",
       "      <td>...</td>\n",
       "      <td>...</td>\n",
       "      <td>...</td>\n",
       "      <td>...</td>\n",
       "      <td>...</td>\n",
       "      <td>...</td>\n",
       "      <td>...</td>\n",
       "      <td>...</td>\n",
       "      <td>...</td>\n",
       "      <td>...</td>\n",
       "      <td>...</td>\n",
       "      <td>...</td>\n",
       "      <td>...</td>\n",
       "      <td>...</td>\n",
       "      <td>...</td>\n",
       "      <td>...</td>\n",
       "      <td>...</td>\n",
       "      <td>...</td>\n",
       "    </tr>\n",
       "    <tr>\n",
       "      <th>1683129</th>\n",
       "      <td>200004887968</td>\n",
       "      <td>2022</td>\n",
       "      <td>2</td>\n",
       "      <td>6</td>\n",
       "      <td>F</td>\n",
       "      <td>35</td>\n",
       "      <td>SP</td>\n",
       "      <td>SECRETARIA DE ESTADO DE EDUCAÇÃO DE SÃO PAULO</td>\n",
       "      <td>1</td>\n",
       "      <td>1</td>\n",
       "      <td>...</td>\n",
       "      <td>A</td>\n",
       "      <td>A</td>\n",
       "      <td>B</td>\n",
       "      <td>A</td>\n",
       "      <td>A</td>\n",
       "      <td>B</td>\n",
       "      <td>A</td>\n",
       "      <td>NaN</td>\n",
       "      <td>NaN</td>\n",
       "      <td>NaN</td>\n",
       "    </tr>\n",
       "    <tr>\n",
       "      <th>1683130</th>\n",
       "      <td>200005034300</td>\n",
       "      <td>2022</td>\n",
       "      <td>2</td>\n",
       "      <td>8</td>\n",
       "      <td>M</td>\n",
       "      <td>35</td>\n",
       "      <td>SP</td>\n",
       "      <td>INSTITUTO FEDERAL DE EDUCAÇÃO CIÊNCIA E TECNOL...</td>\n",
       "      <td>1</td>\n",
       "      <td>1</td>\n",
       "      <td>...</td>\n",
       "      <td>A</td>\n",
       "      <td>B</td>\n",
       "      <td>B</td>\n",
       "      <td>A</td>\n",
       "      <td>A</td>\n",
       "      <td>A</td>\n",
       "      <td>A</td>\n",
       "      <td>NaN</td>\n",
       "      <td>NaN</td>\n",
       "      <td>NaN</td>\n",
       "    </tr>\n",
       "    <tr>\n",
       "      <th>1683131</th>\n",
       "      <td>200004810824</td>\n",
       "      <td>2022</td>\n",
       "      <td>2</td>\n",
       "      <td>10</td>\n",
       "      <td>M</td>\n",
       "      <td>35</td>\n",
       "      <td>SP</td>\n",
       "      <td>SECRETARIA DE ESTADO DE EDUCAÇÃO DE SÃO PAULO</td>\n",
       "      <td>1</td>\n",
       "      <td>1</td>\n",
       "      <td>...</td>\n",
       "      <td>B</td>\n",
       "      <td>B</td>\n",
       "      <td>B</td>\n",
       "      <td>A</td>\n",
       "      <td>A</td>\n",
       "      <td>B</td>\n",
       "      <td>A</td>\n",
       "      <td>NaN</td>\n",
       "      <td>NaN</td>\n",
       "      <td>NaN</td>\n",
       "    </tr>\n",
       "    <tr>\n",
       "      <th>1683132</th>\n",
       "      <td>200004810825</td>\n",
       "      <td>2022</td>\n",
       "      <td>1</td>\n",
       "      <td>1</td>\n",
       "      <td>M</td>\n",
       "      <td>33</td>\n",
       "      <td>RJ</td>\n",
       "      <td>SECRETARIA DE ESTADO DE EDUCAÇÃO DO RIO DE JAN...</td>\n",
       "      <td>1</td>\n",
       "      <td>1</td>\n",
       "      <td>...</td>\n",
       "      <td>NaN</td>\n",
       "      <td>NaN</td>\n",
       "      <td>NaN</td>\n",
       "      <td>NaN</td>\n",
       "      <td>NaN</td>\n",
       "      <td>NaN</td>\n",
       "      <td>NaN</td>\n",
       "      <td>NaN</td>\n",
       "      <td>A</td>\n",
       "      <td>C</td>\n",
       "    </tr>\n",
       "    <tr>\n",
       "      <th>1683133</th>\n",
       "      <td>200005002688</td>\n",
       "      <td>2022</td>\n",
       "      <td>2</td>\n",
       "      <td>4</td>\n",
       "      <td>F</td>\n",
       "      <td>35</td>\n",
       "      <td>SP</td>\n",
       "      <td>SECRETARIA DE ESTADO DE EDUCAÇÃO DE SÃO PAULO</td>\n",
       "      <td>1</td>\n",
       "      <td>1</td>\n",
       "      <td>...</td>\n",
       "      <td>A</td>\n",
       "      <td>A</td>\n",
       "      <td>B</td>\n",
       "      <td>A</td>\n",
       "      <td>A</td>\n",
       "      <td>A</td>\n",
       "      <td>A</td>\n",
       "      <td>NaN</td>\n",
       "      <td>NaN</td>\n",
       "      <td>NaN</td>\n",
       "    </tr>\n",
       "  </tbody>\n",
       "</table>\n",
       "<p>1683134 rows × 105 columns</p>\n",
       "</div>"
      ],
      "text/plain": [
       "         NU_INSCRICAO  NU_ANO  TP_CERTIFICACAO  TP_FAIXA_ETARIA TP_SEXO  \\\n",
       "0        200004884438    2022                2               15       M   \n",
       "1        200004783444    2022                2               11       M   \n",
       "2        200003542579    2022                2               13       M   \n",
       "3        200004855636    2022                2               11       M   \n",
       "4        200004773132    2022                2               13       M   \n",
       "...               ...     ...              ...              ...     ...   \n",
       "1683129  200004887968    2022                2                6       F   \n",
       "1683130  200005034300    2022                2                8       M   \n",
       "1683131  200004810824    2022                2               10       M   \n",
       "1683132  200004810825    2022                1                1       M   \n",
       "1683133  200005002688    2022                2                4       F   \n",
       "\n",
       "         CO_UF_PROVA SG_UF_PROVA  \\\n",
       "0                 53          DF   \n",
       "1                 52          GO   \n",
       "2                 35          SP   \n",
       "3                 15          PA   \n",
       "4                 42          SC   \n",
       "...              ...         ...   \n",
       "1683129           35          SP   \n",
       "1683130           35          SP   \n",
       "1683131           35          SP   \n",
       "1683132           33          RJ   \n",
       "1683133           35          SP   \n",
       "\n",
       "                                 NO_ENTIDADE_CERTIFICADORA  IN_PROVA_LC  \\\n",
       "0        INSTITUTO FEDERAL DE EDUCAÇÃO CIÊNCIA E TECNOL...            1   \n",
       "1        INSTITUTO FEDERAL DE EDUCAÇÃO CIÊNCIA E TECNOL...            0   \n",
       "2            SECRETARIA DE ESTADO DE EDUCAÇÃO DE SÃO PAULO            1   \n",
       "3                 SECRETARIA DE ESTADO DE EDUCAÇÃO DO PARÁ            0   \n",
       "4        INSTITUTO FEDERAL DE EDUCAÇÃO CIÊNCIA E TECNOL...            1   \n",
       "...                                                    ...          ...   \n",
       "1683129      SECRETARIA DE ESTADO DE EDUCAÇÃO DE SÃO PAULO            1   \n",
       "1683130  INSTITUTO FEDERAL DE EDUCAÇÃO CIÊNCIA E TECNOL...            1   \n",
       "1683131      SECRETARIA DE ESTADO DE EDUCAÇÃO DE SÃO PAULO            1   \n",
       "1683132  SECRETARIA DE ESTADO DE EDUCAÇÃO DO RIO DE JAN...            1   \n",
       "1683133      SECRETARIA DE ESTADO DE EDUCAÇÃO DE SÃO PAULO            1   \n",
       "\n",
       "         IN_PROVA_MT  ...  Q53  Q54  Q55  Q56  Q57  Q58  Q59  Q60  Q61  Q62  \n",
       "0                  1  ...  NaN  NaN  NaN  NaN  NaN  NaN  NaN  NaN    A    C  \n",
       "1                  1  ...    B    A    B    A    A    A    A  NaN  NaN  NaN  \n",
       "2                  1  ...  NaN  NaN  NaN  NaN  NaN  NaN  NaN  NaN    A    C  \n",
       "3                  1  ...  NaN  NaN  NaN  NaN  NaN  NaN  NaN  NaN    B  NaN  \n",
       "4                  1  ...    A    A    B    A    A    A    A    A  NaN  NaN  \n",
       "...              ...  ...  ...  ...  ...  ...  ...  ...  ...  ...  ...  ...  \n",
       "1683129            1  ...    A    A    B    A    A    B    A  NaN  NaN  NaN  \n",
       "1683130            1  ...    A    B    B    A    A    A    A  NaN  NaN  NaN  \n",
       "1683131            1  ...    B    B    B    A    A    B    A  NaN  NaN  NaN  \n",
       "1683132            1  ...  NaN  NaN  NaN  NaN  NaN  NaN  NaN  NaN    A    C  \n",
       "1683133            1  ...    A    A    B    A    A    A    A  NaN  NaN  NaN  \n",
       "\n",
       "[1683134 rows x 105 columns]"
      ]
     },
     "execution_count": 3,
     "metadata": {},
     "output_type": "execute_result"
    }
   ],
   "source": [
    "df_enceja_22"
   ]
  },
  {
   "cell_type": "code",
   "execution_count": 4,
   "metadata": {},
   "outputs": [
    {
     "data": {
      "text/html": [
       "<div>\n",
       "<style scoped>\n",
       "    .dataframe tbody tr th:only-of-type {\n",
       "        vertical-align: middle;\n",
       "    }\n",
       "\n",
       "    .dataframe tbody tr th {\n",
       "        vertical-align: top;\n",
       "    }\n",
       "\n",
       "    .dataframe thead th {\n",
       "        text-align: right;\n",
       "    }\n",
       "</style>\n",
       "<table border=\"1\" class=\"dataframe\">\n",
       "  <thead>\n",
       "    <tr style=\"text-align: right;\">\n",
       "      <th></th>\n",
       "      <th>NU_INSCRICAO</th>\n",
       "      <th>NU_ANO</th>\n",
       "      <th>TP_CERTIFICACAO</th>\n",
       "      <th>TP_FAIXA_ETARIA</th>\n",
       "      <th>TP_SEXO</th>\n",
       "      <th>CO_UF_PROVA</th>\n",
       "      <th>SG_UF_PROVA</th>\n",
       "      <th>NO_ENTIDADE_CERTIFICADORA</th>\n",
       "      <th>IN_PROVA_LC</th>\n",
       "      <th>IN_PROVA_MT</th>\n",
       "      <th>...</th>\n",
       "      <th>Q53</th>\n",
       "      <th>Q54</th>\n",
       "      <th>Q55</th>\n",
       "      <th>Q56</th>\n",
       "      <th>Q57</th>\n",
       "      <th>Q58</th>\n",
       "      <th>Q59</th>\n",
       "      <th>Q60</th>\n",
       "      <th>Q61</th>\n",
       "      <th>Q62</th>\n",
       "    </tr>\n",
       "  </thead>\n",
       "  <tbody>\n",
       "    <tr>\n",
       "      <th>0</th>\n",
       "      <td>200004884438</td>\n",
       "      <td>2022</td>\n",
       "      <td>2</td>\n",
       "      <td>15</td>\n",
       "      <td>M</td>\n",
       "      <td>53</td>\n",
       "      <td>DF</td>\n",
       "      <td>INSTITUTO FEDERAL DE EDUCAÇÃO CIÊNCIA E TECNOL...</td>\n",
       "      <td>1</td>\n",
       "      <td>1</td>\n",
       "      <td>...</td>\n",
       "      <td>null</td>\n",
       "      <td>null</td>\n",
       "      <td>null</td>\n",
       "      <td>null</td>\n",
       "      <td>null</td>\n",
       "      <td>null</td>\n",
       "      <td>null</td>\n",
       "      <td>null</td>\n",
       "      <td>A</td>\n",
       "      <td>C</td>\n",
       "    </tr>\n",
       "    <tr>\n",
       "      <th>1</th>\n",
       "      <td>200004783444</td>\n",
       "      <td>2022</td>\n",
       "      <td>2</td>\n",
       "      <td>11</td>\n",
       "      <td>M</td>\n",
       "      <td>52</td>\n",
       "      <td>GO</td>\n",
       "      <td>INSTITUTO FEDERAL DE EDUCAÇÃO CIÊNCIA E TECNOL...</td>\n",
       "      <td>0</td>\n",
       "      <td>1</td>\n",
       "      <td>...</td>\n",
       "      <td>B</td>\n",
       "      <td>A</td>\n",
       "      <td>B</td>\n",
       "      <td>A</td>\n",
       "      <td>A</td>\n",
       "      <td>A</td>\n",
       "      <td>A</td>\n",
       "      <td>null</td>\n",
       "      <td>null</td>\n",
       "      <td>null</td>\n",
       "    </tr>\n",
       "    <tr>\n",
       "      <th>2</th>\n",
       "      <td>200003542579</td>\n",
       "      <td>2022</td>\n",
       "      <td>2</td>\n",
       "      <td>13</td>\n",
       "      <td>M</td>\n",
       "      <td>35</td>\n",
       "      <td>SP</td>\n",
       "      <td>SECRETARIA DE ESTADO DE EDUCAÇÃO DE SÃO PAULO</td>\n",
       "      <td>1</td>\n",
       "      <td>1</td>\n",
       "      <td>...</td>\n",
       "      <td>null</td>\n",
       "      <td>null</td>\n",
       "      <td>null</td>\n",
       "      <td>null</td>\n",
       "      <td>null</td>\n",
       "      <td>null</td>\n",
       "      <td>null</td>\n",
       "      <td>null</td>\n",
       "      <td>A</td>\n",
       "      <td>C</td>\n",
       "    </tr>\n",
       "    <tr>\n",
       "      <th>3</th>\n",
       "      <td>200004855636</td>\n",
       "      <td>2022</td>\n",
       "      <td>2</td>\n",
       "      <td>11</td>\n",
       "      <td>M</td>\n",
       "      <td>15</td>\n",
       "      <td>PA</td>\n",
       "      <td>SECRETARIA DE ESTADO DE EDUCAÇÃO DO PARÁ</td>\n",
       "      <td>0</td>\n",
       "      <td>1</td>\n",
       "      <td>...</td>\n",
       "      <td>null</td>\n",
       "      <td>null</td>\n",
       "      <td>null</td>\n",
       "      <td>null</td>\n",
       "      <td>null</td>\n",
       "      <td>null</td>\n",
       "      <td>null</td>\n",
       "      <td>null</td>\n",
       "      <td>B</td>\n",
       "      <td>null</td>\n",
       "    </tr>\n",
       "    <tr>\n",
       "      <th>4</th>\n",
       "      <td>200004773132</td>\n",
       "      <td>2022</td>\n",
       "      <td>2</td>\n",
       "      <td>13</td>\n",
       "      <td>M</td>\n",
       "      <td>42</td>\n",
       "      <td>SC</td>\n",
       "      <td>INSTITUTO FEDERAL DE EDUCAÇÃO CIÊNCIA E TECNOL...</td>\n",
       "      <td>1</td>\n",
       "      <td>1</td>\n",
       "      <td>...</td>\n",
       "      <td>A</td>\n",
       "      <td>A</td>\n",
       "      <td>B</td>\n",
       "      <td>A</td>\n",
       "      <td>A</td>\n",
       "      <td>A</td>\n",
       "      <td>A</td>\n",
       "      <td>A</td>\n",
       "      <td>null</td>\n",
       "      <td>null</td>\n",
       "    </tr>\n",
       "    <tr>\n",
       "      <th>...</th>\n",
       "      <td>...</td>\n",
       "      <td>...</td>\n",
       "      <td>...</td>\n",
       "      <td>...</td>\n",
       "      <td>...</td>\n",
       "      <td>...</td>\n",
       "      <td>...</td>\n",
       "      <td>...</td>\n",
       "      <td>...</td>\n",
       "      <td>...</td>\n",
       "      <td>...</td>\n",
       "      <td>...</td>\n",
       "      <td>...</td>\n",
       "      <td>...</td>\n",
       "      <td>...</td>\n",
       "      <td>...</td>\n",
       "      <td>...</td>\n",
       "      <td>...</td>\n",
       "      <td>...</td>\n",
       "      <td>...</td>\n",
       "      <td>...</td>\n",
       "    </tr>\n",
       "    <tr>\n",
       "      <th>1683129</th>\n",
       "      <td>200004887968</td>\n",
       "      <td>2022</td>\n",
       "      <td>2</td>\n",
       "      <td>6</td>\n",
       "      <td>F</td>\n",
       "      <td>35</td>\n",
       "      <td>SP</td>\n",
       "      <td>SECRETARIA DE ESTADO DE EDUCAÇÃO DE SÃO PAULO</td>\n",
       "      <td>1</td>\n",
       "      <td>1</td>\n",
       "      <td>...</td>\n",
       "      <td>A</td>\n",
       "      <td>A</td>\n",
       "      <td>B</td>\n",
       "      <td>A</td>\n",
       "      <td>A</td>\n",
       "      <td>B</td>\n",
       "      <td>A</td>\n",
       "      <td>null</td>\n",
       "      <td>null</td>\n",
       "      <td>null</td>\n",
       "    </tr>\n",
       "    <tr>\n",
       "      <th>1683130</th>\n",
       "      <td>200005034300</td>\n",
       "      <td>2022</td>\n",
       "      <td>2</td>\n",
       "      <td>8</td>\n",
       "      <td>M</td>\n",
       "      <td>35</td>\n",
       "      <td>SP</td>\n",
       "      <td>INSTITUTO FEDERAL DE EDUCAÇÃO CIÊNCIA E TECNOL...</td>\n",
       "      <td>1</td>\n",
       "      <td>1</td>\n",
       "      <td>...</td>\n",
       "      <td>A</td>\n",
       "      <td>B</td>\n",
       "      <td>B</td>\n",
       "      <td>A</td>\n",
       "      <td>A</td>\n",
       "      <td>A</td>\n",
       "      <td>A</td>\n",
       "      <td>null</td>\n",
       "      <td>null</td>\n",
       "      <td>null</td>\n",
       "    </tr>\n",
       "    <tr>\n",
       "      <th>1683131</th>\n",
       "      <td>200004810824</td>\n",
       "      <td>2022</td>\n",
       "      <td>2</td>\n",
       "      <td>10</td>\n",
       "      <td>M</td>\n",
       "      <td>35</td>\n",
       "      <td>SP</td>\n",
       "      <td>SECRETARIA DE ESTADO DE EDUCAÇÃO DE SÃO PAULO</td>\n",
       "      <td>1</td>\n",
       "      <td>1</td>\n",
       "      <td>...</td>\n",
       "      <td>B</td>\n",
       "      <td>B</td>\n",
       "      <td>B</td>\n",
       "      <td>A</td>\n",
       "      <td>A</td>\n",
       "      <td>B</td>\n",
       "      <td>A</td>\n",
       "      <td>null</td>\n",
       "      <td>null</td>\n",
       "      <td>null</td>\n",
       "    </tr>\n",
       "    <tr>\n",
       "      <th>1683132</th>\n",
       "      <td>200004810825</td>\n",
       "      <td>2022</td>\n",
       "      <td>1</td>\n",
       "      <td>1</td>\n",
       "      <td>M</td>\n",
       "      <td>33</td>\n",
       "      <td>RJ</td>\n",
       "      <td>SECRETARIA DE ESTADO DE EDUCAÇÃO DO RIO DE JAN...</td>\n",
       "      <td>1</td>\n",
       "      <td>1</td>\n",
       "      <td>...</td>\n",
       "      <td>null</td>\n",
       "      <td>null</td>\n",
       "      <td>null</td>\n",
       "      <td>null</td>\n",
       "      <td>null</td>\n",
       "      <td>null</td>\n",
       "      <td>null</td>\n",
       "      <td>null</td>\n",
       "      <td>A</td>\n",
       "      <td>C</td>\n",
       "    </tr>\n",
       "    <tr>\n",
       "      <th>1683133</th>\n",
       "      <td>200005002688</td>\n",
       "      <td>2022</td>\n",
       "      <td>2</td>\n",
       "      <td>4</td>\n",
       "      <td>F</td>\n",
       "      <td>35</td>\n",
       "      <td>SP</td>\n",
       "      <td>SECRETARIA DE ESTADO DE EDUCAÇÃO DE SÃO PAULO</td>\n",
       "      <td>1</td>\n",
       "      <td>1</td>\n",
       "      <td>...</td>\n",
       "      <td>A</td>\n",
       "      <td>A</td>\n",
       "      <td>B</td>\n",
       "      <td>A</td>\n",
       "      <td>A</td>\n",
       "      <td>A</td>\n",
       "      <td>A</td>\n",
       "      <td>null</td>\n",
       "      <td>null</td>\n",
       "      <td>null</td>\n",
       "    </tr>\n",
       "  </tbody>\n",
       "</table>\n",
       "<p>1683134 rows × 105 columns</p>\n",
       "</div>"
      ],
      "text/plain": [
       "         NU_INSCRICAO  NU_ANO  TP_CERTIFICACAO  TP_FAIXA_ETARIA TP_SEXO  \\\n",
       "0        200004884438    2022                2               15       M   \n",
       "1        200004783444    2022                2               11       M   \n",
       "2        200003542579    2022                2               13       M   \n",
       "3        200004855636    2022                2               11       M   \n",
       "4        200004773132    2022                2               13       M   \n",
       "...               ...     ...              ...              ...     ...   \n",
       "1683129  200004887968    2022                2                6       F   \n",
       "1683130  200005034300    2022                2                8       M   \n",
       "1683131  200004810824    2022                2               10       M   \n",
       "1683132  200004810825    2022                1                1       M   \n",
       "1683133  200005002688    2022                2                4       F   \n",
       "\n",
       "         CO_UF_PROVA SG_UF_PROVA  \\\n",
       "0                 53          DF   \n",
       "1                 52          GO   \n",
       "2                 35          SP   \n",
       "3                 15          PA   \n",
       "4                 42          SC   \n",
       "...              ...         ...   \n",
       "1683129           35          SP   \n",
       "1683130           35          SP   \n",
       "1683131           35          SP   \n",
       "1683132           33          RJ   \n",
       "1683133           35          SP   \n",
       "\n",
       "                                 NO_ENTIDADE_CERTIFICADORA  IN_PROVA_LC  \\\n",
       "0        INSTITUTO FEDERAL DE EDUCAÇÃO CIÊNCIA E TECNOL...            1   \n",
       "1        INSTITUTO FEDERAL DE EDUCAÇÃO CIÊNCIA E TECNOL...            0   \n",
       "2            SECRETARIA DE ESTADO DE EDUCAÇÃO DE SÃO PAULO            1   \n",
       "3                 SECRETARIA DE ESTADO DE EDUCAÇÃO DO PARÁ            0   \n",
       "4        INSTITUTO FEDERAL DE EDUCAÇÃO CIÊNCIA E TECNOL...            1   \n",
       "...                                                    ...          ...   \n",
       "1683129      SECRETARIA DE ESTADO DE EDUCAÇÃO DE SÃO PAULO            1   \n",
       "1683130  INSTITUTO FEDERAL DE EDUCAÇÃO CIÊNCIA E TECNOL...            1   \n",
       "1683131      SECRETARIA DE ESTADO DE EDUCAÇÃO DE SÃO PAULO            1   \n",
       "1683132  SECRETARIA DE ESTADO DE EDUCAÇÃO DO RIO DE JAN...            1   \n",
       "1683133      SECRETARIA DE ESTADO DE EDUCAÇÃO DE SÃO PAULO            1   \n",
       "\n",
       "         IN_PROVA_MT  ...   Q53   Q54   Q55   Q56   Q57   Q58   Q59   Q60  \\\n",
       "0                  1  ...  null  null  null  null  null  null  null  null   \n",
       "1                  1  ...     B     A     B     A     A     A     A  null   \n",
       "2                  1  ...  null  null  null  null  null  null  null  null   \n",
       "3                  1  ...  null  null  null  null  null  null  null  null   \n",
       "4                  1  ...     A     A     B     A     A     A     A     A   \n",
       "...              ...  ...   ...   ...   ...   ...   ...   ...   ...   ...   \n",
       "1683129            1  ...     A     A     B     A     A     B     A  null   \n",
       "1683130            1  ...     A     B     B     A     A     A     A  null   \n",
       "1683131            1  ...     B     B     B     A     A     B     A  null   \n",
       "1683132            1  ...  null  null  null  null  null  null  null  null   \n",
       "1683133            1  ...     A     A     B     A     A     A     A  null   \n",
       "\n",
       "          Q61   Q62  \n",
       "0           A     C  \n",
       "1        null  null  \n",
       "2           A     C  \n",
       "3           B  null  \n",
       "4        null  null  \n",
       "...       ...   ...  \n",
       "1683129  null  null  \n",
       "1683130  null  null  \n",
       "1683131  null  null  \n",
       "1683132     A     C  \n",
       "1683133  null  null  \n",
       "\n",
       "[1683134 rows x 105 columns]"
      ]
     },
     "execution_count": 4,
     "metadata": {},
     "output_type": "execute_result"
    }
   ],
   "source": [
    "df_enceja_22_clean = enceja.clean_data(df_enceja_22)\n",
    "df_enceja_22_clean"
   ]
  },
  {
   "cell_type": "code",
   "execution_count": 5,
   "metadata": {},
   "outputs": [
    {
     "name": "stderr",
     "output_type": "stream",
     "text": [
      "/mnt/c/Users/maluv/OneDrive/Área de Trabalho/INEP/pacotePython/enceja/lib.py:82: FutureWarning: DataFrame.applymap has been deprecated. Use DataFrame.map instead.\n",
      "  df_chunk = df_chunk.applymap(lambda x: x.replace(',', ';') if isinstance(x, str) else x)\n"
     ]
    }
   ],
   "source": [
    "df_enceja_22_s3 = enceja.ajustar_amazon_s3(df_enceja_22_clean, './csv_s3/enceja_22_s3.csv')"
   ]
  },
  {
   "cell_type": "code",
   "execution_count": null,
   "metadata": {},
   "outputs": [],
   "source": []
  }
 ],
 "metadata": {
  "kernelspec": {
   "display_name": "Python 3",
   "language": "python",
   "name": "python3"
  },
  "language_info": {
   "codemirror_mode": {
    "name": "ipython",
    "version": 3
   },
   "file_extension": ".py",
   "mimetype": "text/x-python",
   "name": "python",
   "nbconvert_exporter": "python",
   "pygments_lexer": "ipython3",
   "version": "3.10.6"
  }
 },
 "nbformat": 4,
 "nbformat_minor": 2
}
