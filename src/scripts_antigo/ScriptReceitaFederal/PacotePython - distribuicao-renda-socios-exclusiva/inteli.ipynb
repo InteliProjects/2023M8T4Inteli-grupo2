{
 "cells": [
  {
   "cell_type": "code",
   "execution_count": 1,
   "metadata": {},
   "outputs": [
    {
     "name": "stdout",
     "output_type": "stream",
     "text": [
      "Processing c:\\users\\joao\\desktop\\pacotepython - distribuicao-renda-socios-exclusivaNote: you may need to restart the kernel to use updated packages.\n"
     ]
    },
    {
     "name": "stderr",
     "output_type": "stream",
     "text": [
      "\n",
      "[notice] A new release of pip is available: 23.1.2 -> 23.3.1\n",
      "[notice] To update, run: python.exe -m pip install --upgrade pip\n"
     ]
    },
    {
     "name": "stdout",
     "output_type": "stream",
     "text": [
      "\n",
      "  Installing build dependencies: started\n",
      "  Installing build dependencies: finished with status 'done'\n",
      "  Getting requirements to build wheel: started\n",
      "  Getting requirements to build wheel: finished with status 'done'\n",
      "  Preparing metadata (pyproject.toml): started\n",
      "  Preparing metadata (pyproject.toml): finished with status 'done'\n",
      "Building wheels for collected packages: intelidata\n",
      "  Building wheel for intelidata (pyproject.toml): started\n",
      "  Building wheel for intelidata (pyproject.toml): finished with status 'done'\n",
      "  Created wheel for intelidata: filename=intelidata-0.0.0-py3-none-any.whl size=1721 sha256=d565a4da59ea5a3eb22981cbd55c44f55e55e4e68cbff6af98373eccc222aa19\n",
      "  Stored in directory: c:\\users\\joao\\appdata\\local\\pip\\cache\\wheels\\9d\\ca\\39\\5ad712db67118ee62512ea74b5b452edcd77c8dc83b8d89b3d\n",
      "Successfully built intelidata\n",
      "Installing collected packages: intelidata\n",
      "  Attempting uninstall: intelidata\n",
      "    Found existing installation: intelidata 0.0.0\n",
      "    Uninstalling intelidata-0.0.0:\n",
      "      Successfully uninstalled intelidata-0.0.0\n",
      "Successfully installed intelidata-0.0.0\n",
      "Note: you may need to restart the kernel to use updated packages.Requirement already satisfied: pandas in c:\\python311\\lib\\site-packages (2.1.2)\n",
      "Requirement already satisfied: numpy<2,>=1.23.2 in c:\\python311\\lib\\site-packages (from pandas) (1.24.3)\n",
      "Requirement already satisfied: python-dateutil>=2.8.2 in c:\\users\\joao\\appdata\\roaming\\python\\python311\\site-packages (from pandas) (2.8.2)\n",
      "Requirement already satisfied: pytz>=2020.1 in c:\\python311\\lib\\site-packages (from pandas) (2023.3.post1)\n",
      "Requirement already satisfied: tzdata>=2022.1 in c:\\python311\\lib\\site-packages (from pandas) (2023.3)\n",
      "Requirement already satisfied: six>=1.5 in c:\\users\\joao\\appdata\\roaming\\python\\python311\\site-packages (from python-dateutil>=2.8.2->pandas) (1.16.0)\n",
      "\n"
     ]
    },
    {
     "name": "stderr",
     "output_type": "stream",
     "text": [
      "\n",
      "[notice] A new release of pip is available: 23.1.2 -> 23.3.1\n",
      "[notice] To update, run: python.exe -m pip install --upgrade pip\n"
     ]
    },
    {
     "name": "stdout",
     "output_type": "stream",
     "text": [
      "Note: you may need to restart the kernel to use updated packages.\n"
     ]
    },
    {
     "name": "stderr",
     "output_type": "stream",
     "text": [
      "ERROR: unknown command \"pytest\"\n",
      "\n"
     ]
    },
    {
     "name": "stdout",
     "output_type": "stream",
     "text": [
      "Note: you may need to restart the kernel to use updated packages.\n"
     ]
    },
    {
     "name": "stderr",
     "output_type": "stream",
     "text": [
      "ERROR: unknown command \"boto3\"\n",
      "\n"
     ]
    },
    {
     "name": "stdout",
     "output_type": "stream",
     "text": [
      "Note: you may need to restart the kernel to use updated packages.\n"
     ]
    },
    {
     "name": "stderr",
     "output_type": "stream",
     "text": [
      "ERROR: unknown command \"numpy\"\n",
      "\n"
     ]
    },
    {
     "name": "stdout",
     "output_type": "stream",
     "text": [
      "Note: you may need to restart the kernel to use updated packages.\n"
     ]
    },
    {
     "name": "stderr",
     "output_type": "stream",
     "text": [
      "ERROR: unknown command \"azure-storage-blob\"\n",
      "\n"
     ]
    },
    {
     "name": "stdout",
     "output_type": "stream",
     "text": [
      "Note: you may need to restart the kernel to use updated packages.\n"
     ]
    },
    {
     "name": "stderr",
     "output_type": "stream",
     "text": [
      "ERROR: unknown command \"google-cloud-storage\"\n",
      "\n"
     ]
    }
   ],
   "source": [
    "%pip install .\n",
    "%pip install pandas\n",
    "%pip pytest\n",
    "%pip boto3\n",
    "%pip numpy\n",
    "%pip azure-storage-blob\n",
    "%pip google-cloud-storage\n"
   ]
  },
  {
   "cell_type": "code",
   "execution_count": 2,
   "metadata": {},
   "outputs": [
    {
     "name": "stdout",
     "output_type": "stream",
     "text": [
      "Importação de Funções Ok!\n"
     ]
    }
   ],
   "source": [
    "import intelidata.lib as inteli\n",
    "\n",
    "inteli.preprocess()"
   ]
  },
  {
   "cell_type": "code",
   "execution_count": 3,
   "metadata": {},
   "outputs": [
    {
     "name": "stdout",
     "output_type": "stream",
     "text": [
      "\u001b[1m============================= test session starts =============================\u001b[0m\n",
      "platform win32 -- Python 3.10.9, pytest-7.1.2, pluggy-1.0.0 -- C:\\Users\\joao\\anaconda3\\python.exe\n",
      "cachedir: .pytest_cache\n",
      "rootdir: c:\\Users\\joao\\Desktop\\pacotePython - distribuicao-renda-socios-exclusiva\n",
      "plugins: anyio-3.5.0\n",
      "\u001b[1mcollecting ... \u001b[0mcollected 0 items\n",
      "\n",
      "\u001b[33m============================ \u001b[33mno tests ran\u001b[0m\u001b[33m in 0.01s\u001b[0m\u001b[33m ============================\u001b[0m\n"
     ]
    },
    {
     "name": "stderr",
     "output_type": "stream",
     "text": [
      "\u001b[31mERROR: file or directory not found: #\n",
      "\u001b[0m\n"
     ]
    }
   ],
   "source": [
    "!pytest tests -v # verbose"
   ]
  },
  {
   "cell_type": "code",
   "execution_count": 4,
   "metadata": {},
   "outputs": [
    {
     "name": "stdout",
     "output_type": "stream",
     "text": [
      "   Ano-Calendário Ente Federativo Centil  Quantidade de Contribuintes  \\\n",
      "0            2006          BRASIL      1                      241.563   \n",
      "1            2006          BRASIL      2                      241.563   \n",
      "2            2006          BRASIL      3                      241.562   \n",
      "3            2006          BRASIL      4                      241.563   \n",
      "4            2006          BRASIL      5                      241.562   \n",
      "\n",
      "  Rendimentos Tributaveis - Limite Superior da RB2 do Centil [R$ milhões]  \\\n",
      "0                                                NaN                        \n",
      "1                                                NaN                        \n",
      "2                                                NaN                        \n",
      "3                                                NaN                        \n",
      "4                                                NaN                        \n",
      "\n",
      "  Rendimentos Tributaveis - Soma da RB2 do Centil [R$ milhões]  \\\n",
      "0                                                NaN             \n",
      "1                                                NaN             \n",
      "2                                                NaN             \n",
      "3                                                NaN             \n",
      "4                                                NaN             \n",
      "\n",
      "  Rendimentos Tributaveis - RB2 Acumulada do Centil [R$ milhões]  \\\n",
      "0                                                NaN               \n",
      "1                                                NaN               \n",
      "2                                                NaN               \n",
      "3                                                NaN               \n",
      "4                                                NaN               \n",
      "\n",
      "  Rendimentos Tributaveis - Média da RB2 do Centil [R$]  \\\n",
      "0                                                NaN      \n",
      "1                                                NaN      \n",
      "2                                                NaN      \n",
      "3                                                NaN      \n",
      "4                                                NaN      \n",
      "\n",
      "  Rendimentos Sujeitos à Tribut. Exclusiva [R$ milhões]  \\\n",
      "0                                                NaN      \n",
      "1                                                NaN      \n",
      "2                                                NaN      \n",
      "3                                                NaN      \n",
      "4                                                NaN      \n",
      "\n",
      "  Rendimentos Isentos - Lucros e dividendos [R$ milhões]  ...  \\\n",
      "0                                                NaN      ...   \n",
      "1                                                NaN      ...   \n",
      "2                                                NaN      ...   \n",
      "3                                                NaN      ...   \n",
      "4                                                NaN      ...   \n",
      "\n",
      "  Despesas Dedutíveis - Instrução [R$ milhões]  \\\n",
      "0                                          NaN   \n",
      "1                                          NaN   \n",
      "2                                          NaN   \n",
      "3                                                \n",
      "4                                          NaN   \n",
      "\n",
      "  Despesas Dedutíveis - Médicas [R$ milhões]  \\\n",
      "0                                        NaN   \n",
      "1                                        NaN   \n",
      "2                                        NaN   \n",
      "3                                        NaN   \n",
      "4                                        NaN   \n",
      "\n",
      "  Despesas Dedutíveis - Pensão Alimentícia [R$ milhões]  \\\n",
      "0                                                NaN      \n",
      "1                                                NaN      \n",
      "2                                                NaN      \n",
      "3                                                NaN      \n",
      "4                                                NaN      \n",
      "\n",
      "  Despesas Dedutíveis - Livro-Caixa [R$ milhões] Imposto Devido [R$ milhões]  \\\n",
      "0                                            NaN                        0,18   \n",
      "1                                            NaN                        0,24   \n",
      "2                                            NaN                        0,25   \n",
      "3                                            NaN                        0,18   \n",
      "4                                            NaN                        0,16   \n",
      "\n",
      "  Bens e Direitos - Imóveis [R$ milhões]  \\\n",
      "0                               4.142,10   \n",
      "1                               4.017,30   \n",
      "2                               4.098,26   \n",
      "3                               4.555,01   \n",
      "4                               4.051,59   \n",
      "\n",
      "  Bens e Direitos - Móveis [R$ milhões]  \\\n",
      "0                                441,35   \n",
      "1                                454,92   \n",
      "2                                431,59   \n",
      "3                                447,49   \n",
      "4                                462,37   \n",
      "\n",
      "  Bens e Direitos - Financeiros [R$ milhões]  \\\n",
      "0                                   3.412,92   \n",
      "1                                   3.071,05   \n",
      "2                                   2.692,38   \n",
      "3                                   3.136,95   \n",
      "4                                   2.649,63   \n",
      "\n",
      "  Bens e Direitos - Outros Bens e Direitos [R$ milhões]  \\\n",
      "0                                             962,08      \n",
      "1                                             629,11      \n",
      "2                                             165,29      \n",
      "3                                             162,85      \n",
      "4                                             183,02      \n",
      "\n",
      "  Dívidas e Ônus [R$ milhões]  \n",
      "0                    1.318,81  \n",
      "1                      431,79  \n",
      "2                      835,17  \n",
      "3                      344,75  \n",
      "4                      364,52  \n",
      "\n",
      "[5 rows x 24 columns]\n"
     ]
    }
   ],
   "source": [
    "import intelidata.lib as inteli\n",
    "\n",
    "# Exemplo direto de uso da função:\n",
    "caminho_arquivo = './csv/distribuicao-renda-socios-exclusiva.csv'\n",
    "\n",
    "quadro_dados = inteli.force_read(caminho_arquivo)\n",
    "\n",
    "if quadro_dados is not None:\n",
    "    # Continue com o seu código usando o DataFrame\n",
    "    print(quadro_dados.head())\n",
    "else:\n",
    "    # Lidar com o erro conforme necessário\n",
    "    print(\"Não foi possível ler o arquivo CSV.\")"
   ]
  },
  {
   "cell_type": "code",
   "execution_count": 5,
   "metadata": {},
   "outputs": [],
   "source": [
    "# Este código garante que o notebook sempre vai buscar os módulos\n",
    "##%load_ext autoreload\n",
    "#%autoreload 2"
   ]
  },
  {
   "cell_type": "code",
   "execution_count": 6,
   "metadata": {},
   "outputs": [],
   "source": [
    "##import intelidata.lib as inteli\n",
    "\n",
    "##data = inteli.clean_data(df)"
   ]
  }
 ],
 "metadata": {
  "kernelspec": {
   "display_name": "Python 3",
   "language": "python",
   "name": "python3"
  },
  "language_info": {
   "codemirror_mode": {
    "name": "ipython",
    "version": 3
   },
   "file_extension": ".py",
   "mimetype": "text/x-python",
   "name": "python",
   "nbconvert_exporter": "python",
   "pygments_lexer": "ipython3",
   "version": "3.11.0"
  }
 },
 "nbformat": 4,
 "nbformat_minor": 2
}
