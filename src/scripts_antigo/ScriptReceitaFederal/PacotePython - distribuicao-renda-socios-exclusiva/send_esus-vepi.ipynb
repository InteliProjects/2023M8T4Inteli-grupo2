{
 "cells": [
  {
   "cell_type": "code",
   "execution_count": 1,
   "metadata": {},
   "outputs": [
    {
     "name": "stdout",
     "output_type": "stream",
     "text": [
      "Requirement already satisfied: python-dotenv in c:\\python311\\lib\\site-packages (1.0.0)\n"
     ]
    },
    {
     "name": "stderr",
     "output_type": "stream",
     "text": [
      "\n",
      "[notice] A new release of pip is available: 23.1.2 -> 23.3.1\n",
      "[notice] To update, run: python.exe -m pip install --upgrade pip\n"
     ]
    }
   ],
   "source": [
    "!pip install python-dotenv"
   ]
  },
  {
   "cell_type": "code",
   "execution_count": 2,
   "metadata": {},
   "outputs": [
    {
     "data": {
      "text/plain": [
       "True"
      ]
     },
     "execution_count": 2,
     "metadata": {},
     "output_type": "execute_result"
    }
   ],
   "source": [
    "from dotenv import load_dotenv\n",
    "load_dotenv()"
   ]
  },
  {
   "cell_type": "code",
   "execution_count": 3,
   "metadata": {},
   "outputs": [
    {
     "name": "stdout",
     "output_type": "stream",
     "text": [
      "Arquivo distribuicao-renda-socios-exclusiva.csv enviado com sucesso para o Amazon S3!\n"
     ]
    }
   ],
   "source": [
    "import boto3\n",
    "from botocore.exceptions import NoCredentialsError\n",
    "import os \n",
    "\n",
    "# Defina as credenciais e token de sessão\n",
    "aws_access_key_id = os.getenv(\"aws_access_key_id\")\n",
    "aws_secret_access_key = os.getenv(\"aws_secret_access_key\")\n",
    "aws_session_token = ''\n",
    "\n",
    "# Nome do arquivo local que você deseja enviar para o Amazon S3\n",
    "nome_arquivo_local = 'distribuicao-renda-socios-exclusiva.csv'\n",
    "\n",
    "# Nome do bucket S3 e nome do arquivo no bucket\n",
    "nome_bucket_s3 = ''\n",
    "nome_arquivo_s3 = 'distribuicao-renda-socios-exclusiva.csv'\n",
    "\n",
    "# Crie uma sessão do boto3 usando as credenciais e o token de sessão fornecidos\n",
    "s3 = boto3.session.Session(\n",
    "    aws_access_key_id=aws_access_key_id,\n",
    "    aws_secret_access_key=aws_secret_access_key,\n",
    "    aws_session_token=aws_session_token\n",
    ").resource('s3')\n",
    "\n",
    "try:\n",
    "    # Faça upload do arquivo para o Amazon S3\n",
    "    s3.Bucket(nome_bucket_s3).upload_file(nome_arquivo_local, nome_arquivo_s3)\n",
    "    print(f'Arquivo {nome_arquivo_local} enviado com sucesso para o Amazon S3!')\n",
    "except FileNotFoundError:\n",
    "    print(f'O arquivo {nome_arquivo_local} não foi encontrado.')\n",
    "except NoCredentialsError:\n",
    "    print('Credenciais não encontradas ou inválidas.')\n",
    "except Exception as e:\n",
    "    print(f'Ocorreu um erro: {e}')"
   ]
  }
 ],
 "metadata": {
  "kernelspec": {
   "display_name": "Python 3",
   "language": "python",
   "name": "python3"
  },
  "language_info": {
   "codemirror_mode": {
    "name": "ipython",
    "version": 3
   },
   "file_extension": ".py",
   "mimetype": "text/x-python",
   "name": "python",
   "nbconvert_exporter": "python",
   "pygments_lexer": "ipython3",
   "version": "3.11.0"
  }
 },
 "nbformat": 4,
 "nbformat_minor": 2
}
