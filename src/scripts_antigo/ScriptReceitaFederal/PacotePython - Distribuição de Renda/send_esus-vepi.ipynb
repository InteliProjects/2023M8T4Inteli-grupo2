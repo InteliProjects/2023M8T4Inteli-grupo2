{
 "cells": [
  {
   "cell_type": "code",
   "execution_count": 5,
   "metadata": {},
   "outputs": [
    {
     "name": "stdout",
     "output_type": "stream",
     "text": [
      "Requirement already satisfied: python-dotenv in c:\\python311\\lib\\site-packages (1.0.0)"
     ]
    },
    {
     "name": "stderr",
     "output_type": "stream",
     "text": [
      "\n",
      "[notice] A new release of pip is available: 23.1.2 -> 23.3.1\n",
      "[notice] To update, run: python.exe -m pip install --upgrade pip\n"
     ]
    },
    {
     "name": "stdout",
     "output_type": "stream",
     "text": [
      "\n"
     ]
    }
   ],
   "source": [
    "!pip install python-dotenv"
   ]
  },
  {
   "cell_type": "code",
   "execution_count": 6,
   "metadata": {},
   "outputs": [
    {
     "data": {
      "text/plain": [
       "True"
      ]
     },
     "execution_count": 6,
     "metadata": {},
     "output_type": "execute_result"
    }
   ],
   "source": [
    "from dotenv import load_dotenv\n",
    "load_dotenv()"
   ]
  },
  {
   "cell_type": "code",
   "execution_count": 7,
   "metadata": {},
   "outputs": [
    {
     "name": "stdout",
     "output_type": "stream",
     "text": [
      "Ocorreu um erro: Parameter validation failed:\n",
      "Invalid bucket name \"\": Bucket name must match the regex \"^[a-zA-Z0-9.\\-_]{1,255}$\" or be an ARN matching the regex \"^arn:(aws).*:(s3|s3-object-lambda):[a-z\\-0-9]*:[0-9]{12}:accesspoint[/:][a-zA-Z0-9\\-.]{1,63}$|^arn:(aws).*:s3-outposts:[a-z\\-0-9]+:[0-9]{12}:outpost[/:][a-zA-Z0-9\\-]{1,63}[/:]accesspoint[/:][a-zA-Z0-9\\-]{1,63}$\"\n"
     ]
    }
   ],
   "source": [
    "import boto3\n",
    "from botocore.exceptions import NoCredentialsError\n",
    "import os  \n",
    "\n",
    "# Defina as credenciais e token de sessão\n",
    "aws_access_key_id = os.getenv(\"aws_access_key_id\")\n",
    "aws_secret_access_key = os.getenv(\"aws_secret_access_key\")\n",
    "aws_session_token = ''\n",
    "\n",
    "# Nome do arquivo local que você deseja enviar para o Amazon S3\n",
    "nome_arquivo_local = 'distribuicao-renda.csv'\n",
    "\n",
    "# Nome do bucket S3 e nome do arquivo no bucket\n",
    "nome_bucket_s3 = ''\n",
    "nome_arquivo_s3 = 'distribuicao-renda.csv'\n",
    "\n",
    "# Crie uma sessão do boto3 usando as credenciais e o token de sessão fornecidos\n",
    "s3 = boto3.session.Session(\n",
    "    aws_access_key_id=aws_access_key_id,\n",
    "    aws_secret_access_key=aws_secret_access_key,\n",
    "    aws_session_token=aws_session_token\n",
    ").resource('s3')\n",
    "\n",
    "try:\n",
    "    # Faça upload do arquivo para o Amazon S3\n",
    "    s3.Bucket(nome_bucket_s3).upload_file(nome_arquivo_local, nome_arquivo_s3)\n",
    "    print(f'Arquivo {nome_arquivo_local} enviado com sucesso para o Amazon S3!')\n",
    "except FileNotFoundError:\n",
    "    print(f'O arquivo {nome_arquivo_local} não foi encontrado.')\n",
    "except NoCredentialsError:\n",
    "    print('Credenciais não encontradas ou inválidas.')\n",
    "except Exception as e:\n",
    "    print(f'Ocorreu um erro: {e}')"
   ]
  }
 ],
 "metadata": {
  "kernelspec": {
   "display_name": "Python 3",
   "language": "python",
   "name": "python3"
  },
  "language_info": {
   "codemirror_mode": {
    "name": "ipython",
    "version": 3
   },
   "file_extension": ".py",
   "mimetype": "text/x-python",
   "name": "python",
   "nbconvert_exporter": "python",
   "pygments_lexer": "ipython3",
   "version": "3.11.0"
  }
 },
 "nbformat": 4,
 "nbformat_minor": 2
}
