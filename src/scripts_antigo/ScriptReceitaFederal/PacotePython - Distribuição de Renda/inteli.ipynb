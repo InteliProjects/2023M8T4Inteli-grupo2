{
 "cells": [
  {
   "cell_type": "code",
   "execution_count": 7,
   "metadata": {},
   "outputs": [
    {
     "name": "stdout",
     "output_type": "stream",
     "text": [
      "Processing c:\\users\\joao\\desktop\\pacotepython - distribuição de rendaNote: you may need to restart the kernel to use updated packages.\n",
      "\n",
      "  Installing build dependencies: started\n",
      "  Installing build dependencies: finished with status 'done'\n",
      "  Getting requirements to build wheel: started\n",
      "  Getting requirements to build wheel: finished with status 'done'\n",
      "  Preparing metadata (pyproject.toml): started\n",
      "  Preparing metadata (pyproject.toml): finished with status 'done'\n",
      "Building wheels for collected packages: intelidata\n",
      "  Building wheel for intelidata (pyproject.toml): started\n",
      "  Building wheel for intelidata (pyproject.toml): finished with status 'done'\n",
      "  Created wheel for intelidata: filename=intelidata-0.0.0-py3-none-any.whl size=1721 sha256=0bcc72619eb593530043900b639dd25c70f56a92001c2604655fd6f151cbda77\n",
      "  Stored in directory: C:\\Users\\joao\\AppData\\Local\\Temp\\pip-ephem-wheel-cache-z6x_4nj5\\wheels\\43\\0e\\0c\\1a2c7cd1b34a483084274f9e7df4d62cb608eaa5fdacbe5885\n",
      "Successfully built intelidata\n",
      "Installing collected packages: intelidata\n",
      "  Attempting uninstall: intelidata\n",
      "    Found existing installation: intelidata 0.0.0\n",
      "    Uninstalling intelidata-0.0.0:\n",
      "      Successfully uninstalled intelidata-0.0.0\n",
      "Successfully installed intelidata-0.0.0\n"
     ]
    },
    {
     "name": "stderr",
     "output_type": "stream",
     "text": [
      "\n",
      "[notice] A new release of pip is available: 23.1.2 -> 23.3.1\n",
      "[notice] To update, run: python.exe -m pip install --upgrade pip\n"
     ]
    },
    {
     "name": "stdout",
     "output_type": "stream",
     "text": [
      "Requirement already satisfied: pandas in c:\\python311\\lib\\site-packages (2.1.2)Note: you may need to restart the kernel to use updated packages.\n",
      "\n",
      "Requirement already satisfied: numpy<2,>=1.23.2 in c:\\python311\\lib\\site-packages (from pandas) (1.24.3)\n",
      "Requirement already satisfied: python-dateutil>=2.8.2 in c:\\users\\joao\\appdata\\roaming\\python\\python311\\site-packages (from pandas) (2.8.2)\n",
      "Requirement already satisfied: pytz>=2020.1 in c:\\python311\\lib\\site-packages (from pandas) (2023.3.post1)\n",
      "Requirement already satisfied: tzdata>=2022.1 in c:\\python311\\lib\\site-packages (from pandas) (2023.3)\n",
      "Requirement already satisfied: six>=1.5 in c:\\users\\joao\\appdata\\roaming\\python\\python311\\site-packages (from python-dateutil>=2.8.2->pandas) (1.16.0)\n"
     ]
    },
    {
     "name": "stderr",
     "output_type": "stream",
     "text": [
      "\n",
      "[notice] A new release of pip is available: 23.1.2 -> 23.3.1\n",
      "[notice] To update, run: python.exe -m pip install --upgrade pip\n"
     ]
    },
    {
     "name": "stdout",
     "output_type": "stream",
     "text": [
      "Note: you may need to restart the kernel to use updated packages.\n"
     ]
    },
    {
     "name": "stderr",
     "output_type": "stream",
     "text": [
      "ERROR: unknown command \"pytest\"\n",
      "\n"
     ]
    },
    {
     "name": "stdout",
     "output_type": "stream",
     "text": [
      "Note: you may need to restart the kernel to use updated packages.\n"
     ]
    },
    {
     "name": "stderr",
     "output_type": "stream",
     "text": [
      "ERROR: unknown command \"boto3\"\n",
      "\n"
     ]
    },
    {
     "name": "stdout",
     "output_type": "stream",
     "text": [
      "Note: you may need to restart the kernel to use updated packages.\n"
     ]
    },
    {
     "name": "stderr",
     "output_type": "stream",
     "text": [
      "ERROR: unknown command \"numpy\"\n",
      "\n"
     ]
    },
    {
     "name": "stdout",
     "output_type": "stream",
     "text": [
      "Note: you may need to restart the kernel to use updated packages.\n"
     ]
    },
    {
     "name": "stderr",
     "output_type": "stream",
     "text": [
      "ERROR: unknown command \"azure-storage-blob\"\n",
      "\n"
     ]
    },
    {
     "name": "stdout",
     "output_type": "stream",
     "text": [
      "Note: you may need to restart the kernel to use updated packages.\n"
     ]
    },
    {
     "name": "stderr",
     "output_type": "stream",
     "text": [
      "ERROR: unknown command \"google-cloud-storage\"\n",
      "\n"
     ]
    }
   ],
   "source": [
    "%pip install .\n",
    "%pip install pandas\n",
    "%pip pytest\n",
    "%pip boto3\n",
    "%pip numpy\n",
    "%pip azure-storage-blob\n",
    "%pip google-cloud-storage\n"
   ]
  },
  {
   "cell_type": "code",
   "execution_count": 1,
   "metadata": {},
   "outputs": [
    {
     "name": "stdout",
     "output_type": "stream",
     "text": [
      "Importação de Funções Ok!\n"
     ]
    }
   ],
   "source": [
    "import intelidata.lib as inteli\n",
    "\n",
    "inteli.preprocess()"
   ]
  },
  {
   "cell_type": "code",
   "execution_count": 9,
   "metadata": {},
   "outputs": [
    {
     "name": "stdout",
     "output_type": "stream",
     "text": [
      "\u001b[1m============================= test session starts =============================\u001b[0m\n",
      "platform win32 -- Python 3.10.9, pytest-7.1.2, pluggy-1.0.0 -- C:\\Users\\joao\\anaconda3\\python.exe\n",
      "cachedir: .pytest_cache\n",
      "rootdir: c:\\Users\\joao\\Desktop\\pacotePython - Distribuição de Renda\n",
      "plugins: anyio-3.5.0\n",
      "\u001b[1mcollecting ... \u001b[0mcollected 0 items\n",
      "\n",
      "\u001b[33m============================ \u001b[33mno tests ran\u001b[0m\u001b[33m in 0.01s\u001b[0m\u001b[33m ============================\u001b[0m\n"
     ]
    },
    {
     "name": "stderr",
     "output_type": "stream",
     "text": [
      "\u001b[31mERROR: file or directory not found: #\n",
      "\u001b[0m\n"
     ]
    }
   ],
   "source": [
    "!pytest tests -v # verbose"
   ]
  },
  {
   "cell_type": "code",
   "execution_count": 2,
   "metadata": {},
   "outputs": [
    {
     "name": "stdout",
     "output_type": "stream",
     "text": [
      "   Ano-calendário Ente Federativo Centil  Quantidade de Contribuintes  \\\n",
      "0            2006          BRASIL      1                      241.563   \n",
      "1            2006          BRASIL      2                      241.563   \n",
      "2            2006          BRASIL      3                      241.562   \n",
      "3            2006          BRASIL      4                      241.563   \n",
      "4            2006          BRASIL      5                      241.562   \n",
      "\n",
      "  Rendimentos Tributaveis - Limite Superior da RTB do Centil [R$ milhões]  \\\n",
      "0                                                NaN                        \n",
      "1                                                NaN                        \n",
      "2                                                NaN                        \n",
      "3                                                NaN                        \n",
      "4                                                NaN                        \n",
      "\n",
      "  Rendimentos Tributaveis - Soma da RTB do Centil [R$ milhões]  \\\n",
      "0                                                NaN             \n",
      "1                                                NaN             \n",
      "2                                                NaN             \n",
      "3                                                NaN             \n",
      "4                                                NaN             \n",
      "\n",
      "  Rendimentos Tributaveis - RTB Acumulada do Centil [R$ milhões]  \\\n",
      "0                                                NaN               \n",
      "1                                                NaN               \n",
      "2                                                NaN               \n",
      "3                                                NaN               \n",
      "4                                                NaN               \n",
      "\n",
      "  Rendimentos Tributaveis - Média da RTB do Centil [R$]  \\\n",
      "0                                                NaN      \n",
      "1                                                NaN      \n",
      "2                                                NaN      \n",
      "3                                                NaN      \n",
      "4                                                NaN      \n",
      "\n",
      "  Rendimentos Sujeitos à Tribut. Exclusiva [R$ milhões]  \\\n",
      "0                                             235,61      \n",
      "1                                             208,74      \n",
      "2                                             219,96      \n",
      "3                                             257,01      \n",
      "4                                             249,88      \n",
      "\n",
      "  Rendimentos Isentos - Lucros e dividendos [R$ milhões]  ...  \\\n",
      "0                                             481,27      ...   \n",
      "1                                             483,44      ...   \n",
      "2                                             459,87      ...   \n",
      "3                                             481,93      ...   \n",
      "4                                             464,23      ...   \n",
      "\n",
      "  Despesas Dedutíveis - Instrução [R$ milhões]  \\\n",
      "0                                          NaN   \n",
      "1                                          NaN   \n",
      "2                                          NaN   \n",
      "3                                          NaN   \n",
      "4                                          NaN   \n",
      "\n",
      "  Despesas Dedutíveis - Médicas [R$ milhões]  \\\n",
      "0                                        NaN   \n",
      "1                                        NaN   \n",
      "2                                        NaN   \n",
      "3                                        NaN   \n",
      "4                                        NaN   \n",
      "\n",
      "  Despesas Dedutíveis - Pensão Alimentícia [R$ milhões]  \\\n",
      "0                                                NaN      \n",
      "1                                                NaN      \n",
      "2                                                NaN      \n",
      "3                                                NaN      \n",
      "4                                                NaN      \n",
      "\n",
      "  Despesas Dedutíveis - Livro-Caixa [R$ milhões] Imposto Devido [R$ milhões]  \\\n",
      "0                                            NaN                        0,16   \n",
      "1                                            NaN                        0,22   \n",
      "2                                            NaN                        0,31   \n",
      "3                                            NaN                        0,17   \n",
      "4                                            NaN                        0,17   \n",
      "\n",
      "  Bens e Direitos - Imóveis [R$ milhões]  \\\n",
      "0                               5.281,59   \n",
      "1                               5.295,48   \n",
      "2                               5.566,27   \n",
      "3                               5.860,02   \n",
      "4                               5.193,31   \n",
      "\n",
      "  Bens e Direitos - Móveis [R$ milhões]  \\\n",
      "0                                686,21   \n",
      "1                                668,82   \n",
      "2                                670,64   \n",
      "3                                678,44   \n",
      "4                                682,38   \n",
      "\n",
      "  Bens e Direitos - Financeiros [R$ milhões]  \\\n",
      "0                                   6.549,15   \n",
      "1                                   5.762,77   \n",
      "2                                   5.451,95   \n",
      "3                                   6.104,09   \n",
      "4                                   5.592,52   \n",
      "\n",
      "  Bens e Direitos - Outros Bens e Direitos [R$ milhões]  \\\n",
      "0                                           1.006,40      \n",
      "1                                             681,75      \n",
      "2                                             377,17      \n",
      "3                                             256,16      \n",
      "4                                             269,28      \n",
      "\n",
      "  Dívidas e Ônus [R$ milhões]  \n",
      "0                    1.610,39  \n",
      "1                      694,12  \n",
      "2                      650,98  \n",
      "3                    1.079,20  \n",
      "4                      671,97  \n",
      "\n",
      "[5 rows x 24 columns]\n"
     ]
    }
   ],
   "source": [
    "import intelidata.lib as inteli\n",
    "\n",
    "# Exemplo direto de uso da função:\n",
    "caminho_arquivo = './csv/distribuicao-renda.csv'\n",
    "\n",
    "quadro_dados = inteli.force_read(caminho_arquivo)\n",
    "\n",
    "if quadro_dados is not None:\n",
    "    # Continue com o seu código usando o DataFrame\n",
    "    print(quadro_dados.head())\n",
    "else:\n",
    "    # Lidar com o erro conforme necessário\n",
    "    print(\"Não foi possível ler o arquivo CSV.\")"
   ]
  },
  {
   "cell_type": "code",
   "execution_count": 11,
   "metadata": {},
   "outputs": [],
   "source": [
    "# Este código garante que o notebook sempre vai buscar os módulos\n",
    "##%load_ext autoreload\n",
    "#%autoreload 2"
   ]
  },
  {
   "cell_type": "code",
   "execution_count": 12,
   "metadata": {},
   "outputs": [],
   "source": [
    "##import intelidata.lib as inteli\n",
    "\n",
    "##data = inteli.clean_data(df)"
   ]
  }
 ],
 "metadata": {
  "kernelspec": {
   "display_name": "Python 3",
   "language": "python",
   "name": "python3"
  },
  "language_info": {
   "codemirror_mode": {
    "name": "ipython",
    "version": 3
   },
   "file_extension": ".py",
   "mimetype": "text/x-python",
   "name": "python",
   "nbconvert_exporter": "python",
   "pygments_lexer": "ipython3",
   "version": "3.10.6"
  }
 },
 "nbformat": 4,
 "nbformat_minor": 2
}
