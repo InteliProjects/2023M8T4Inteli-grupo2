{
 "cells": [
  {
   "cell_type": "code",
   "execution_count": 2,
   "metadata": {},
   "outputs": [
    {
     "name": "stdout",
     "output_type": "stream",
     "text": [
      "Requirement already satisfied: boto3 in c:\\users\\inteli\\appdata\\local\\programs\\python\\python311\\lib\\site-packages (1.28.82)\n",
      "Requirement already satisfied: pandas in c:\\users\\inteli\\appdata\\local\\programs\\python\\python311\\lib\\site-packages (2.0.2)\n",
      "Requirement already satisfied: botocore<1.32.0,>=1.31.82 in c:\\users\\inteli\\appdata\\local\\programs\\python\\python311\\lib\\site-packages (from boto3) (1.31.82)\n",
      "Requirement already satisfied: jmespath<2.0.0,>=0.7.1 in c:\\users\\inteli\\appdata\\local\\programs\\python\\python311\\lib\\site-packages (from boto3) (1.0.1)\n",
      "Requirement already satisfied: s3transfer<0.8.0,>=0.7.0 in c:\\users\\inteli\\appdata\\local\\programs\\python\\python311\\lib\\site-packages (from boto3) (0.7.0)\n",
      "Requirement already satisfied: python-dateutil>=2.8.2 in c:\\users\\inteli\\appdata\\local\\programs\\python\\python311\\lib\\site-packages (from pandas) (2.8.2)\n",
      "Requirement already satisfied: pytz>=2020.1 in c:\\users\\inteli\\appdata\\local\\programs\\python\\python311\\lib\\site-packages (from pandas) (2023.3)\n",
      "Requirement already satisfied: tzdata>=2022.1 in c:\\users\\inteli\\appdata\\local\\programs\\python\\python311\\lib\\site-packages (from pandas) (2023.3)\n",
      "Requirement already satisfied: numpy>=1.21.0 in c:\\users\\inteli\\appdata\\local\\programs\\python\\python311\\lib\\site-packages (from pandas) (1.24.3)\n",
      "Requirement already satisfied: urllib3<2.1,>=1.25.4 in c:\\users\\inteli\\appdata\\local\\programs\\python\\python311\\lib\\site-packages (from botocore<1.32.0,>=1.31.82->boto3) (1.26.15)\n",
      "Requirement already satisfied: six>=1.5 in c:\\users\\inteli\\appdata\\local\\programs\\python\\python311\\lib\\site-packages (from python-dateutil>=2.8.2->pandas) (1.16.0)\n"
     ]
    },
    {
     "name": "stderr",
     "output_type": "stream",
     "text": [
      "\n",
      "[notice] A new release of pip is available: 23.1.2 -> 23.3.1\n",
      "[notice] To update, run: python.exe -m pip install --upgrade pip\n"
     ]
    }
   ],
   "source": [
    "%load_ext autoreload\n",
    "%autoreload 2\n",
    "!pip install boto3 pandas\n",
    "import pandas as pd\n",
    "import boto3\n",
    "import os\n",
    "from dotenv import load_dotenv"
   ]
  },
  {
   "cell_type": "code",
   "execution_count": 3,
   "metadata": {},
   "outputs": [
    {
     "data": {
      "text/plain": [
       "True"
      ]
     },
     "execution_count": 3,
     "metadata": {},
     "output_type": "execute_result"
    }
   ],
   "source": [
    "load_dotenv('.env')"
   ]
  },
  {
   "cell_type": "code",
   "execution_count": 4,
   "metadata": {},
   "outputs": [],
   "source": [
    "def listar_arquivos_csv(diretorio):\n",
    "    return [arquivo for arquivo in os.listdir(diretorio) if arquivo.endswith('.csv')]\n"
   ]
  },
  {
   "cell_type": "code",
   "execution_count": 5,
   "metadata": {},
   "outputs": [],
   "source": [
    "def ler_e_processar_csv(nome_arquivo, diretorio):\n",
    "    caminho_completo = os.path.join(diretorio, nome_arquivo)\n",
    "    df = pd.read_csv(caminho_completo)\n",
    "    # Adicione aqui qualquer processamento necessário\n",
    "    return df"
   ]
  },
  {
   "cell_type": "code",
   "execution_count": 6,
   "metadata": {},
   "outputs": [],
   "source": [
    "def upload_para_s3(df, nome_arquivo, bucket_name, cliente_s3):\n",
    "    # Converte DataFrame para um arquivo CSV e faz upload para o AWS S3\n",
    "    # Implemente a lógica de upload aqui\n",
    "    pass"
   ]
  },
  {
   "cell_type": "code",
   "execution_count": 7,
   "metadata": {},
   "outputs": [],
   "source": [
    "# Processar e enviar arquivos para o AWS S3\n",
    "pasta_csv = './csv'\n",
    "bucket_name = 'seu-bucket-s3'\n",
    "aws_access_key_id = os.getenv(\"AWS_ACCESS_KEY_ID\")\n",
    "aws_secret_access_key = os.getenv(\"AWS_SECRET_ACCESS_KEY\")\n",
    "region_name = 'us-east-1'"
   ]
  },
  {
   "cell_type": "code",
   "execution_count": 8,
   "metadata": {},
   "outputs": [
    {
     "ename": "FileNotFoundError",
     "evalue": "[WinError 3] The system cannot find the path specified: './csv'",
     "output_type": "error",
     "traceback": [
      "\u001b[1;31m---------------------------------------------------------------------------\u001b[0m",
      "\u001b[1;31mFileNotFoundError\u001b[0m                         Traceback (most recent call last)",
      "\u001b[1;32mc:\\Users\\Inteli\\Downloads\\scriptMecS3\\inteli.ipynb Cell 7\u001b[0m line \u001b[0;36m5\n\u001b[0;32m      <a href='vscode-notebook-cell:/c%3A/Users/Inteli/Downloads/scriptMecS3/inteli.ipynb#W6sZmlsZQ%3D%3D?line=0'>1</a>\u001b[0m cliente_s3 \u001b[39m=\u001b[39m boto3\u001b[39m.\u001b[39mclient(\u001b[39m'\u001b[39m\u001b[39ms3\u001b[39m\u001b[39m'\u001b[39m, aws_access_key_id\u001b[39m=\u001b[39maws_access_key_id, \n\u001b[0;32m      <a href='vscode-notebook-cell:/c%3A/Users/Inteli/Downloads/scriptMecS3/inteli.ipynb#W6sZmlsZQ%3D%3D?line=1'>2</a>\u001b[0m                           aws_secret_access_key\u001b[39m=\u001b[39maws_secret_access_key, \n\u001b[0;32m      <a href='vscode-notebook-cell:/c%3A/Users/Inteli/Downloads/scriptMecS3/inteli.ipynb#W6sZmlsZQ%3D%3D?line=2'>3</a>\u001b[0m                           region_name\u001b[39m=\u001b[39mregion_name)\n\u001b[1;32m----> <a href='vscode-notebook-cell:/c%3A/Users/Inteli/Downloads/scriptMecS3/inteli.ipynb#W6sZmlsZQ%3D%3D?line=4'>5</a>\u001b[0m \u001b[39mfor\u001b[39;00m nome_arquivo \u001b[39min\u001b[39;00m listar_arquivos_csv(pasta_csv):\n\u001b[0;32m      <a href='vscode-notebook-cell:/c%3A/Users/Inteli/Downloads/scriptMecS3/inteli.ipynb#W6sZmlsZQ%3D%3D?line=5'>6</a>\u001b[0m     df \u001b[39m=\u001b[39m ler_e_processar_csv(nome_arquivo, pasta_csv)\n\u001b[0;32m      <a href='vscode-notebook-cell:/c%3A/Users/Inteli/Downloads/scriptMecS3/inteli.ipynb#W6sZmlsZQ%3D%3D?line=6'>7</a>\u001b[0m     upload_para_s3(df, nome_arquivo, bucket_name, cliente_s3)\n",
      "\u001b[1;32mc:\\Users\\Inteli\\Downloads\\scriptMecS3\\inteli.ipynb Cell 7\u001b[0m line \u001b[0;36m2\n\u001b[0;32m      <a href='vscode-notebook-cell:/c%3A/Users/Inteli/Downloads/scriptMecS3/inteli.ipynb#W6sZmlsZQ%3D%3D?line=0'>1</a>\u001b[0m \u001b[39mdef\u001b[39;00m \u001b[39mlistar_arquivos_csv\u001b[39m(diretorio):\n\u001b[1;32m----> <a href='vscode-notebook-cell:/c%3A/Users/Inteli/Downloads/scriptMecS3/inteli.ipynb#W6sZmlsZQ%3D%3D?line=1'>2</a>\u001b[0m     \u001b[39mreturn\u001b[39;00m [arquivo \u001b[39mfor\u001b[39;00m arquivo \u001b[39min\u001b[39;00m os\u001b[39m.\u001b[39;49mlistdir(diretorio) \u001b[39mif\u001b[39;00m arquivo\u001b[39m.\u001b[39mendswith(\u001b[39m'\u001b[39m\u001b[39m.csv\u001b[39m\u001b[39m'\u001b[39m)]\n",
      "\u001b[1;31mFileNotFoundError\u001b[0m: [WinError 3] The system cannot find the path specified: './csv'"
     ]
    }
   ],
   "source": [
    "\n",
    "cliente_s3 = boto3.client('s3', aws_access_key_id=aws_access_key_id, \n",
    "                          aws_secret_access_key=aws_secret_access_key, \n",
    "                          region_name=region_name)\n",
    "\n",
    "for nome_arquivo in listar_arquivos_csv(pasta_csv):\n",
    "    df = ler_e_processar_csv(nome_arquivo, pasta_csv)\n",
    "    upload_para_s3(df, nome_arquivo, bucket_name, cliente_s3)"
   ]
  }
 ],
 "metadata": {
  "kernelspec": {
   "display_name": "Python 3",
   "language": "python",
   "name": "python3"
  },
  "language_info": {
   "codemirror_mode": {
    "name": "ipython",
    "version": 3
   },
   "file_extension": ".py",
   "mimetype": "text/x-python",
   "name": "python",
   "nbconvert_exporter": "python",
   "pygments_lexer": "ipython3",
   "version": "3.11.3"
  }
 },
 "nbformat": 4,
 "nbformat_minor": 2
}
