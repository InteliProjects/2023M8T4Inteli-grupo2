{
 "cells": [
  {
   "cell_type": "code",
   "execution_count": 4,
   "metadata": {},
   "outputs": [
    {
     "name": "stdout",
     "output_type": "stream",
     "text": [
      "Processing /mnt/c/Users/maluv/OneDrive/Área de Trabalho/script/ScriptPOF\n",
      "  Preparing metadata (setup.py) ... \u001b[?25lerror\n",
      "  \u001b[1;31merror\u001b[0m: \u001b[1msubprocess-exited-with-error\u001b[0m\n",
      "  \n",
      "  \u001b[31m×\u001b[0m \u001b[32mpython setup.py egg_info\u001b[0m did not run successfully.\n",
      "  \u001b[31m│\u001b[0m exit code: \u001b[1;36m1\u001b[0m\n",
      "  \u001b[31m╰─>\u001b[0m \u001b[31m[7 lines of output]\u001b[0m\n",
      "  \u001b[31m   \u001b[0m running egg_info\n",
      "  \u001b[31m   \u001b[0m creating /tmp/pip-pip-egg-info-o_jxkw21/ibge.egg-info\n",
      "  \u001b[31m   \u001b[0m writing /tmp/pip-pip-egg-info-o_jxkw21/ibge.egg-info/PKG-INFO\n",
      "  \u001b[31m   \u001b[0m writing dependency_links to /tmp/pip-pip-egg-info-o_jxkw21/ibge.egg-info/dependency_links.txt\n",
      "  \u001b[31m   \u001b[0m writing top-level names to /tmp/pip-pip-egg-info-o_jxkw21/ibge.egg-info/top_level.txt\n",
      "  \u001b[31m   \u001b[0m writing manifest file '/tmp/pip-pip-egg-info-o_jxkw21/ibge.egg-info/SOURCES.txt'\n",
      "  \u001b[31m   \u001b[0m error: package directory 'ibge' does not exist\n",
      "  \u001b[31m   \u001b[0m \u001b[31m[end of output]\u001b[0m\n",
      "  \n",
      "  \u001b[1;35mnote\u001b[0m: This error originates from a subprocess, and is likely not a problem with pip.\n",
      "\u001b[?25h\u001b[1;31merror\u001b[0m: \u001b[1mmetadata-generation-failed\u001b[0m\n",
      "\n",
      "\u001b[31m×\u001b[0m Encountered error while generating package metadata.\n",
      "\u001b[31m╰─>\u001b[0m See above for output.\n",
      "\n",
      "\u001b[1;35mnote\u001b[0m: This is an issue with the package mentioned above, not pip.\n",
      "\u001b[1;36mhint\u001b[0m: See above for details.\n",
      "\n",
      "\u001b[1m[\u001b[0m\u001b[34;49mnotice\u001b[0m\u001b[1;39;49m]\u001b[0m\u001b[39;49m A new release of pip available: \u001b[0m\u001b[31;49m22.2.1\u001b[0m\u001b[39;49m -> \u001b[0m\u001b[32;49m23.3.1\u001b[0m\n",
      "\u001b[1m[\u001b[0m\u001b[34;49mnotice\u001b[0m\u001b[1;39;49m]\u001b[0m\u001b[39;49m To update, run: \u001b[0m\u001b[32;49mpip install --upgrade pip\u001b[0m\n",
      "Requirement already satisfied: openpyxl in /home/malumaia/.pyenv/versions/3.10.6/lib/python3.10/site-packages (3.1.2)\n",
      "Requirement already satisfied: et-xmlfile in /home/malumaia/.pyenv/versions/3.10.6/lib/python3.10/site-packages (from openpyxl) (1.1.0)\n",
      "\n",
      "\u001b[1m[\u001b[0m\u001b[34;49mnotice\u001b[0m\u001b[1;39;49m]\u001b[0m\u001b[39;49m A new release of pip available: \u001b[0m\u001b[31;49m22.2.1\u001b[0m\u001b[39;49m -> \u001b[0m\u001b[32;49m23.3.1\u001b[0m\n",
      "\u001b[1m[\u001b[0m\u001b[34;49mnotice\u001b[0m\u001b[1;39;49m]\u001b[0m\u001b[39;49m To update, run: \u001b[0m\u001b[32;49mpip install --upgrade pip\u001b[0m\n"
     ]
    }
   ],
   "source": [
    "!pip install .\n",
    "!pip install openpyxl"
   ]
  },
  {
   "cell_type": "code",
   "execution_count": 5,
   "metadata": {},
   "outputs": [],
   "source": [
    "# Este código garante que o notebook sempre vai buscar os módulos\n",
    "%load_ext autoreload\n",
    "%autoreload 2"
   ]
  },
  {
   "cell_type": "code",
   "execution_count": 1,
   "metadata": {},
   "outputs": [],
   "source": [
    "import pof.lib as funcao\n",
    "import openpyxl "
   ]
  },
  {
   "cell_type": "markdown",
   "metadata": {},
   "source": [
    "# Domicilio"
   ]
  },
  {
   "cell_type": "code",
   "execution_count": 7,
   "metadata": {},
   "outputs": [
    {
     "name": "stderr",
     "output_type": "stream",
     "text": [
      "/mnt/c/Users/maluv/OneDrive/Área de Trabalho/script/ScriptPOF/pof/lib.py:48: FutureWarning: DataFrame.applymap has been deprecated. Use DataFrame.map instead.\n",
      "  df_chunk = df_chunk.applymap(lambda x: x.replace(',', ';') if isinstance(x, str) else x)\n"
     ]
    }
   ],
   "source": [
    "arquivo_csv = './csv/domicilio.csv'\n",
    "arquivo_excel = './tradutores/Dicionários de váriaveis.xlsx'\n",
    "arquivo_mapeamento = './tradutores/traducao_domicilio.csv'\n",
    "column_name = 'Categorias'\n",
    "\n",
    "df_traduzido = funcao.traduzir_nomes_colunas(arquivo_csv, arquivo_mapeamento)\n",
    "\n",
    "df_com_nulos_preenchidos = funcao.preencher_valores_nulos_csv(df_traduzido, arquivo_excel, column_name)\n",
    "\n",
    "df_nulos = funcao.tratar_valores_nulos(df_com_nulos_preenchidos, 'N/A')\n",
    "\n",
    "df_traduzido = funcao.translate_numeric_values_in_df(df_nulos, './tradutores/traducao_uf.csv', 'unidade_federativa')\n",
    "\n",
    "df_final = funcao.ajustar_amazon_s3(df_traduzido, './csv_s3/domilicio_s3.csv')\n"
   ]
  },
  {
   "cell_type": "markdown",
   "metadata": {},
   "source": [
    "# Morador"
   ]
  },
  {
   "cell_type": "code",
   "execution_count": 8,
   "metadata": {},
   "outputs": [
    {
     "name": "stderr",
     "output_type": "stream",
     "text": [
      "/mnt/c/Users/maluv/OneDrive/Área de Trabalho/script/ScriptPOF/pof/lib.py:48: FutureWarning: DataFrame.applymap has been deprecated. Use DataFrame.map instead.\n",
      "  df_chunk = df_chunk.applymap(lambda x: x.replace(',', ';') if isinstance(x, str) else x)\n"
     ]
    }
   ],
   "source": [
    "arquivo_csv = './csv/morador.csv'\n",
    "arquivo_excel = './tradutores/Dicionários de váriaveis.xlsx'\n",
    "arquivo_mapeamento = './tradutores/traducao_morador.csv'\n",
    "column_name = 'Categorias'\n",
    "\n",
    "df_traduzido = funcao.traduzir_nomes_colunas(arquivo_csv, arquivo_mapeamento)\n",
    "\n",
    "df_com_nulos_preenchidos = funcao.preencher_valores_nulos_csv(df_traduzido, arquivo_excel, column_name)\n",
    "\n",
    "df_nulos = funcao.tratar_valores_nulos(df_com_nulos_preenchidos, 'N/A')\n",
    "\n",
    "df_traduzido = funcao.translate_numeric_values_in_df(df_nulos, './tradutores/traducao_uf.csv', 'unidade_federativa')\n",
    "\n",
    "df_final = funcao.ajustar_amazon_s3(df_traduzido, './csv_s3/morador_s3.csv')\n",
    "\n"
   ]
  },
  {
   "cell_type": "markdown",
   "metadata": {},
   "source": [
    "# Morador - Qualidade de Vida"
   ]
  },
  {
   "cell_type": "code",
   "execution_count": 9,
   "metadata": {},
   "outputs": [
    {
     "name": "stderr",
     "output_type": "stream",
     "text": [
      "/mnt/c/Users/maluv/OneDrive/Área de Trabalho/script/ScriptPOF/pof/lib.py:48: FutureWarning: DataFrame.applymap has been deprecated. Use DataFrame.map instead.\n",
      "  df_chunk = df_chunk.applymap(lambda x: x.replace(',', ';') if isinstance(x, str) else x)\n"
     ]
    }
   ],
   "source": [
    "arquivo_csv = './csv/morador_quali_vida.csv'\n",
    "arquivo_excel = './tradutores/Dicionários de váriaveis.xlsx'\n",
    "arquivo_mapeamento = './tradutores/traducao_morador_qualidade_vida.csv'\n",
    "column_name = 'Categorias'\n",
    "\n",
    "df_traduzido = funcao.traduzir_nomes_colunas(arquivo_csv, arquivo_mapeamento)\n",
    "\n",
    "df_com_nulos_preenchidos = funcao.preencher_valores_nulos_csv(df_traduzido, arquivo_excel, column_name)\n",
    "\n",
    "df_nulos = funcao.tratar_valores_nulos(df_com_nulos_preenchidos, 'N/A')\n",
    "\n",
    "df_traduzido = funcao.translate_numeric_values_in_df(df_nulos, './tradutores/traducao_uf.csv', 'unidade_federativa')\n",
    "\n",
    "df_final = funcao.ajustar_amazon_s3(df_traduzido, './csv_s3/morador_quali_vida_s3.csv')"
   ]
  },
  {
   "cell_type": "markdown",
   "metadata": {},
   "source": [
    "# Aluguel Estimado"
   ]
  },
  {
   "cell_type": "code",
   "execution_count": 11,
   "metadata": {},
   "outputs": [
    {
     "name": "stderr",
     "output_type": "stream",
     "text": [
      "/mnt/c/Users/maluv/OneDrive/Área de Trabalho/script/ScriptPOF/pof/lib.py:48: FutureWarning: DataFrame.applymap has been deprecated. Use DataFrame.map instead.\n",
      "  df_chunk = df_chunk.applymap(lambda x: x.replace(',', ';') if isinstance(x, str) else x)\n"
     ]
    }
   ],
   "source": [
    "arquivo_csv = './csv/aluguel_estimado.csv'\n",
    "arquivo_excel = './tradutores/Dicionários de váriaveis.xlsx'\n",
    "arquivo_mapeamento = './tradutores/traducao_aluguel_estimado.csv'\n",
    "column_name = 'Categorias'\n",
    "\n",
    "df_traduzido = funcao.traduzir_nomes_colunas(arquivo_csv, arquivo_mapeamento)\n",
    "\n",
    "df_com_nulos_preenchidos = funcao.preencher_valores_nulos_csv(df_traduzido, arquivo_excel, column_name)\n",
    "\n",
    "df_nulos = funcao.tratar_valores_nulos(df_com_nulos_preenchidos, 'N/A')\n",
    "\n",
    "df_traduzido = funcao.translate_numeric_values_in_df(df_nulos, './tradutores/traducao_uf.csv', 'unidade_federacao')\n",
    "\n",
    "df_final = funcao.ajustar_amazon_s3(df_traduzido, './csv_s3/aluguel_estimado_s3.csv')"
   ]
  },
  {
   "cell_type": "markdown",
   "metadata": {},
   "source": [
    "# Despesa Coletiva"
   ]
  },
  {
   "cell_type": "code",
   "execution_count": 13,
   "metadata": {},
   "outputs": [
    {
     "name": "stderr",
     "output_type": "stream",
     "text": [
      "/mnt/c/Users/maluv/OneDrive/Área de Trabalho/script/ScriptPOF/pof/lib.py:48: FutureWarning: DataFrame.applymap has been deprecated. Use DataFrame.map instead.\n",
      "  df_chunk = df_chunk.applymap(lambda x: x.replace(',', ';') if isinstance(x, str) else x)\n"
     ]
    }
   ],
   "source": [
    "arquivo_csv = './csv/despesa_coletiva.csv'\n",
    "arquivo_excel = './tradutores/Dicionários de váriaveis.xlsx'\n",
    "arquivo_mapeamento = './tradutores/traducao_despesa_coletiva.csv'\n",
    "column_name = 'Categorias'\n",
    "\n",
    "df_traduzido = funcao.traduzir_nomes_colunas(arquivo_csv, arquivo_mapeamento)\n",
    "\n",
    "df_com_nulos_preenchidos = funcao.preencher_valores_nulos_csv(df_traduzido, arquivo_excel, column_name)\n",
    "\n",
    "df_nulos = funcao.tratar_valores_nulos(df_com_nulos_preenchidos, 'N/A')\n",
    "\n",
    "df_traduzido = funcao.translate_numeric_values_in_df(df_nulos, './tradutores/traducao_uf.csv', 'unidade_federacao')\n",
    "\n",
    "df_final = funcao.ajustar_amazon_s3(df_traduzido, './csv_s3/despesa_coletiva_s3.csv')"
   ]
  },
  {
   "cell_type": "markdown",
   "metadata": {},
   "source": [
    "# Serviços Não Monetários POF2"
   ]
  },
  {
   "cell_type": "code",
   "execution_count": 14,
   "metadata": {},
   "outputs": [
    {
     "name": "stderr",
     "output_type": "stream",
     "text": [
      "/mnt/c/Users/maluv/OneDrive/Área de Trabalho/script/ScriptPOF/pof/lib.py:48: FutureWarning: DataFrame.applymap has been deprecated. Use DataFrame.map instead.\n",
      "  df_chunk = df_chunk.applymap(lambda x: x.replace(',', ';') if isinstance(x, str) else x)\n"
     ]
    }
   ],
   "source": [
    "arquivo_csv = './csv/servico_nao_monetario_pof2.csv'\n",
    "arquivo_excel = './tradutores/Dicionários de váriaveis.xlsx'\n",
    "arquivo_mapeamento = './tradutores/traducao_servicos_nao_monetario_pof2.csv'\n",
    "column_name = 'Categorias'\n",
    "\n",
    "df_traduzido = funcao.traduzir_nomes_colunas(arquivo_csv, arquivo_mapeamento)\n",
    "\n",
    "df_com_nulos_preenchidos = funcao.preencher_valores_nulos_csv(df_traduzido, arquivo_excel, column_name)\n",
    "\n",
    "df_nulos = funcao.tratar_valores_nulos(df_com_nulos_preenchidos, 'N/A')\n",
    "\n",
    "df_traduzido = funcao.translate_numeric_values_in_df(df_nulos, './tradutores/traducao_uf.csv', 'unidade_federativa')\n",
    "\n",
    "df_final = funcao.ajustar_amazon_s3(df_traduzido, './csv_s3/servico_nao_monetario_pof2_s3.csv')"
   ]
  },
  {
   "cell_type": "markdown",
   "metadata": {},
   "source": [
    "# Inventário"
   ]
  },
  {
   "cell_type": "code",
   "execution_count": 15,
   "metadata": {},
   "outputs": [
    {
     "name": "stderr",
     "output_type": "stream",
     "text": [
      "/mnt/c/Users/maluv/OneDrive/Área de Trabalho/script/ScriptPOF/pof/lib.py:48: FutureWarning: DataFrame.applymap has been deprecated. Use DataFrame.map instead.\n",
      "  df_chunk = df_chunk.applymap(lambda x: x.replace(',', ';') if isinstance(x, str) else x)\n"
     ]
    }
   ],
   "source": [
    "arquivo_csv = './csv/inventario.csv'\n",
    "arquivo_excel = './tradutores/Dicionários de váriaveis.xlsx'\n",
    "arquivo_mapeamento = './tradutores/traducao_inventario.csv'\n",
    "column_name = 'Categorias'\n",
    "\n",
    "df_traduzido = funcao.traduzir_nomes_colunas(arquivo_csv, arquivo_mapeamento)\n",
    "\n",
    "df_com_nulos_preenchidos = funcao.preencher_valores_nulos_csv(df_traduzido, arquivo_excel, column_name)\n",
    "\n",
    "df_nulos = funcao.tratar_valores_nulos(df_com_nulos_preenchidos, 'N/A')\n",
    "\n",
    "df_traduzido = funcao.translate_numeric_values_in_df(df_nulos, './tradutores/traducao_uf.csv', 'unidade_federativa')\n",
    "\n",
    "df_final = funcao.ajustar_amazon_s3(df_traduzido, './csv_s3/inventario_s3.csv')"
   ]
  },
  {
   "cell_type": "markdown",
   "metadata": {},
   "source": [
    "# Cardeneta Coletiva"
   ]
  },
  {
   "cell_type": "code",
   "execution_count": 16,
   "metadata": {},
   "outputs": [
    {
     "name": "stderr",
     "output_type": "stream",
     "text": [
      "/mnt/c/Users/maluv/OneDrive/Área de Trabalho/script/ScriptPOF/pof/lib.py:48: FutureWarning: DataFrame.applymap has been deprecated. Use DataFrame.map instead.\n",
      "  df_chunk = df_chunk.applymap(lambda x: x.replace(',', ';') if isinstance(x, str) else x)\n"
     ]
    }
   ],
   "source": [
    "arquivo_csv = './csv/caderneta_coletiva.csv'\n",
    "arquivo_excel = './tradutores/Dicionários de váriaveis.xlsx'\n",
    "arquivo_mapeamento = './tradutores/traducao_caderneta_coletiva.csv'\n",
    "column_name = 'Categorias'\n",
    "\n",
    "df_traduzido = funcao.traduzir_nomes_colunas(arquivo_csv, arquivo_mapeamento)\n",
    "\n",
    "df_com_nulos_preenchidos = funcao.preencher_valores_nulos_csv(df_traduzido, arquivo_excel, column_name)\n",
    "\n",
    "df_nulos = funcao.tratar_valores_nulos(df_com_nulos_preenchidos, 'N/A')\n",
    "\n",
    "df_traduzido = funcao.translate_numeric_values_in_df(df_nulos, './tradutores/traducao_uf.csv', 'unidade_federativa')\n",
    "\n",
    "df_final = funcao.ajustar_amazon_s3(df_traduzido, './csv_s3/caderneta_coletiva_s3.csv')"
   ]
  },
  {
   "cell_type": "markdown",
   "metadata": {},
   "source": [
    "# Despesa Coletiva"
   ]
  },
  {
   "cell_type": "code",
   "execution_count": 18,
   "metadata": {},
   "outputs": [
    {
     "name": "stderr",
     "output_type": "stream",
     "text": [
      "/mnt/c/Users/maluv/OneDrive/Área de Trabalho/script/ScriptPOF/pof/lib.py:48: FutureWarning: DataFrame.applymap has been deprecated. Use DataFrame.map instead.\n",
      "  df_chunk = df_chunk.applymap(lambda x: x.replace(',', ';') if isinstance(x, str) else x)\n"
     ]
    }
   ],
   "source": [
    "arquivo_csv = './csv/despesa_coletiva.csv'\n",
    "arquivo_excel = './tradutores/Dicionários de váriaveis.xlsx'\n",
    "arquivo_mapeamento = './tradutores/traducao_despesa_coletiva.csv'\n",
    "column_name = 'Categorias'\n",
    "\n",
    "df_traduzido = funcao.traduzir_nomes_colunas(arquivo_csv, arquivo_mapeamento)\n",
    "\n",
    "df_com_nulos_preenchidos = funcao.preencher_valores_nulos_csv(df_traduzido, arquivo_excel, column_name)\n",
    "\n",
    "df_nulos = funcao.tratar_valores_nulos(df_com_nulos_preenchidos, 'N/A')\n",
    "\n",
    "df_traduzido = funcao.translate_numeric_values_in_df(df_nulos, './tradutores/traducao_uf.csv', 'unidade_federacao')\n",
    "\n",
    "df_final = funcao.ajustar_amazon_s3(df_traduzido, './csv_s3/despesa_coletiva_s3.csv')"
   ]
  },
  {
   "cell_type": "markdown",
   "metadata": {},
   "source": [
    "# Serviços Não Monetários POF4"
   ]
  },
  {
   "cell_type": "code",
   "execution_count": 20,
   "metadata": {},
   "outputs": [
    {
     "name": "stderr",
     "output_type": "stream",
     "text": [
      "/mnt/c/Users/maluv/OneDrive/Área de Trabalho/script/ScriptPOF/pof/lib.py:48: FutureWarning: DataFrame.applymap has been deprecated. Use DataFrame.map instead.\n",
      "  df_chunk = df_chunk.applymap(lambda x: x.replace(',', ';') if isinstance(x, str) else x)\n"
     ]
    }
   ],
   "source": [
    "arquivo_csv = './csv/servico_nao_monetario_pof4.csv'\n",
    "arquivo_excel = './tradutores/Dicionários de váriaveis.xlsx'\n",
    "arquivo_mapeamento = './tradutores/traducao_servicos_nao_monetarios_pof4.csv'\n",
    "column_name = 'Categorias'\n",
    "\n",
    "df_traduzido = funcao.traduzir_nomes_colunas(arquivo_csv, arquivo_mapeamento)\n",
    "\n",
    "df_com_nulos_preenchidos = funcao.preencher_valores_nulos_csv(df_traduzido, arquivo_excel, column_name)\n",
    "\n",
    "df_nulos = funcao.tratar_valores_nulos(df_com_nulos_preenchidos, 'N/A')\n",
    "\n",
    "df_traduzido = funcao.translate_numeric_values_in_df(df_nulos, './tradutores/traducao_uf.csv', 'unidade_federacao')\n",
    "\n",
    "df_final = funcao.ajustar_amazon_s3(df_traduzido, './csv_s3/servico_nao_monetario_pof4_s3.csv')"
   ]
  },
  {
   "cell_type": "markdown",
   "metadata": {},
   "source": [
    "# Restrições Produtos, Serviços e Saúde"
   ]
  },
  {
   "cell_type": "code",
   "execution_count": 22,
   "metadata": {},
   "outputs": [
    {
     "name": "stderr",
     "output_type": "stream",
     "text": [
      "/mnt/c/Users/maluv/OneDrive/Área de Trabalho/script/ScriptPOF/pof/lib.py:48: FutureWarning: DataFrame.applymap has been deprecated. Use DataFrame.map instead.\n",
      "  df_chunk = df_chunk.applymap(lambda x: x.replace(',', ';') if isinstance(x, str) else x)\n"
     ]
    }
   ],
   "source": [
    "arquivo_csv = './csv/restricao_produtos_servicos_saude.csv'\n",
    "arquivo_excel = './tradutores/Dicionários de váriaveis.xlsx'\n",
    "arquivo_mapeamento = './tradutores/traducao_restricao_produtos_servicos_saude.csv'\n",
    "column_name = 'Categorias'\n",
    "\n",
    "df_traduzido = funcao.traduzir_nomes_colunas(arquivo_csv, arquivo_mapeamento)\n",
    "\n",
    "df_com_nulos_preenchidos = funcao.preencher_valores_nulos_csv(df_traduzido, arquivo_excel, column_name)\n",
    "\n",
    "df_nulos = funcao.tratar_valores_nulos(df_com_nulos_preenchidos, 'N/A')\n",
    "\n",
    "df_traduzido = funcao.translate_numeric_values_in_df(df_nulos, './tradutores/traducao_uf.csv', 'unidade_federacao')\n",
    "\n",
    "df_final = funcao.ajustar_amazon_s3(df_traduzido, './csv_s3/restricao_produtos_servicos_saude_s3.csv')"
   ]
  },
  {
   "cell_type": "markdown",
   "metadata": {},
   "source": [
    "# Rendimento Trabalho"
   ]
  },
  {
   "cell_type": "code",
   "execution_count": 25,
   "metadata": {},
   "outputs": [
    {
     "name": "stderr",
     "output_type": "stream",
     "text": [
      "/mnt/c/Users/maluv/OneDrive/Área de Trabalho/script/ScriptPOF/pof/lib.py:48: FutureWarning: DataFrame.applymap has been deprecated. Use DataFrame.map instead.\n",
      "  df_chunk = df_chunk.applymap(lambda x: x.replace(',', ';') if isinstance(x, str) else x)\n"
     ]
    }
   ],
   "source": [
    "arquivo_csv = './csv/rendimento_trabalho.csv'\n",
    "arquivo_excel = './tradutores/Dicionários de váriaveis.xlsx'\n",
    "arquivo_mapeamento = './tradutores/traducao_rendimento_trabalho.csv'\n",
    "column_name = 'Categorias'\n",
    "\n",
    "df_traduzido = funcao.traduzir_nomes_colunas(arquivo_csv, arquivo_mapeamento)\n",
    "\n",
    "# df_com_nulos_preenchidos = funcao.preencher_valores_nulos_csv(df_traduzido, arquivo_excel, column_name)\n",
    "\n",
    "# df_nulos = funcao.tratar_valores_nulos(df_com_nulos_preenchidos, 'N/A')\n",
    "\n",
    "df_traduzido = funcao.translate_numeric_values_in_df(df_nulos, './tradutores/traducao_uf.csv', 'unidade_federacao')\n",
    "\n",
    "df_final = funcao.ajustar_amazon_s3(df_traduzido, './csv_s3/rendimento_trabalho_s3.csv')"
   ]
  },
  {
   "cell_type": "markdown",
   "metadata": {},
   "source": [
    "# Outros Rendimentos"
   ]
  },
  {
   "cell_type": "code",
   "execution_count": 28,
   "metadata": {},
   "outputs": [
    {
     "name": "stderr",
     "output_type": "stream",
     "text": [
      "/mnt/c/Users/maluv/OneDrive/Área de Trabalho/script/ScriptPOF/pof/lib.py:48: FutureWarning: DataFrame.applymap has been deprecated. Use DataFrame.map instead.\n",
      "  df_chunk = df_chunk.applymap(lambda x: x.replace(',', ';') if isinstance(x, str) else x)\n"
     ]
    }
   ],
   "source": [
    "arquivo_csv = './csv/outros_rendimentos.csv'\n",
    "arquivo_excel = './tradutores/Dicionários de váriaveis.xlsx'\n",
    "arquivo_mapeamento = './tradutores/traducao_outros_rendimentos.csv'\n",
    "column_name = 'Categorias'\n",
    "\n",
    "df_traduzido = funcao.traduzir_nomes_colunas(arquivo_csv, arquivo_mapeamento)\n",
    "\n",
    "df_com_nulos_preenchidos = funcao.preencher_valores_nulos_csv(df_traduzido, arquivo_excel, column_name)\n",
    "\n",
    "df_nulos = funcao.tratar_valores_nulos(df_com_nulos_preenchidos, 'N/A')\n",
    "\n",
    "df_traduzido = funcao.translate_numeric_values_in_df(df_nulos, './tradutores/traducao_uf.csv', 'unidade_federacao')\n",
    "\n",
    "df_final = funcao.ajustar_amazon_s3(df_traduzido, './csv_s3/outros_rendimentos_s3.csv')"
   ]
  },
  {
   "cell_type": "markdown",
   "metadata": {},
   "source": [
    "# Condições de Vida"
   ]
  },
  {
   "cell_type": "code",
   "execution_count": 30,
   "metadata": {},
   "outputs": [
    {
     "name": "stderr",
     "output_type": "stream",
     "text": [
      "/mnt/c/Users/maluv/OneDrive/Área de Trabalho/script/ScriptPOF/pof/lib.py:48: FutureWarning: DataFrame.applymap has been deprecated. Use DataFrame.map instead.\n",
      "  df_chunk = df_chunk.applymap(lambda x: x.replace(',', ';') if isinstance(x, str) else x)\n"
     ]
    }
   ],
   "source": [
    "arquivo_csv = './csv/condicoes_vida.csv'\n",
    "arquivo_excel = './tradutores/Dicionários de váriaveis.xlsx'\n",
    "arquivo_mapeamento = './tradutores/traducao_condicoes_vida.csv'\n",
    "column_name = 'Categorias'\n",
    "\n",
    "df_traduzido = funcao.traduzir_nomes_colunas(arquivo_csv, arquivo_mapeamento)\n",
    "\n",
    "df_com_nulos_preenchidos = funcao.preencher_valores_nulos_csv(df_traduzido, arquivo_excel, column_name)\n",
    "\n",
    "df_nulos = funcao.tratar_valores_nulos(df_com_nulos_preenchidos, 'N/A')\n",
    "\n",
    "df_traduzido = funcao.translate_numeric_values_in_df(df_nulos, './tradutores/traducao_uf.csv', 'unidade_federacao')\n",
    "\n",
    "df_final = funcao.ajustar_amazon_s3(df_traduzido, './csv_s3/condicoes_vida_s3.csv')"
   ]
  },
  {
   "cell_type": "markdown",
   "metadata": {},
   "source": [
    "# Características da Dieta"
   ]
  },
  {
   "cell_type": "code",
   "execution_count": 33,
   "metadata": {},
   "outputs": [
    {
     "name": "stderr",
     "output_type": "stream",
     "text": [
      "/mnt/c/Users/maluv/OneDrive/Área de Trabalho/script/ScriptPOF/pof/lib.py:48: FutureWarning: DataFrame.applymap has been deprecated. Use DataFrame.map instead.\n",
      "  df_chunk = df_chunk.applymap(lambda x: x.replace(',', ';') if isinstance(x, str) else x)\n"
     ]
    }
   ],
   "source": [
    "arquivo_csv = './csv/caracteristicas_dieta.csv'\n",
    "arquivo_excel = './tradutores/Dicionários de váriaveis.xlsx'\n",
    "arquivo_mapeamento = './tradutores/traducao_caracteristicas_dieta.csv'\n",
    "column_name = 'Categorias'\n",
    "\n",
    "df_traduzido = funcao.traduzir_nomes_colunas(arquivo_csv, arquivo_mapeamento)\n",
    "\n",
    "df_com_nulos_preenchidos = funcao.preencher_valores_nulos_csv(df_traduzido, arquivo_excel, column_name)\n",
    "\n",
    "df_nulos = funcao.tratar_valores_nulos(df_com_nulos_preenchidos, 'N/A')\n",
    "\n",
    "df_traduzido = funcao.translate_numeric_values_in_df(df_nulos, './tradutores/traducao_uf.csv', 'unidade_federacao')\n",
    "\n",
    "df_final = funcao.ajustar_amazon_s3(df_traduzido, './csv_s3/caracteristicas_dieta_s3.csv')"
   ]
  },
  {
   "cell_type": "markdown",
   "metadata": {},
   "source": [
    "# Consumo Alimentar\n"
   ]
  },
  {
   "cell_type": "code",
   "execution_count": 2,
   "metadata": {},
   "outputs": [
    {
     "name": "stderr",
     "output_type": "stream",
     "text": [
      "/mnt/c/Users/maluv/Documents/GitHub/grupo2/src/script/ScriptPOF/pof/lib.py:57: FutureWarning: DataFrame.applymap has been deprecated. Use DataFrame.map instead.\n",
      "  df_chunk = df_chunk.applymap(lambda x: x.replace(',', ';') if isinstance(x, str) else x)\n"
     ]
    }
   ],
   "source": [
    "arquivo_csv = './csv/consumo_alimentar.csv'\n",
    "arquivo_excel = './tradutores/Dicionários de váriaveis.xlsx'\n",
    "arquivo_mapeamento = './tradutores/traducao_consumo_alimentar.csv'\n",
    "column_name = 'Categorias'\n",
    "\n",
    "df_traduzido = funcao.traduzir_nomes_colunas(arquivo_csv, arquivo_mapeamento)\n",
    "\n",
    "df_com_nulos_preenchidos = funcao.preencher_valores_nulos_csv(df_traduzido, arquivo_excel, column_name)\n",
    "\n",
    "df_nulos = funcao.tratar_valores_nulos(df_com_nulos_preenchidos, 'N/A')\n",
    "\n",
    "df_traduzido = funcao.translate_numeric_values_in_df_uf(df_nulos, './tradutores/traducao_uf.csv', 'unidade_federacao')\n",
    "\n",
    "df_traduzido = funcao.translate_numeric_values_in_df_alimento(df_nulos, './tradutores/Produtos do Consumo Alimentar.csv', 'codigo_tipo_alimento')\n",
    "\n",
    "df_final = funcao.ajustar_amazon_s3(df_traduzido, './csv_s3/consumo_alimentar_s3.csv')"
   ]
  },
  {
   "cell_type": "code",
   "execution_count": 3,
   "metadata": {},
   "outputs": [
    {
     "data": {
      "text/plain": [
       "'./csv_s3/consumo_alimentar_s3.csv'"
      ]
     },
     "execution_count": 3,
     "metadata": {},
     "output_type": "execute_result"
    }
   ],
   "source": [
    "df_final"
   ]
  },
  {
   "cell_type": "code",
   "execution_count": 4,
   "metadata": {},
   "outputs": [
    {
     "data": {
      "text/html": [
       "<div>\n",
       "<style scoped>\n",
       "    .dataframe tbody tr th:only-of-type {\n",
       "        vertical-align: middle;\n",
       "    }\n",
       "\n",
       "    .dataframe tbody tr th {\n",
       "        vertical-align: top;\n",
       "    }\n",
       "\n",
       "    .dataframe thead th {\n",
       "        text-align: right;\n",
       "    }\n",
       "</style>\n",
       "<table border=\"1\" class=\"dataframe\">\n",
       "  <thead>\n",
       "    <tr style=\"text-align: right;\">\n",
       "      <th></th>\n",
       "      <th>unidade_federacao</th>\n",
       "      <th>unidade_federacao_traduzido</th>\n",
       "      <th>estratificacao_geografica</th>\n",
       "      <th>situacao_domicilio</th>\n",
       "      <th>codigo_unidade_primaria_amostragem</th>\n",
       "      <th>numero_domicilio</th>\n",
       "      <th>numero_unidade_consumo</th>\n",
       "      <th>COD_INFOR.MANTE</th>\n",
       "      <th>quadro</th>\n",
       "      <th>numero_sequencial_linha_quadro</th>\n",
       "      <th>...</th>\n",
       "      <th>vitaminaB12_micrograma</th>\n",
       "      <th>vitaminaD_micrograma</th>\n",
       "      <th>vitaminaE_micrograma</th>\n",
       "      <th>vitaminaC_miligramas</th>\n",
       "      <th>folato_micrograma</th>\n",
       "      <th>fator_expansao_upa</th>\n",
       "      <th>fator_expansao_upa_final</th>\n",
       "      <th>renda_bruta_mensal_total</th>\n",
       "      <th>dia_semana</th>\n",
       "      <th>dia_atipico</th>\n",
       "    </tr>\n",
       "  </thead>\n",
       "  <tbody>\n",
       "    <tr>\n",
       "      <th>0</th>\n",
       "      <td>11</td>\n",
       "      <td>Rondônia</td>\n",
       "      <td>1101</td>\n",
       "      <td>1</td>\n",
       "      <td>110000016</td>\n",
       "      <td>2</td>\n",
       "      <td>1</td>\n",
       "      <td>1</td>\n",
       "      <td>72</td>\n",
       "      <td>1</td>\n",
       "      <td>...</td>\n",
       "      <td>0.000</td>\n",
       "      <td>0.000</td>\n",
       "      <td>0.1260</td>\n",
       "      <td>0.0000</td>\n",
       "      <td>104.6850</td>\n",
       "      <td>1316.609446</td>\n",
       "      <td>2390.486523</td>\n",
       "      <td>3855.34</td>\n",
       "      <td>Quarta-Feira</td>\n",
       "      <td>2</td>\n",
       "    </tr>\n",
       "    <tr>\n",
       "      <th>1</th>\n",
       "      <td>11</td>\n",
       "      <td>Rondônia</td>\n",
       "      <td>1101</td>\n",
       "      <td>1</td>\n",
       "      <td>110000016</td>\n",
       "      <td>2</td>\n",
       "      <td>1</td>\n",
       "      <td>1</td>\n",
       "      <td>72</td>\n",
       "      <td>1</td>\n",
       "      <td>...</td>\n",
       "      <td>0.000</td>\n",
       "      <td>0.000</td>\n",
       "      <td>0.7924</td>\n",
       "      <td>0.0000</td>\n",
       "      <td>0.1358</td>\n",
       "      <td>1316.609446</td>\n",
       "      <td>2390.486523</td>\n",
       "      <td>3855.34</td>\n",
       "      <td>Quarta-Feira</td>\n",
       "      <td>2</td>\n",
       "    </tr>\n",
       "    <tr>\n",
       "      <th>2</th>\n",
       "      <td>11</td>\n",
       "      <td>Rondônia</td>\n",
       "      <td>1101</td>\n",
       "      <td>1</td>\n",
       "      <td>110000016</td>\n",
       "      <td>2</td>\n",
       "      <td>1</td>\n",
       "      <td>1</td>\n",
       "      <td>72</td>\n",
       "      <td>2</td>\n",
       "      <td>...</td>\n",
       "      <td>0.285</td>\n",
       "      <td>0.000</td>\n",
       "      <td>0.0750</td>\n",
       "      <td>0.0000</td>\n",
       "      <td>5.0850</td>\n",
       "      <td>1316.609446</td>\n",
       "      <td>2390.486523</td>\n",
       "      <td>3855.34</td>\n",
       "      <td>Quarta-Feira</td>\n",
       "      <td>2</td>\n",
       "    </tr>\n",
       "    <tr>\n",
       "      <th>3</th>\n",
       "      <td>11</td>\n",
       "      <td>Rondônia</td>\n",
       "      <td>1101</td>\n",
       "      <td>1</td>\n",
       "      <td>110000016</td>\n",
       "      <td>2</td>\n",
       "      <td>1</td>\n",
       "      <td>1</td>\n",
       "      <td>72</td>\n",
       "      <td>2</td>\n",
       "      <td>...</td>\n",
       "      <td>0.000</td>\n",
       "      <td>0.000</td>\n",
       "      <td>0.0000</td>\n",
       "      <td>0.0000</td>\n",
       "      <td>0.0000</td>\n",
       "      <td>1316.609446</td>\n",
       "      <td>2390.486523</td>\n",
       "      <td>3855.34</td>\n",
       "      <td>Quarta-Feira</td>\n",
       "      <td>2</td>\n",
       "    </tr>\n",
       "    <tr>\n",
       "      <th>4</th>\n",
       "      <td>11</td>\n",
       "      <td>Rondônia</td>\n",
       "      <td>1101</td>\n",
       "      <td>1</td>\n",
       "      <td>110000016</td>\n",
       "      <td>2</td>\n",
       "      <td>1</td>\n",
       "      <td>1</td>\n",
       "      <td>72</td>\n",
       "      <td>3</td>\n",
       "      <td>...</td>\n",
       "      <td>0.000</td>\n",
       "      <td>0.000</td>\n",
       "      <td>0.1620</td>\n",
       "      <td>0.4050</td>\n",
       "      <td>2.4120</td>\n",
       "      <td>1316.609446</td>\n",
       "      <td>2390.486523</td>\n",
       "      <td>3855.34</td>\n",
       "      <td>Quarta-Feira</td>\n",
       "      <td>2</td>\n",
       "    </tr>\n",
       "    <tr>\n",
       "      <th>...</th>\n",
       "      <td>...</td>\n",
       "      <td>...</td>\n",
       "      <td>...</td>\n",
       "      <td>...</td>\n",
       "      <td>...</td>\n",
       "      <td>...</td>\n",
       "      <td>...</td>\n",
       "      <td>...</td>\n",
       "      <td>...</td>\n",
       "      <td>...</td>\n",
       "      <td>...</td>\n",
       "      <td>...</td>\n",
       "      <td>...</td>\n",
       "      <td>...</td>\n",
       "      <td>...</td>\n",
       "      <td>...</td>\n",
       "      <td>...</td>\n",
       "      <td>...</td>\n",
       "      <td>...</td>\n",
       "      <td>...</td>\n",
       "      <td>...</td>\n",
       "    </tr>\n",
       "    <tr>\n",
       "      <th>1175385</th>\n",
       "      <td>53</td>\n",
       "      <td>Distrito Federal</td>\n",
       "      <td>5301</td>\n",
       "      <td>1</td>\n",
       "      <td>530044198</td>\n",
       "      <td>12</td>\n",
       "      <td>1</td>\n",
       "      <td>1</td>\n",
       "      <td>73</td>\n",
       "      <td>7</td>\n",
       "      <td>...</td>\n",
       "      <td>0.000</td>\n",
       "      <td>0.000</td>\n",
       "      <td>2.3296</td>\n",
       "      <td>1.6016</td>\n",
       "      <td>99.4357</td>\n",
       "      <td>1013.544041</td>\n",
       "      <td>1139.351861</td>\n",
       "      <td>672.99</td>\n",
       "      <td>Terca-Feira</td>\n",
       "      <td>1</td>\n",
       "    </tr>\n",
       "    <tr>\n",
       "      <th>1175386</th>\n",
       "      <td>53</td>\n",
       "      <td>Distrito Federal</td>\n",
       "      <td>5301</td>\n",
       "      <td>1</td>\n",
       "      <td>530044198</td>\n",
       "      <td>12</td>\n",
       "      <td>1</td>\n",
       "      <td>1</td>\n",
       "      <td>73</td>\n",
       "      <td>8</td>\n",
       "      <td>...</td>\n",
       "      <td>0.000</td>\n",
       "      <td>0.000</td>\n",
       "      <td>0.4160</td>\n",
       "      <td>0.0000</td>\n",
       "      <td>86.7200</td>\n",
       "      <td>1013.544041</td>\n",
       "      <td>1139.351861</td>\n",
       "      <td>672.99</td>\n",
       "      <td>Terca-Feira</td>\n",
       "      <td>1</td>\n",
       "    </tr>\n",
       "    <tr>\n",
       "      <th>1175387</th>\n",
       "      <td>53</td>\n",
       "      <td>Distrito Federal</td>\n",
       "      <td>5301</td>\n",
       "      <td>1</td>\n",
       "      <td>530044198</td>\n",
       "      <td>12</td>\n",
       "      <td>1</td>\n",
       "      <td>1</td>\n",
       "      <td>73</td>\n",
       "      <td>9</td>\n",
       "      <td>...</td>\n",
       "      <td>0.000</td>\n",
       "      <td>0.000</td>\n",
       "      <td>0.0800</td>\n",
       "      <td>0.0000</td>\n",
       "      <td>66.4050</td>\n",
       "      <td>1013.544041</td>\n",
       "      <td>1139.351861</td>\n",
       "      <td>672.99</td>\n",
       "      <td>Terca-Feira</td>\n",
       "      <td>1</td>\n",
       "    </tr>\n",
       "    <tr>\n",
       "      <th>1175388</th>\n",
       "      <td>53</td>\n",
       "      <td>Distrito Federal</td>\n",
       "      <td>5301</td>\n",
       "      <td>1</td>\n",
       "      <td>530044198</td>\n",
       "      <td>12</td>\n",
       "      <td>1</td>\n",
       "      <td>1</td>\n",
       "      <td>73</td>\n",
       "      <td>10</td>\n",
       "      <td>...</td>\n",
       "      <td>0.768</td>\n",
       "      <td>0.588</td>\n",
       "      <td>0.2160</td>\n",
       "      <td>0.3720</td>\n",
       "      <td>2.9040</td>\n",
       "      <td>1013.544041</td>\n",
       "      <td>1139.351861</td>\n",
       "      <td>672.99</td>\n",
       "      <td>Terca-Feira</td>\n",
       "      <td>1</td>\n",
       "    </tr>\n",
       "    <tr>\n",
       "      <th>1175389</th>\n",
       "      <td>53</td>\n",
       "      <td>Distrito Federal</td>\n",
       "      <td>5301</td>\n",
       "      <td>1</td>\n",
       "      <td>530044198</td>\n",
       "      <td>12</td>\n",
       "      <td>1</td>\n",
       "      <td>1</td>\n",
       "      <td>73</td>\n",
       "      <td>11</td>\n",
       "      <td>...</td>\n",
       "      <td>0.000</td>\n",
       "      <td>0.000</td>\n",
       "      <td>0.0000</td>\n",
       "      <td>0.0000</td>\n",
       "      <td>0.0000</td>\n",
       "      <td>1013.544041</td>\n",
       "      <td>1139.351861</td>\n",
       "      <td>672.99</td>\n",
       "      <td>Terca-Feira</td>\n",
       "      <td>1</td>\n",
       "    </tr>\n",
       "  </tbody>\n",
       "</table>\n",
       "<p>1175390 rows × 69 columns</p>\n",
       "</div>"
      ],
      "text/plain": [
       "         unidade_federacao unidade_federacao_traduzido  \\\n",
       "0                       11                    Rondônia   \n",
       "1                       11                    Rondônia   \n",
       "2                       11                    Rondônia   \n",
       "3                       11                    Rondônia   \n",
       "4                       11                    Rondônia   \n",
       "...                    ...                         ...   \n",
       "1175385                 53            Distrito Federal   \n",
       "1175386                 53            Distrito Federal   \n",
       "1175387                 53            Distrito Federal   \n",
       "1175388                 53            Distrito Federal   \n",
       "1175389                 53            Distrito Federal   \n",
       "\n",
       "         estratificacao_geografica  situacao_domicilio  \\\n",
       "0                             1101                   1   \n",
       "1                             1101                   1   \n",
       "2                             1101                   1   \n",
       "3                             1101                   1   \n",
       "4                             1101                   1   \n",
       "...                            ...                 ...   \n",
       "1175385                       5301                   1   \n",
       "1175386                       5301                   1   \n",
       "1175387                       5301                   1   \n",
       "1175388                       5301                   1   \n",
       "1175389                       5301                   1   \n",
       "\n",
       "         codigo_unidade_primaria_amostragem  numero_domicilio  \\\n",
       "0                                 110000016                 2   \n",
       "1                                 110000016                 2   \n",
       "2                                 110000016                 2   \n",
       "3                                 110000016                 2   \n",
       "4                                 110000016                 2   \n",
       "...                                     ...               ...   \n",
       "1175385                           530044198                12   \n",
       "1175386                           530044198                12   \n",
       "1175387                           530044198                12   \n",
       "1175388                           530044198                12   \n",
       "1175389                           530044198                12   \n",
       "\n",
       "         numero_unidade_consumo  COD_INFOR.MANTE  quadro  \\\n",
       "0                             1                1      72   \n",
       "1                             1                1      72   \n",
       "2                             1                1      72   \n",
       "3                             1                1      72   \n",
       "4                             1                1      72   \n",
       "...                         ...              ...     ...   \n",
       "1175385                       1                1      73   \n",
       "1175386                       1                1      73   \n",
       "1175387                       1                1      73   \n",
       "1175388                       1                1      73   \n",
       "1175389                       1                1      73   \n",
       "\n",
       "         numero_sequencial_linha_quadro  ... vitaminaB12_micrograma  \\\n",
       "0                                     1  ...                  0.000   \n",
       "1                                     1  ...                  0.000   \n",
       "2                                     2  ...                  0.285   \n",
       "3                                     2  ...                  0.000   \n",
       "4                                     3  ...                  0.000   \n",
       "...                                 ...  ...                    ...   \n",
       "1175385                               7  ...                  0.000   \n",
       "1175386                               8  ...                  0.000   \n",
       "1175387                               9  ...                  0.000   \n",
       "1175388                              10  ...                  0.768   \n",
       "1175389                              11  ...                  0.000   \n",
       "\n",
       "        vitaminaD_micrograma  vitaminaE_micrograma vitaminaC_miligramas  \\\n",
       "0                      0.000                0.1260               0.0000   \n",
       "1                      0.000                0.7924               0.0000   \n",
       "2                      0.000                0.0750               0.0000   \n",
       "3                      0.000                0.0000               0.0000   \n",
       "4                      0.000                0.1620               0.4050   \n",
       "...                      ...                   ...                  ...   \n",
       "1175385                0.000                2.3296               1.6016   \n",
       "1175386                0.000                0.4160               0.0000   \n",
       "1175387                0.000                0.0800               0.0000   \n",
       "1175388                0.588                0.2160               0.3720   \n",
       "1175389                0.000                0.0000               0.0000   \n",
       "\n",
       "        folato_micrograma fator_expansao_upa  fator_expansao_upa_final  \\\n",
       "0                104.6850        1316.609446               2390.486523   \n",
       "1                  0.1358        1316.609446               2390.486523   \n",
       "2                  5.0850        1316.609446               2390.486523   \n",
       "3                  0.0000        1316.609446               2390.486523   \n",
       "4                  2.4120        1316.609446               2390.486523   \n",
       "...                   ...                ...                       ...   \n",
       "1175385           99.4357        1013.544041               1139.351861   \n",
       "1175386           86.7200        1013.544041               1139.351861   \n",
       "1175387           66.4050        1013.544041               1139.351861   \n",
       "1175388            2.9040        1013.544041               1139.351861   \n",
       "1175389            0.0000        1013.544041               1139.351861   \n",
       "\n",
       "         renda_bruta_mensal_total       dia_semana dia_atipico  \n",
       "0                         3855.34  Quarta-Feira              2  \n",
       "1                         3855.34  Quarta-Feira              2  \n",
       "2                         3855.34  Quarta-Feira              2  \n",
       "3                         3855.34  Quarta-Feira              2  \n",
       "4                         3855.34  Quarta-Feira              2  \n",
       "...                           ...              ...         ...  \n",
       "1175385                    672.99  Terca-Feira               1  \n",
       "1175386                    672.99  Terca-Feira               1  \n",
       "1175387                    672.99  Terca-Feira               1  \n",
       "1175388                    672.99  Terca-Feira               1  \n",
       "1175389                    672.99  Terca-Feira               1  \n",
       "\n",
       "[1175390 rows x 69 columns]"
      ]
     },
     "execution_count": 4,
     "metadata": {},
     "output_type": "execute_result"
    }
   ],
   "source": [
    "df_traduzido"
   ]
  },
  {
   "cell_type": "code",
   "execution_count": null,
   "metadata": {},
   "outputs": [],
   "source": []
  }
 ],
 "metadata": {
  "kernelspec": {
   "display_name": "Python 3",
   "language": "python",
   "name": "python3"
  },
  "language_info": {
   "codemirror_mode": {
    "name": "ipython",
    "version": 3
   },
   "file_extension": ".py",
   "mimetype": "text/x-python",
   "name": "python",
   "nbconvert_exporter": "python",
   "pygments_lexer": "ipython3",
   "version": "3.10.6"
  }
 },
 "nbformat": 4,
 "nbformat_minor": 2
}
