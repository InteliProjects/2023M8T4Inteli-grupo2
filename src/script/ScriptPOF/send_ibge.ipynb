{
 "cells": [
  {
   "cell_type": "code",
   "execution_count": null,
   "metadata": {},
   "outputs": [],
   "source": [
    "!pip install pandas\n",
    "!pip install boto3\n",
    "!pip install os\n",
    "!pip install python-dotenv"
   ]
  },
  {
   "cell_type": "code",
   "execution_count": 1,
   "metadata": {},
   "outputs": [],
   "source": [
    "import pandas as pd\n",
    "import boto3\n",
    "import os\n",
    "from dotenv import load_dotenv"
   ]
  },
  {
   "cell_type": "code",
   "execution_count": 2,
   "metadata": {},
   "outputs": [
    {
     "data": {
      "text/plain": [
       "True"
      ]
     },
     "execution_count": 2,
     "metadata": {},
     "output_type": "execute_result"
    }
   ],
   "source": [
    "load_dotenv('.env.tmpl')"
   ]
  },
  {
   "cell_type": "code",
   "execution_count": 3,
   "metadata": {},
   "outputs": [
    {
     "name": "stdout",
     "output_type": "stream",
     "text": [
      "O arquivo domilicio_s3.csv foi enviado para o Amazon S3 com a chave domilicio_s3.csv.\n",
      "Todos os arquivos CSV foram processados, enviados para o Amazon S3\n"
     ]
    }
   ],
   "source": [
    "aws_access_key_id = os.getenv(\"aws_access_key_id\")\n",
    "aws_secret_access_key = os.getenv(\"aws_secret_access_key\")\n",
    "aws_session_token= ''\n",
    "\n",
    "region_name = 'us-east-1'\n",
    "bucket_name = ''\n",
    "csv_directory_s3 = './csv_s3'\n",
    "csv_directory = './csv'\n",
    "\n",
    "s3 = boto3.client('s3', aws_access_key_id=aws_access_key_id, aws_secret_access_key=aws_secret_access_key, region_name=region_name, aws_session_token=aws_session_token)\n",
    "\n",
    "csv_files = [file for file in os.listdir(csv_directory_s3) if file.endswith('.csv')]\n",
    "\n",
    "for csv_file in csv_files:\n",
    "    local_csv_file = os.path.join(csv_directory_s3, csv_file)\n",
    "    s3_file_key = csv_file\n",
    "\n",
    "    s3.upload_file(local_csv_file, bucket_name, s3_file_key)\n",
    "\n",
    "    print(f'O arquivo {csv_file} foi enviado para o Amazon S3 com a chave {s3_file_key}.')\n",
    "\n",
    "print('Todos os arquivos CSV foram processados, enviados para o Amazon S3')  \n",
    "    \n",
    "def delete_csv_files(directory):\n",
    "    csv_files = [file for file in os.listdir(directory) if file.endswith('.csv')]\n",
    "    for csv_file in csv_files:\n",
    "        file_path = os.path.join(directory, csv_file)\n",
    "        os.remove(file_path)\n",
    "        print(f'O arquivo {csv_file} foi excluído de {directory}.')\n",
    "\n",
    "delete_csv_files(csv_directory_s3)\n",
    "\n",
    "delete_csv_files(csv_directory)\n",
    "\n",
    "print('Todos os arquivos CSV foram excluídos das pastas.')\n"
   ]
  }
 ],
 "metadata": {
  "kernelspec": {
   "display_name": "Python 3",
   "language": "python",
   "name": "python3"
  },
  "language_info": {
   "codemirror_mode": {
    "name": "ipython",
    "version": 3
   },
   "file_extension": ".py",
   "mimetype": "text/x-python",
   "name": "python",
   "nbconvert_exporter": "python",
   "pygments_lexer": "ipython3",
   "version": "3.10.6"
  }
 },
 "nbformat": 4,
 "nbformat_minor": 2
}
