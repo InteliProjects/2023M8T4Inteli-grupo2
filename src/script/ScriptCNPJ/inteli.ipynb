{
 "cells": [
  {
   "cell_type": "code",
   "execution_count": 1,
   "metadata": {},
   "outputs": [],
   "source": [
    "%load_ext autoreload\n",
    "%autoreload 2"
   ]
  },
  {
   "cell_type": "code",
   "execution_count": 2,
   "metadata": {},
   "outputs": [
    {
     "name": "stdout",
     "output_type": "stream",
     "text": [
      "Requirement already satisfied: chardet in /home/malumaia/.pyenv/versions/3.10.6/lib/python3.10/site-packages (5.2.0)\n",
      "\n",
      "\u001b[1m[\u001b[0m\u001b[34;49mnotice\u001b[0m\u001b[1;39;49m]\u001b[0m\u001b[39;49m A new release of pip available: \u001b[0m\u001b[31;49m22.2.1\u001b[0m\u001b[39;49m -> \u001b[0m\u001b[32;49m23.3.1\u001b[0m\n",
      "\u001b[1m[\u001b[0m\u001b[34;49mnotice\u001b[0m\u001b[1;39;49m]\u001b[0m\u001b[39;49m To update, run: \u001b[0m\u001b[32;49mpip install --upgrade pip\u001b[0m\n",
      "Processing /mnt/c/Users/maluv/OneDrive/Área de Trabalho/script/ScriptCNPJ\n",
      "  Preparing metadata (setup.py) ... \u001b[?25ldone\n",
      "\u001b[?25hUsing legacy 'setup.py install' for cnpj, since package 'wheel' is not installed.\n",
      "Installing collected packages: cnpj\n",
      "  Attempting uninstall: cnpj\n",
      "    Found existing installation: cnpj 0.0.0\n",
      "    Uninstalling cnpj-0.0.0:\n",
      "      Successfully uninstalled cnpj-0.0.0\n",
      "  Running setup.py install for cnpj ... \u001b[?25ldone\n",
      "\u001b[?25hSuccessfully installed cnpj-0.0.0\n",
      "\n",
      "\u001b[1m[\u001b[0m\u001b[34;49mnotice\u001b[0m\u001b[1;39;49m]\u001b[0m\u001b[39;49m A new release of pip available: \u001b[0m\u001b[31;49m22.2.1\u001b[0m\u001b[39;49m -> \u001b[0m\u001b[32;49m23.3.1\u001b[0m\n",
      "\u001b[1m[\u001b[0m\u001b[34;49mnotice\u001b[0m\u001b[1;39;49m]\u001b[0m\u001b[39;49m To update, run: \u001b[0m\u001b[32;49mpip install --upgrade pip\u001b[0m\n"
     ]
    }
   ],
   "source": [
    "!pip install chardet\n",
    "!pip install ."
   ]
  },
  {
   "cell_type": "code",
   "execution_count": 2,
   "metadata": {},
   "outputs": [],
   "source": [
    "import pandas as pd\n",
    "import cnpj.lib as funcao\n",
    "import os"
   ]
  },
  {
   "cell_type": "markdown",
   "metadata": {},
   "source": [
    "# CNPJ1"
   ]
  },
  {
   "cell_type": "code",
   "execution_count": 2,
   "metadata": {},
   "outputs": [
    {
     "name": "stderr",
     "output_type": "stream",
     "text": [
      "/mnt/c/Users/maluv/OneDrive/Área de Trabalho/script/ScriptCNPJ/cnpj/lib.py:8: DtypeWarning: Columns (10,23,25) have mixed types. Specify dtype option on import or set low_memory=False.\n",
      "  for chunk in pd.read_csv(path_to_file, delimiter=delimiter, chunksize=chunk_size):\n",
      "/mnt/c/Users/maluv/OneDrive/Área de Trabalho/script/ScriptCNPJ/cnpj/lib.py:8: DtypeWarning: Columns (10,25) have mixed types. Specify dtype option on import or set low_memory=False.\n",
      "  for chunk in pd.read_csv(path_to_file, delimiter=delimiter, chunksize=chunk_size):\n",
      "/mnt/c/Users/maluv/OneDrive/Área de Trabalho/script/ScriptCNPJ/cnpj/lib.py:8: DtypeWarning: Columns (10,25) have mixed types. Specify dtype option on import or set low_memory=False.\n",
      "  for chunk in pd.read_csv(path_to_file, delimiter=delimiter, chunksize=chunk_size):\n",
      "/mnt/c/Users/maluv/OneDrive/Área de Trabalho/script/ScriptCNPJ/cnpj/lib.py:8: DtypeWarning: Columns (25) have mixed types. Specify dtype option on import or set low_memory=False.\n",
      "  for chunk in pd.read_csv(path_to_file, delimiter=delimiter, chunksize=chunk_size):\n",
      "/mnt/c/Users/maluv/OneDrive/Área de Trabalho/script/ScriptCNPJ/cnpj/lib.py:8: DtypeWarning: Columns (10,25) have mixed types. Specify dtype option on import or set low_memory=False.\n",
      "  for chunk in pd.read_csv(path_to_file, delimiter=delimiter, chunksize=chunk_size):\n",
      "/mnt/c/Users/maluv/OneDrive/Área de Trabalho/script/ScriptCNPJ/cnpj/lib.py:8: DtypeWarning: Columns (10,25,31,32) have mixed types. Specify dtype option on import or set low_memory=False.\n",
      "  for chunk in pd.read_csv(path_to_file, delimiter=delimiter, chunksize=chunk_size):\n",
      "/mnt/c/Users/maluv/OneDrive/Área de Trabalho/script/ScriptCNPJ/cnpj/lib.py:8: DtypeWarning: Columns (10,25,29) have mixed types. Specify dtype option on import or set low_memory=False.\n",
      "  for chunk in pd.read_csv(path_to_file, delimiter=delimiter, chunksize=chunk_size):\n",
      "/mnt/c/Users/maluv/OneDrive/Área de Trabalho/script/ScriptCNPJ/cnpj/lib.py:8: DtypeWarning: Columns (25) have mixed types. Specify dtype option on import or set low_memory=False.\n",
      "  for chunk in pd.read_csv(path_to_file, delimiter=delimiter, chunksize=chunk_size):\n",
      "/mnt/c/Users/maluv/OneDrive/Área de Trabalho/script/ScriptCNPJ/cnpj/lib.py:8: DtypeWarning: Columns (10,25) have mixed types. Specify dtype option on import or set low_memory=False.\n",
      "  for chunk in pd.read_csv(path_to_file, delimiter=delimiter, chunksize=chunk_size):\n",
      "/mnt/c/Users/maluv/OneDrive/Área de Trabalho/script/ScriptCNPJ/cnpj/lib.py:8: DtypeWarning: Columns (10,25,31,32) have mixed types. Specify dtype option on import or set low_memory=False.\n",
      "  for chunk in pd.read_csv(path_to_file, delimiter=delimiter, chunksize=chunk_size):\n",
      "/mnt/c/Users/maluv/OneDrive/Área de Trabalho/script/ScriptCNPJ/cnpj/lib.py:8: DtypeWarning: Columns (25) have mixed types. Specify dtype option on import or set low_memory=False.\n",
      "  for chunk in pd.read_csv(path_to_file, delimiter=delimiter, chunksize=chunk_size):\n",
      "/mnt/c/Users/maluv/OneDrive/Área de Trabalho/script/ScriptCNPJ/cnpj/lib.py:8: DtypeWarning: Columns (10,25) have mixed types. Specify dtype option on import or set low_memory=False.\n",
      "  for chunk in pd.read_csv(path_to_file, delimiter=delimiter, chunksize=chunk_size):\n",
      "/mnt/c/Users/maluv/OneDrive/Área de Trabalho/script/ScriptCNPJ/cnpj/lib.py:8: DtypeWarning: Columns (10,25) have mixed types. Specify dtype option on import or set low_memory=False.\n",
      "  for chunk in pd.read_csv(path_to_file, delimiter=delimiter, chunksize=chunk_size):\n",
      "/mnt/c/Users/maluv/OneDrive/Área de Trabalho/script/ScriptCNPJ/cnpj/lib.py:8: DtypeWarning: Columns (10,23,25,29) have mixed types. Specify dtype option on import or set low_memory=False.\n",
      "  for chunk in pd.read_csv(path_to_file, delimiter=delimiter, chunksize=chunk_size):\n",
      "/mnt/c/Users/maluv/OneDrive/Área de Trabalho/script/ScriptCNPJ/cnpj/lib.py:8: DtypeWarning: Columns (25,29) have mixed types. Specify dtype option on import or set low_memory=False.\n",
      "  for chunk in pd.read_csv(path_to_file, delimiter=delimiter, chunksize=chunk_size):\n",
      "/mnt/c/Users/maluv/OneDrive/Área de Trabalho/script/ScriptCNPJ/cnpj/lib.py:8: DtypeWarning: Columns (10,23,25) have mixed types. Specify dtype option on import or set low_memory=False.\n",
      "  for chunk in pd.read_csv(path_to_file, delimiter=delimiter, chunksize=chunk_size):\n",
      "/mnt/c/Users/maluv/OneDrive/Área de Trabalho/script/ScriptCNPJ/cnpj/lib.py:8: DtypeWarning: Columns (10,25,29,31,32) have mixed types. Specify dtype option on import or set low_memory=False.\n",
      "  for chunk in pd.read_csv(path_to_file, delimiter=delimiter, chunksize=chunk_size):\n",
      "/mnt/c/Users/maluv/OneDrive/Área de Trabalho/script/ScriptCNPJ/cnpj/lib.py:8: DtypeWarning: Columns (10,25,31,32) have mixed types. Specify dtype option on import or set low_memory=False.\n",
      "  for chunk in pd.read_csv(path_to_file, delimiter=delimiter, chunksize=chunk_size):\n",
      "/mnt/c/Users/maluv/OneDrive/Área de Trabalho/script/ScriptCNPJ/cnpj/lib.py:8: DtypeWarning: Columns (29) have mixed types. Specify dtype option on import or set low_memory=False.\n",
      "  for chunk in pd.read_csv(path_to_file, delimiter=delimiter, chunksize=chunk_size):\n",
      "/mnt/c/Users/maluv/OneDrive/Área de Trabalho/script/ScriptCNPJ/cnpj/lib.py:8: DtypeWarning: Columns (10,25) have mixed types. Specify dtype option on import or set low_memory=False.\n",
      "  for chunk in pd.read_csv(path_to_file, delimiter=delimiter, chunksize=chunk_size):\n",
      "/mnt/c/Users/maluv/OneDrive/Área de Trabalho/script/ScriptCNPJ/cnpj/lib.py:8: DtypeWarning: Columns (10,25) have mixed types. Specify dtype option on import or set low_memory=False.\n",
      "  for chunk in pd.read_csv(path_to_file, delimiter=delimiter, chunksize=chunk_size):\n",
      "/mnt/c/Users/maluv/OneDrive/Área de Trabalho/script/ScriptCNPJ/cnpj/lib.py:8: DtypeWarning: Columns (10,23,25) have mixed types. Specify dtype option on import or set low_memory=False.\n",
      "  for chunk in pd.read_csv(path_to_file, delimiter=delimiter, chunksize=chunk_size):\n",
      "/mnt/c/Users/maluv/OneDrive/Área de Trabalho/script/ScriptCNPJ/cnpj/lib.py:8: DtypeWarning: Columns (10,25) have mixed types. Specify dtype option on import or set low_memory=False.\n",
      "  for chunk in pd.read_csv(path_to_file, delimiter=delimiter, chunksize=chunk_size):\n",
      "/mnt/c/Users/maluv/OneDrive/Área de Trabalho/script/ScriptCNPJ/cnpj/lib.py:8: DtypeWarning: Columns (10,25,29) have mixed types. Specify dtype option on import or set low_memory=False.\n",
      "  for chunk in pd.read_csv(path_to_file, delimiter=delimiter, chunksize=chunk_size):\n",
      "/mnt/c/Users/maluv/OneDrive/Área de Trabalho/script/ScriptCNPJ/cnpj/lib.py:8: DtypeWarning: Columns (25) have mixed types. Specify dtype option on import or set low_memory=False.\n",
      "  for chunk in pd.read_csv(path_to_file, delimiter=delimiter, chunksize=chunk_size):\n",
      "/mnt/c/Users/maluv/OneDrive/Área de Trabalho/script/ScriptCNPJ/cnpj/lib.py:8: DtypeWarning: Columns (10,25,29) have mixed types. Specify dtype option on import or set low_memory=False.\n",
      "  for chunk in pd.read_csv(path_to_file, delimiter=delimiter, chunksize=chunk_size):\n",
      "/mnt/c/Users/maluv/OneDrive/Área de Trabalho/script/ScriptCNPJ/cnpj/lib.py:8: DtypeWarning: Columns (10,25,29) have mixed types. Specify dtype option on import or set low_memory=False.\n",
      "  for chunk in pd.read_csv(path_to_file, delimiter=delimiter, chunksize=chunk_size):\n",
      "/mnt/c/Users/maluv/OneDrive/Área de Trabalho/script/ScriptCNPJ/cnpj/lib.py:8: DtypeWarning: Columns (10,25,31,32) have mixed types. Specify dtype option on import or set low_memory=False.\n",
      "  for chunk in pd.read_csv(path_to_file, delimiter=delimiter, chunksize=chunk_size):\n",
      "/mnt/c/Users/maluv/OneDrive/Área de Trabalho/script/ScriptCNPJ/cnpj/lib.py:8: DtypeWarning: Columns (10,25,31,32) have mixed types. Specify dtype option on import or set low_memory=False.\n",
      "  for chunk in pd.read_csv(path_to_file, delimiter=delimiter, chunksize=chunk_size):\n",
      "/mnt/c/Users/maluv/OneDrive/Área de Trabalho/script/ScriptCNPJ/cnpj/lib.py:8: DtypeWarning: Columns (10,25) have mixed types. Specify dtype option on import or set low_memory=False.\n",
      "  for chunk in pd.read_csv(path_to_file, delimiter=delimiter, chunksize=chunk_size):\n",
      "/mnt/c/Users/maluv/OneDrive/Área de Trabalho/script/ScriptCNPJ/cnpj/lib.py:8: DtypeWarning: Columns (10,25,31,32) have mixed types. Specify dtype option on import or set low_memory=False.\n",
      "  for chunk in pd.read_csv(path_to_file, delimiter=delimiter, chunksize=chunk_size):\n",
      "/mnt/c/Users/maluv/OneDrive/Área de Trabalho/script/ScriptCNPJ/cnpj/lib.py:8: DtypeWarning: Columns (25) have mixed types. Specify dtype option on import or set low_memory=False.\n",
      "  for chunk in pd.read_csv(path_to_file, delimiter=delimiter, chunksize=chunk_size):\n",
      "/mnt/c/Users/maluv/OneDrive/Área de Trabalho/script/ScriptCNPJ/cnpj/lib.py:8: DtypeWarning: Columns (10,25,29) have mixed types. Specify dtype option on import or set low_memory=False.\n",
      "  for chunk in pd.read_csv(path_to_file, delimiter=delimiter, chunksize=chunk_size):\n",
      "/mnt/c/Users/maluv/OneDrive/Área de Trabalho/script/ScriptCNPJ/cnpj/lib.py:8: DtypeWarning: Columns (10,25) have mixed types. Specify dtype option on import or set low_memory=False.\n",
      "  for chunk in pd.read_csv(path_to_file, delimiter=delimiter, chunksize=chunk_size):\n",
      "/mnt/c/Users/maluv/OneDrive/Área de Trabalho/script/ScriptCNPJ/cnpj/lib.py:8: DtypeWarning: Columns (10,25,29) have mixed types. Specify dtype option on import or set low_memory=False.\n",
      "  for chunk in pd.read_csv(path_to_file, delimiter=delimiter, chunksize=chunk_size):\n",
      "/mnt/c/Users/maluv/OneDrive/Área de Trabalho/script/ScriptCNPJ/cnpj/lib.py:8: DtypeWarning: Columns (10,25,31,32) have mixed types. Specify dtype option on import or set low_memory=False.\n",
      "  for chunk in pd.read_csv(path_to_file, delimiter=delimiter, chunksize=chunk_size):\n",
      "/mnt/c/Users/maluv/OneDrive/Área de Trabalho/script/ScriptCNPJ/cnpj/lib.py:8: DtypeWarning: Columns (10,25,29) have mixed types. Specify dtype option on import or set low_memory=False.\n",
      "  for chunk in pd.read_csv(path_to_file, delimiter=delimiter, chunksize=chunk_size):\n",
      "/mnt/c/Users/maluv/OneDrive/Área de Trabalho/script/ScriptCNPJ/cnpj/lib.py:8: DtypeWarning: Columns (25,31,32) have mixed types. Specify dtype option on import or set low_memory=False.\n",
      "  for chunk in pd.read_csv(path_to_file, delimiter=delimiter, chunksize=chunk_size):\n",
      "/mnt/c/Users/maluv/OneDrive/Área de Trabalho/script/ScriptCNPJ/cnpj/lib.py:8: DtypeWarning: Columns (23,25) have mixed types. Specify dtype option on import or set low_memory=False.\n",
      "  for chunk in pd.read_csv(path_to_file, delimiter=delimiter, chunksize=chunk_size):\n",
      "/mnt/c/Users/maluv/OneDrive/Área de Trabalho/script/ScriptCNPJ/cnpj/lib.py:8: DtypeWarning: Columns (10,23,25) have mixed types. Specify dtype option on import or set low_memory=False.\n",
      "  for chunk in pd.read_csv(path_to_file, delimiter=delimiter, chunksize=chunk_size):\n",
      "/mnt/c/Users/maluv/OneDrive/Área de Trabalho/script/ScriptCNPJ/cnpj/lib.py:8: DtypeWarning: Columns (10,25) have mixed types. Specify dtype option on import or set low_memory=False.\n",
      "  for chunk in pd.read_csv(path_to_file, delimiter=delimiter, chunksize=chunk_size):\n",
      "/mnt/c/Users/maluv/OneDrive/Área de Trabalho/script/ScriptCNPJ/cnpj/lib.py:8: DtypeWarning: Columns (10,23,25,29) have mixed types. Specify dtype option on import or set low_memory=False.\n",
      "  for chunk in pd.read_csv(path_to_file, delimiter=delimiter, chunksize=chunk_size):\n",
      "/mnt/c/Users/maluv/OneDrive/Área de Trabalho/script/ScriptCNPJ/cnpj/lib.py:8: DtypeWarning: Columns (25) have mixed types. Specify dtype option on import or set low_memory=False.\n",
      "  for chunk in pd.read_csv(path_to_file, delimiter=delimiter, chunksize=chunk_size):\n",
      "/mnt/c/Users/maluv/OneDrive/Área de Trabalho/script/ScriptCNPJ/cnpj/lib.py:8: DtypeWarning: Columns (10,25) have mixed types. Specify dtype option on import or set low_memory=False.\n",
      "  for chunk in pd.read_csv(path_to_file, delimiter=delimiter, chunksize=chunk_size):\n",
      "/mnt/c/Users/maluv/OneDrive/Área de Trabalho/script/ScriptCNPJ/cnpj/lib.py:8: DtypeWarning: Columns (10,25) have mixed types. Specify dtype option on import or set low_memory=False.\n",
      "  for chunk in pd.read_csv(path_to_file, delimiter=delimiter, chunksize=chunk_size):\n",
      "/mnt/c/Users/maluv/OneDrive/Área de Trabalho/script/ScriptCNPJ/cnpj/lib.py:8: DtypeWarning: Columns (10,25,29) have mixed types. Specify dtype option on import or set low_memory=False.\n",
      "  for chunk in pd.read_csv(path_to_file, delimiter=delimiter, chunksize=chunk_size):\n",
      "/mnt/c/Users/maluv/OneDrive/Área de Trabalho/script/ScriptCNPJ/cnpj/lib.py:8: DtypeWarning: Columns (25) have mixed types. Specify dtype option on import or set low_memory=False.\n",
      "  for chunk in pd.read_csv(path_to_file, delimiter=delimiter, chunksize=chunk_size):\n",
      "/mnt/c/Users/maluv/OneDrive/Área de Trabalho/script/ScriptCNPJ/cnpj/lib.py:8: DtypeWarning: Columns (10,25,29) have mixed types. Specify dtype option on import or set low_memory=False.\n",
      "  for chunk in pd.read_csv(path_to_file, delimiter=delimiter, chunksize=chunk_size):\n",
      "/mnt/c/Users/maluv/OneDrive/Área de Trabalho/script/ScriptCNPJ/cnpj/lib.py:8: DtypeWarning: Columns (10,25) have mixed types. Specify dtype option on import or set low_memory=False.\n",
      "  for chunk in pd.read_csv(path_to_file, delimiter=delimiter, chunksize=chunk_size):\n",
      "/mnt/c/Users/maluv/OneDrive/Área de Trabalho/script/ScriptCNPJ/cnpj/lib.py:8: DtypeWarning: Columns (25,31,32) have mixed types. Specify dtype option on import or set low_memory=False.\n",
      "  for chunk in pd.read_csv(path_to_file, delimiter=delimiter, chunksize=chunk_size):\n",
      "/mnt/c/Users/maluv/OneDrive/Área de Trabalho/script/ScriptCNPJ/cnpj/lib.py:8: DtypeWarning: Columns (10,23,25) have mixed types. Specify dtype option on import or set low_memory=False.\n",
      "  for chunk in pd.read_csv(path_to_file, delimiter=delimiter, chunksize=chunk_size):\n",
      "/mnt/c/Users/maluv/OneDrive/Área de Trabalho/script/ScriptCNPJ/cnpj/lib.py:8: DtypeWarning: Columns (10,25,29,31,32) have mixed types. Specify dtype option on import or set low_memory=False.\n",
      "  for chunk in pd.read_csv(path_to_file, delimiter=delimiter, chunksize=chunk_size):\n",
      "/mnt/c/Users/maluv/OneDrive/Área de Trabalho/script/ScriptCNPJ/cnpj/lib.py:8: DtypeWarning: Columns (23,25) have mixed types. Specify dtype option on import or set low_memory=False.\n",
      "  for chunk in pd.read_csv(path_to_file, delimiter=delimiter, chunksize=chunk_size):\n"
     ]
    }
   ],
   "source": [
    "df = funcao.carregar_dados_delimitador_correto('./csv/cnpjs_1.csv', ';')"
   ]
  },
  {
   "cell_type": "code",
   "execution_count": 3,
   "metadata": {},
   "outputs": [
    {
     "name": "stderr",
     "output_type": "stream",
     "text": [
      "/mnt/c/Users/maluv/OneDrive/Área de Trabalho/script/ScriptCNPJ/cnpj/lib.py:29: SettingWithCopyWarning: \n",
      "A value is trying to be set on a copy of a slice from a DataFrame.\n",
      "Try using .loc[row_indexer,col_indexer] = value instead\n",
      "\n",
      "See the caveats in the documentation: https://pandas.pydata.org/pandas-docs/stable/user_guide/indexing.html#returning-a-view-versus-a-copy\n",
      "  chunk[coluna] = chunk[coluna].apply(limpar_celula)\n",
      "/mnt/c/Users/maluv/OneDrive/Área de Trabalho/script/ScriptCNPJ/cnpj/lib.py:52: FutureWarning: DataFrame.applymap has been deprecated. Use DataFrame.map instead.\n",
      "  df_chunk = df_chunk.applymap(lambda x: x.replace(',', ';') if isinstance(x, str) else x)\n"
     ]
    },
    {
     "data": {
      "text/plain": [
       "'./csv_s3/cnpjs_1_s3.csv'"
      ]
     },
     "execution_count": 3,
     "metadata": {},
     "output_type": "execute_result"
    }
   ],
   "source": [
    "df = funcao.limpar_dados(df, colunas_a_ignorar=['email', 'data', 'data_situacao_cadastral', 'data_inicio_atividade', 'data_situacao_especial'])\n",
    "df = funcao.tratar_valores_nulos(df, 'nan', chunk_size=1000) \n",
    "df = funcao.remover_coluna(df, 'cnae_fiscal_secundaria') \n",
    "funcao.ajustar_amazon_s3(df, './csv_s3/cnpjs_1_s3.csv')"
   ]
  },
  {
   "cell_type": "markdown",
   "metadata": {},
   "source": [
    "# CNPJ2"
   ]
  },
  {
   "cell_type": "code",
   "execution_count": 2,
   "metadata": {},
   "outputs": [
    {
     "name": "stderr",
     "output_type": "stream",
     "text": [
      "/mnt/c/Users/maluv/OneDrive/Área de Trabalho/script/ScriptCNPJ/cnpj/lib.py:8: DtypeWarning: Columns (10,25,29,31,32) have mixed types. Specify dtype option on import or set low_memory=False.\n",
      "  for chunk in pd.read_csv(path_to_file, delimiter=delimiter, chunksize=chunk_size):\n",
      "/mnt/c/Users/maluv/OneDrive/Área de Trabalho/script/ScriptCNPJ/cnpj/lib.py:8: DtypeWarning: Columns (10,31,32) have mixed types. Specify dtype option on import or set low_memory=False.\n",
      "  for chunk in pd.read_csv(path_to_file, delimiter=delimiter, chunksize=chunk_size):\n",
      "/mnt/c/Users/maluv/OneDrive/Área de Trabalho/script/ScriptCNPJ/cnpj/lib.py:8: DtypeWarning: Columns (25) have mixed types. Specify dtype option on import or set low_memory=False.\n",
      "  for chunk in pd.read_csv(path_to_file, delimiter=delimiter, chunksize=chunk_size):\n",
      "/mnt/c/Users/maluv/OneDrive/Área de Trabalho/script/ScriptCNPJ/cnpj/lib.py:8: DtypeWarning: Columns (25) have mixed types. Specify dtype option on import or set low_memory=False.\n",
      "  for chunk in pd.read_csv(path_to_file, delimiter=delimiter, chunksize=chunk_size):\n",
      "/mnt/c/Users/maluv/OneDrive/Área de Trabalho/script/ScriptCNPJ/cnpj/lib.py:8: DtypeWarning: Columns (10,25,29) have mixed types. Specify dtype option on import or set low_memory=False.\n",
      "  for chunk in pd.read_csv(path_to_file, delimiter=delimiter, chunksize=chunk_size):\n",
      "/mnt/c/Users/maluv/OneDrive/Área de Trabalho/script/ScriptCNPJ/cnpj/lib.py:8: DtypeWarning: Columns (10,25) have mixed types. Specify dtype option on import or set low_memory=False.\n",
      "  for chunk in pd.read_csv(path_to_file, delimiter=delimiter, chunksize=chunk_size):\n",
      "/mnt/c/Users/maluv/OneDrive/Área de Trabalho/script/ScriptCNPJ/cnpj/lib.py:8: DtypeWarning: Columns (25,29) have mixed types. Specify dtype option on import or set low_memory=False.\n",
      "  for chunk in pd.read_csv(path_to_file, delimiter=delimiter, chunksize=chunk_size):\n",
      "/mnt/c/Users/maluv/OneDrive/Área de Trabalho/script/ScriptCNPJ/cnpj/lib.py:8: DtypeWarning: Columns (25) have mixed types. Specify dtype option on import or set low_memory=False.\n",
      "  for chunk in pd.read_csv(path_to_file, delimiter=delimiter, chunksize=chunk_size):\n",
      "/mnt/c/Users/maluv/OneDrive/Área de Trabalho/script/ScriptCNPJ/cnpj/lib.py:8: DtypeWarning: Columns (25) have mixed types. Specify dtype option on import or set low_memory=False.\n",
      "  for chunk in pd.read_csv(path_to_file, delimiter=delimiter, chunksize=chunk_size):\n",
      "/mnt/c/Users/maluv/OneDrive/Área de Trabalho/script/ScriptCNPJ/cnpj/lib.py:8: DtypeWarning: Columns (25,29) have mixed types. Specify dtype option on import or set low_memory=False.\n",
      "  for chunk in pd.read_csv(path_to_file, delimiter=delimiter, chunksize=chunk_size):\n",
      "/mnt/c/Users/maluv/OneDrive/Área de Trabalho/script/ScriptCNPJ/cnpj/lib.py:8: DtypeWarning: Columns (25,29) have mixed types. Specify dtype option on import or set low_memory=False.\n",
      "  for chunk in pd.read_csv(path_to_file, delimiter=delimiter, chunksize=chunk_size):\n",
      "/mnt/c/Users/maluv/OneDrive/Área de Trabalho/script/ScriptCNPJ/cnpj/lib.py:8: DtypeWarning: Columns (25,29) have mixed types. Specify dtype option on import or set low_memory=False.\n",
      "  for chunk in pd.read_csv(path_to_file, delimiter=delimiter, chunksize=chunk_size):\n",
      "/mnt/c/Users/maluv/OneDrive/Área de Trabalho/script/ScriptCNPJ/cnpj/lib.py:8: DtypeWarning: Columns (10,25,29) have mixed types. Specify dtype option on import or set low_memory=False.\n",
      "  for chunk in pd.read_csv(path_to_file, delimiter=delimiter, chunksize=chunk_size):\n",
      "/mnt/c/Users/maluv/OneDrive/Área de Trabalho/script/ScriptCNPJ/cnpj/lib.py:8: DtypeWarning: Columns (25,29,31,32) have mixed types. Specify dtype option on import or set low_memory=False.\n",
      "  for chunk in pd.read_csv(path_to_file, delimiter=delimiter, chunksize=chunk_size):\n",
      "/mnt/c/Users/maluv/OneDrive/Área de Trabalho/script/ScriptCNPJ/cnpj/lib.py:8: DtypeWarning: Columns (24,25,29) have mixed types. Specify dtype option on import or set low_memory=False.\n",
      "  for chunk in pd.read_csv(path_to_file, delimiter=delimiter, chunksize=chunk_size):\n",
      "/mnt/c/Users/maluv/OneDrive/Área de Trabalho/script/ScriptCNPJ/cnpj/lib.py:8: DtypeWarning: Columns (10,25) have mixed types. Specify dtype option on import or set low_memory=False.\n",
      "  for chunk in pd.read_csv(path_to_file, delimiter=delimiter, chunksize=chunk_size):\n",
      "/mnt/c/Users/maluv/OneDrive/Área de Trabalho/script/ScriptCNPJ/cnpj/lib.py:8: DtypeWarning: Columns (10,25,31,32) have mixed types. Specify dtype option on import or set low_memory=False.\n",
      "  for chunk in pd.read_csv(path_to_file, delimiter=delimiter, chunksize=chunk_size):\n",
      "/mnt/c/Users/maluv/OneDrive/Área de Trabalho/script/ScriptCNPJ/cnpj/lib.py:8: DtypeWarning: Columns (10,25) have mixed types. Specify dtype option on import or set low_memory=False.\n",
      "  for chunk in pd.read_csv(path_to_file, delimiter=delimiter, chunksize=chunk_size):\n",
      "/mnt/c/Users/maluv/OneDrive/Área de Trabalho/script/ScriptCNPJ/cnpj/lib.py:8: DtypeWarning: Columns (10,29) have mixed types. Specify dtype option on import or set low_memory=False.\n",
      "  for chunk in pd.read_csv(path_to_file, delimiter=delimiter, chunksize=chunk_size):\n",
      "/mnt/c/Users/maluv/OneDrive/Área de Trabalho/script/ScriptCNPJ/cnpj/lib.py:8: DtypeWarning: Columns (25,29) have mixed types. Specify dtype option on import or set low_memory=False.\n",
      "  for chunk in pd.read_csv(path_to_file, delimiter=delimiter, chunksize=chunk_size):\n",
      "/mnt/c/Users/maluv/OneDrive/Área de Trabalho/script/ScriptCNPJ/cnpj/lib.py:8: DtypeWarning: Columns (25,29,31,32) have mixed types. Specify dtype option on import or set low_memory=False.\n",
      "  for chunk in pd.read_csv(path_to_file, delimiter=delimiter, chunksize=chunk_size):\n",
      "/mnt/c/Users/maluv/OneDrive/Área de Trabalho/script/ScriptCNPJ/cnpj/lib.py:8: DtypeWarning: Columns (10,25,29) have mixed types. Specify dtype option on import or set low_memory=False.\n",
      "  for chunk in pd.read_csv(path_to_file, delimiter=delimiter, chunksize=chunk_size):\n",
      "/mnt/c/Users/maluv/OneDrive/Área de Trabalho/script/ScriptCNPJ/cnpj/lib.py:8: DtypeWarning: Columns (10,25,29) have mixed types. Specify dtype option on import or set low_memory=False.\n",
      "  for chunk in pd.read_csv(path_to_file, delimiter=delimiter, chunksize=chunk_size):\n",
      "/mnt/c/Users/maluv/OneDrive/Área de Trabalho/script/ScriptCNPJ/cnpj/lib.py:8: DtypeWarning: Columns (25,29) have mixed types. Specify dtype option on import or set low_memory=False.\n",
      "  for chunk in pd.read_csv(path_to_file, delimiter=delimiter, chunksize=chunk_size):\n",
      "/mnt/c/Users/maluv/OneDrive/Área de Trabalho/script/ScriptCNPJ/cnpj/lib.py:8: DtypeWarning: Columns (25,31,32) have mixed types. Specify dtype option on import or set low_memory=False.\n",
      "  for chunk in pd.read_csv(path_to_file, delimiter=delimiter, chunksize=chunk_size):\n",
      "/mnt/c/Users/maluv/OneDrive/Área de Trabalho/script/ScriptCNPJ/cnpj/lib.py:8: DtypeWarning: Columns (10,25,29) have mixed types. Specify dtype option on import or set low_memory=False.\n",
      "  for chunk in pd.read_csv(path_to_file, delimiter=delimiter, chunksize=chunk_size):\n",
      "/mnt/c/Users/maluv/OneDrive/Área de Trabalho/script/ScriptCNPJ/cnpj/lib.py:8: DtypeWarning: Columns (25,29) have mixed types. Specify dtype option on import or set low_memory=False.\n",
      "  for chunk in pd.read_csv(path_to_file, delimiter=delimiter, chunksize=chunk_size):\n",
      "/mnt/c/Users/maluv/OneDrive/Área de Trabalho/script/ScriptCNPJ/cnpj/lib.py:8: DtypeWarning: Columns (10,25,29) have mixed types. Specify dtype option on import or set low_memory=False.\n",
      "  for chunk in pd.read_csv(path_to_file, delimiter=delimiter, chunksize=chunk_size):\n",
      "/mnt/c/Users/maluv/OneDrive/Área de Trabalho/script/ScriptCNPJ/cnpj/lib.py:8: DtypeWarning: Columns (10,25,31,32) have mixed types. Specify dtype option on import or set low_memory=False.\n",
      "  for chunk in pd.read_csv(path_to_file, delimiter=delimiter, chunksize=chunk_size):\n",
      "/mnt/c/Users/maluv/OneDrive/Área de Trabalho/script/ScriptCNPJ/cnpj/lib.py:8: DtypeWarning: Columns (25,29) have mixed types. Specify dtype option on import or set low_memory=False.\n",
      "  for chunk in pd.read_csv(path_to_file, delimiter=delimiter, chunksize=chunk_size):\n",
      "/mnt/c/Users/maluv/OneDrive/Área de Trabalho/script/ScriptCNPJ/cnpj/lib.py:8: DtypeWarning: Columns (29) have mixed types. Specify dtype option on import or set low_memory=False.\n",
      "  for chunk in pd.read_csv(path_to_file, delimiter=delimiter, chunksize=chunk_size):\n",
      "/mnt/c/Users/maluv/OneDrive/Área de Trabalho/script/ScriptCNPJ/cnpj/lib.py:8: DtypeWarning: Columns (25) have mixed types. Specify dtype option on import or set low_memory=False.\n",
      "  for chunk in pd.read_csv(path_to_file, delimiter=delimiter, chunksize=chunk_size):\n",
      "/mnt/c/Users/maluv/OneDrive/Área de Trabalho/script/ScriptCNPJ/cnpj/lib.py:8: DtypeWarning: Columns (25,29) have mixed types. Specify dtype option on import or set low_memory=False.\n",
      "  for chunk in pd.read_csv(path_to_file, delimiter=delimiter, chunksize=chunk_size):\n",
      "/mnt/c/Users/maluv/OneDrive/Área de Trabalho/script/ScriptCNPJ/cnpj/lib.py:8: DtypeWarning: Columns (10,25,31,32) have mixed types. Specify dtype option on import or set low_memory=False.\n",
      "  for chunk in pd.read_csv(path_to_file, delimiter=delimiter, chunksize=chunk_size):\n",
      "/mnt/c/Users/maluv/OneDrive/Área de Trabalho/script/ScriptCNPJ/cnpj/lib.py:8: DtypeWarning: Columns (10,29) have mixed types. Specify dtype option on import or set low_memory=False.\n",
      "  for chunk in pd.read_csv(path_to_file, delimiter=delimiter, chunksize=chunk_size):\n",
      "/mnt/c/Users/maluv/OneDrive/Área de Trabalho/script/ScriptCNPJ/cnpj/lib.py:8: DtypeWarning: Columns (25,29) have mixed types. Specify dtype option on import or set low_memory=False.\n",
      "  for chunk in pd.read_csv(path_to_file, delimiter=delimiter, chunksize=chunk_size):\n",
      "/mnt/c/Users/maluv/OneDrive/Área de Trabalho/script/ScriptCNPJ/cnpj/lib.py:8: DtypeWarning: Columns (10,25,29) have mixed types. Specify dtype option on import or set low_memory=False.\n",
      "  for chunk in pd.read_csv(path_to_file, delimiter=delimiter, chunksize=chunk_size):\n",
      "/mnt/c/Users/maluv/OneDrive/Área de Trabalho/script/ScriptCNPJ/cnpj/lib.py:8: DtypeWarning: Columns (10,25,29) have mixed types. Specify dtype option on import or set low_memory=False.\n",
      "  for chunk in pd.read_csv(path_to_file, delimiter=delimiter, chunksize=chunk_size):\n",
      "/mnt/c/Users/maluv/OneDrive/Área de Trabalho/script/ScriptCNPJ/cnpj/lib.py:8: DtypeWarning: Columns (10,25,31,32) have mixed types. Specify dtype option on import or set low_memory=False.\n",
      "  for chunk in pd.read_csv(path_to_file, delimiter=delimiter, chunksize=chunk_size):\n",
      "/mnt/c/Users/maluv/OneDrive/Área de Trabalho/script/ScriptCNPJ/cnpj/lib.py:8: DtypeWarning: Columns (25,29) have mixed types. Specify dtype option on import or set low_memory=False.\n",
      "  for chunk in pd.read_csv(path_to_file, delimiter=delimiter, chunksize=chunk_size):\n",
      "/mnt/c/Users/maluv/OneDrive/Área de Trabalho/script/ScriptCNPJ/cnpj/lib.py:8: DtypeWarning: Columns (10,25,29) have mixed types. Specify dtype option on import or set low_memory=False.\n",
      "  for chunk in pd.read_csv(path_to_file, delimiter=delimiter, chunksize=chunk_size):\n",
      "/mnt/c/Users/maluv/OneDrive/Área de Trabalho/script/ScriptCNPJ/cnpj/lib.py:8: DtypeWarning: Columns (10,29) have mixed types. Specify dtype option on import or set low_memory=False.\n",
      "  for chunk in pd.read_csv(path_to_file, delimiter=delimiter, chunksize=chunk_size):\n",
      "/mnt/c/Users/maluv/OneDrive/Área de Trabalho/script/ScriptCNPJ/cnpj/lib.py:8: DtypeWarning: Columns (25,29) have mixed types. Specify dtype option on import or set low_memory=False.\n",
      "  for chunk in pd.read_csv(path_to_file, delimiter=delimiter, chunksize=chunk_size):\n",
      "/mnt/c/Users/maluv/OneDrive/Área de Trabalho/script/ScriptCNPJ/cnpj/lib.py:8: DtypeWarning: Columns (25) have mixed types. Specify dtype option on import or set low_memory=False.\n",
      "  for chunk in pd.read_csv(path_to_file, delimiter=delimiter, chunksize=chunk_size):\n",
      "/mnt/c/Users/maluv/OneDrive/Área de Trabalho/script/ScriptCNPJ/cnpj/lib.py:8: DtypeWarning: Columns (25,29,31,32) have mixed types. Specify dtype option on import or set low_memory=False.\n",
      "  for chunk in pd.read_csv(path_to_file, delimiter=delimiter, chunksize=chunk_size):\n",
      "/mnt/c/Users/maluv/OneDrive/Área de Trabalho/script/ScriptCNPJ/cnpj/lib.py:8: DtypeWarning: Columns (25,29) have mixed types. Specify dtype option on import or set low_memory=False.\n",
      "  for chunk in pd.read_csv(path_to_file, delimiter=delimiter, chunksize=chunk_size):\n",
      "/mnt/c/Users/maluv/OneDrive/Área de Trabalho/script/ScriptCNPJ/cnpj/lib.py:8: DtypeWarning: Columns (10,25,29,31,32) have mixed types. Specify dtype option on import or set low_memory=False.\n",
      "  for chunk in pd.read_csv(path_to_file, delimiter=delimiter, chunksize=chunk_size):\n",
      "/mnt/c/Users/maluv/OneDrive/Área de Trabalho/script/ScriptCNPJ/cnpj/lib.py:8: DtypeWarning: Columns (10,25,29) have mixed types. Specify dtype option on import or set low_memory=False.\n",
      "  for chunk in pd.read_csv(path_to_file, delimiter=delimiter, chunksize=chunk_size):\n",
      "/mnt/c/Users/maluv/OneDrive/Área de Trabalho/script/ScriptCNPJ/cnpj/lib.py:8: DtypeWarning: Columns (25,29) have mixed types. Specify dtype option on import or set low_memory=False.\n",
      "  for chunk in pd.read_csv(path_to_file, delimiter=delimiter, chunksize=chunk_size):\n",
      "/mnt/c/Users/maluv/OneDrive/Área de Trabalho/script/ScriptCNPJ/cnpj/lib.py:8: DtypeWarning: Columns (10,25,29) have mixed types. Specify dtype option on import or set low_memory=False.\n",
      "  for chunk in pd.read_csv(path_to_file, delimiter=delimiter, chunksize=chunk_size):\n",
      "/mnt/c/Users/maluv/OneDrive/Área de Trabalho/script/ScriptCNPJ/cnpj/lib.py:8: DtypeWarning: Columns (10,25) have mixed types. Specify dtype option on import or set low_memory=False.\n",
      "  for chunk in pd.read_csv(path_to_file, delimiter=delimiter, chunksize=chunk_size):\n",
      "/mnt/c/Users/maluv/OneDrive/Área de Trabalho/script/ScriptCNPJ/cnpj/lib.py:8: DtypeWarning: Columns (10,25,29) have mixed types. Specify dtype option on import or set low_memory=False.\n",
      "  for chunk in pd.read_csv(path_to_file, delimiter=delimiter, chunksize=chunk_size):\n",
      "/mnt/c/Users/maluv/OneDrive/Área de Trabalho/script/ScriptCNPJ/cnpj/lib.py:8: DtypeWarning: Columns (10,25,29,31,32) have mixed types. Specify dtype option on import or set low_memory=False.\n",
      "  for chunk in pd.read_csv(path_to_file, delimiter=delimiter, chunksize=chunk_size):\n",
      "/mnt/c/Users/maluv/OneDrive/Área de Trabalho/script/ScriptCNPJ/cnpj/lib.py:8: DtypeWarning: Columns (25,29) have mixed types. Specify dtype option on import or set low_memory=False.\n",
      "  for chunk in pd.read_csv(path_to_file, delimiter=delimiter, chunksize=chunk_size):\n",
      "/mnt/c/Users/maluv/OneDrive/Área de Trabalho/script/ScriptCNPJ/cnpj/lib.py:8: DtypeWarning: Columns (25) have mixed types. Specify dtype option on import or set low_memory=False.\n",
      "  for chunk in pd.read_csv(path_to_file, delimiter=delimiter, chunksize=chunk_size):\n",
      "/mnt/c/Users/maluv/OneDrive/Área de Trabalho/script/ScriptCNPJ/cnpj/lib.py:8: DtypeWarning: Columns (29) have mixed types. Specify dtype option on import or set low_memory=False.\n",
      "  for chunk in pd.read_csv(path_to_file, delimiter=delimiter, chunksize=chunk_size):\n",
      "/mnt/c/Users/maluv/OneDrive/Área de Trabalho/script/ScriptCNPJ/cnpj/lib.py:8: DtypeWarning: Columns (25,29,31,32) have mixed types. Specify dtype option on import or set low_memory=False.\n",
      "  for chunk in pd.read_csv(path_to_file, delimiter=delimiter, chunksize=chunk_size):\n",
      "/mnt/c/Users/maluv/OneDrive/Área de Trabalho/script/ScriptCNPJ/cnpj/lib.py:8: DtypeWarning: Columns (25) have mixed types. Specify dtype option on import or set low_memory=False.\n",
      "  for chunk in pd.read_csv(path_to_file, delimiter=delimiter, chunksize=chunk_size):\n",
      "/mnt/c/Users/maluv/OneDrive/Área de Trabalho/script/ScriptCNPJ/cnpj/lib.py:8: DtypeWarning: Columns (25,29) have mixed types. Specify dtype option on import or set low_memory=False.\n",
      "  for chunk in pd.read_csv(path_to_file, delimiter=delimiter, chunksize=chunk_size):\n",
      "/mnt/c/Users/maluv/OneDrive/Área de Trabalho/script/ScriptCNPJ/cnpj/lib.py:8: DtypeWarning: Columns (25) have mixed types. Specify dtype option on import or set low_memory=False.\n",
      "  for chunk in pd.read_csv(path_to_file, delimiter=delimiter, chunksize=chunk_size):\n"
     ]
    }
   ],
   "source": [
    "df = funcao.carregar_dados_delimitador_correto('./csv/cnpjs_2.csv', ';')"
   ]
  },
  {
   "cell_type": "code",
   "execution_count": 3,
   "metadata": {},
   "outputs": [
    {
     "name": "stderr",
     "output_type": "stream",
     "text": [
      "/mnt/c/Users/maluv/OneDrive/Área de Trabalho/script/ScriptCNPJ/cnpj/lib.py:29: SettingWithCopyWarning: \n",
      "A value is trying to be set on a copy of a slice from a DataFrame.\n",
      "Try using .loc[row_indexer,col_indexer] = value instead\n",
      "\n",
      "See the caveats in the documentation: https://pandas.pydata.org/pandas-docs/stable/user_guide/indexing.html#returning-a-view-versus-a-copy\n",
      "  chunk[coluna] = chunk[coluna].apply(limpar_celula)\n",
      "/mnt/c/Users/maluv/OneDrive/Área de Trabalho/script/ScriptCNPJ/cnpj/lib.py:52: FutureWarning: DataFrame.applymap has been deprecated. Use DataFrame.map instead.\n",
      "  df_chunk = df_chunk.applymap(lambda x: x.replace(',', ';') if isinstance(x, str) else x)\n"
     ]
    },
    {
     "data": {
      "text/plain": [
       "'./csv_s3/cnpj_2_s3.csv'"
      ]
     },
     "execution_count": 3,
     "metadata": {},
     "output_type": "execute_result"
    }
   ],
   "source": [
    "df = funcao.limpar_dados(df, colunas_a_ignorar=['email', 'data', 'data_situacao_cadastral', 'data_inicio_atividade', 'data_situacao_especial'])\n",
    "df = funcao.tratar_valores_nulos(df, 'nan', chunk_size=1000) \n",
    "df = funcao.remover_coluna(df, 'cnae_fiscal_secundaria') \n",
    "funcao.ajustar_amazon_s3(df, './csv_s3/cnpj_2_s3.csv')"
   ]
  },
  {
   "cell_type": "markdown",
   "metadata": {},
   "source": [
    "# CNPJ3"
   ]
  },
  {
   "cell_type": "code",
   "execution_count": 12,
   "metadata": {},
   "outputs": [
    {
     "name": "stderr",
     "output_type": "stream",
     "text": [
      "/mnt/c/Users/maluv/OneDrive/Área de Trabalho/script/ScriptCNPJ/cnpj/lib.py:8: DtypeWarning: Columns (29) have mixed types. Specify dtype option on import or set low_memory=False.\n",
      "  for chunk in pd.read_csv(path_to_file, delimiter=delimiter, chunksize=chunk_size):\n",
      "/mnt/c/Users/maluv/OneDrive/Área de Trabalho/script/ScriptCNPJ/cnpj/lib.py:8: DtypeWarning: Columns (31,32) have mixed types. Specify dtype option on import or set low_memory=False.\n",
      "  for chunk in pd.read_csv(path_to_file, delimiter=delimiter, chunksize=chunk_size):\n",
      "/mnt/c/Users/maluv/OneDrive/Área de Trabalho/script/ScriptCNPJ/cnpj/lib.py:8: DtypeWarning: Columns (29) have mixed types. Specify dtype option on import or set low_memory=False.\n",
      "  for chunk in pd.read_csv(path_to_file, delimiter=delimiter, chunksize=chunk_size):\n",
      "/mnt/c/Users/maluv/OneDrive/Área de Trabalho/script/ScriptCNPJ/cnpj/lib.py:8: DtypeWarning: Columns (29) have mixed types. Specify dtype option on import or set low_memory=False.\n",
      "  for chunk in pd.read_csv(path_to_file, delimiter=delimiter, chunksize=chunk_size):\n",
      "/mnt/c/Users/maluv/OneDrive/Área de Trabalho/script/ScriptCNPJ/cnpj/lib.py:8: DtypeWarning: Columns (29) have mixed types. Specify dtype option on import or set low_memory=False.\n",
      "  for chunk in pd.read_csv(path_to_file, delimiter=delimiter, chunksize=chunk_size):\n",
      "/mnt/c/Users/maluv/OneDrive/Área de Trabalho/script/ScriptCNPJ/cnpj/lib.py:8: DtypeWarning: Columns (29,31,32) have mixed types. Specify dtype option on import or set low_memory=False.\n",
      "  for chunk in pd.read_csv(path_to_file, delimiter=delimiter, chunksize=chunk_size):\n",
      "/mnt/c/Users/maluv/OneDrive/Área de Trabalho/script/ScriptCNPJ/cnpj/lib.py:8: DtypeWarning: Columns (31,32) have mixed types. Specify dtype option on import or set low_memory=False.\n",
      "  for chunk in pd.read_csv(path_to_file, delimiter=delimiter, chunksize=chunk_size):\n"
     ]
    }
   ],
   "source": [
    "df = funcao.carregar_dados_delimitador_correto('./csv/cnpjs_3.csv', ';')"
   ]
  },
  {
   "cell_type": "code",
   "execution_count": 15,
   "metadata": {},
   "outputs": [
    {
     "name": "stderr",
     "output_type": "stream",
     "text": [
      "/mnt/c/Users/maluv/OneDrive/Área de Trabalho/script/ScriptCNPJ/cnpj/lib.py:29: SettingWithCopyWarning: \n",
      "A value is trying to be set on a copy of a slice from a DataFrame.\n",
      "Try using .loc[row_indexer,col_indexer] = value instead\n",
      "\n",
      "See the caveats in the documentation: https://pandas.pydata.org/pandas-docs/stable/user_guide/indexing.html#returning-a-view-versus-a-copy\n",
      "  chunk[coluna] = chunk[coluna].apply(limpar_celula)\n"
     ]
    }
   ],
   "source": [
    "df = funcao.limpar_dados(df, colunas_a_ignorar=['email', 'data', 'data_situacao_cadastral', 'data_inicio_atividade', 'data_situacao_especial'])\n",
    "df = funcao.tratar_valores_nulos(df, 'nan', chunk_size=1000) \n",
    "df = funcao.remover_coluna(df, 'cnae_fiscal_secundaria') \n",
    "funcao.ajustar_amazon_s3(df, './csv_s3/cnpj_3_s3.csv')"
   ]
  },
  {
   "cell_type": "markdown",
   "metadata": {},
   "source": [
    "# CNPJ4"
   ]
  },
  {
   "cell_type": "code",
   "execution_count": 18,
   "metadata": {},
   "outputs": [],
   "source": [
    "df = funcao.carregar_dados_delimitador_correto('./csv/cnpjs_4.csv', ';')"
   ]
  },
  {
   "cell_type": "code",
   "execution_count": 19,
   "metadata": {},
   "outputs": [
    {
     "name": "stderr",
     "output_type": "stream",
     "text": [
      "/mnt/c/Users/maluv/OneDrive/Área de Trabalho/script/ScriptCNPJ/cnpj/lib.py:29: SettingWithCopyWarning: \n",
      "A value is trying to be set on a copy of a slice from a DataFrame.\n",
      "Try using .loc[row_indexer,col_indexer] = value instead\n",
      "\n",
      "See the caveats in the documentation: https://pandas.pydata.org/pandas-docs/stable/user_guide/indexing.html#returning-a-view-versus-a-copy\n",
      "  chunk[coluna] = chunk[coluna].apply(limpar_celula)\n"
     ]
    }
   ],
   "source": [
    "df = funcao.limpar_dados(df, colunas_a_ignorar=['email', 'data', 'data_situacao_cadastral', 'data_inicio_atividade', 'data_situacao_especial'])\n",
    "df = funcao.tratar_valores_nulos(df, 'nan', chunk_size=1000)\n",
    "df = funcao.remover_coluna(df, 'cnae_fiscal_secundaria')\n",
    "funcao.ajustar_amazon_s3(df, './csv_s3/cnpj_4_s3.csv')"
   ]
  },
  {
   "cell_type": "markdown",
   "metadata": {},
   "source": [
    "# CNPJ5"
   ]
  },
  {
   "cell_type": "code",
   "execution_count": 3,
   "metadata": {},
   "outputs": [
    {
     "name": "stderr",
     "output_type": "stream",
     "text": [
      "/mnt/c/Users/maluv/OneDrive/Área de Trabalho/script/ScriptCNPJ/cnpj/lib.py:8: DtypeWarning: Columns (10,25,29) have mixed types. Specify dtype option on import or set low_memory=False.\n",
      "  for chunk in pd.read_csv(path_to_file, delimiter=delimiter, chunksize=chunk_size):\n",
      "/mnt/c/Users/maluv/OneDrive/Área de Trabalho/script/ScriptCNPJ/cnpj/lib.py:8: DtypeWarning: Columns (10,25,29,31,32) have mixed types. Specify dtype option on import or set low_memory=False.\n",
      "  for chunk in pd.read_csv(path_to_file, delimiter=delimiter, chunksize=chunk_size):\n",
      "/mnt/c/Users/maluv/OneDrive/Área de Trabalho/script/ScriptCNPJ/cnpj/lib.py:8: DtypeWarning: Columns (10,25,31,32) have mixed types. Specify dtype option on import or set low_memory=False.\n",
      "  for chunk in pd.read_csv(path_to_file, delimiter=delimiter, chunksize=chunk_size):\n",
      "/mnt/c/Users/maluv/OneDrive/Área de Trabalho/script/ScriptCNPJ/cnpj/lib.py:8: DtypeWarning: Columns (10,25,29,31,32) have mixed types. Specify dtype option on import or set low_memory=False.\n",
      "  for chunk in pd.read_csv(path_to_file, delimiter=delimiter, chunksize=chunk_size):\n",
      "/mnt/c/Users/maluv/OneDrive/Área de Trabalho/script/ScriptCNPJ/cnpj/lib.py:8: DtypeWarning: Columns (10,25,31,32) have mixed types. Specify dtype option on import or set low_memory=False.\n",
      "  for chunk in pd.read_csv(path_to_file, delimiter=delimiter, chunksize=chunk_size):\n",
      "/mnt/c/Users/maluv/OneDrive/Área de Trabalho/script/ScriptCNPJ/cnpj/lib.py:8: DtypeWarning: Columns (10,25,27,29,31,32) have mixed types. Specify dtype option on import or set low_memory=False.\n",
      "  for chunk in pd.read_csv(path_to_file, delimiter=delimiter, chunksize=chunk_size):\n",
      "/mnt/c/Users/maluv/OneDrive/Área de Trabalho/script/ScriptCNPJ/cnpj/lib.py:8: DtypeWarning: Columns (10,25,31,32) have mixed types. Specify dtype option on import or set low_memory=False.\n",
      "  for chunk in pd.read_csv(path_to_file, delimiter=delimiter, chunksize=chunk_size):\n",
      "/mnt/c/Users/maluv/OneDrive/Área de Trabalho/script/ScriptCNPJ/cnpj/lib.py:8: DtypeWarning: Columns (10,25,31,32) have mixed types. Specify dtype option on import or set low_memory=False.\n",
      "  for chunk in pd.read_csv(path_to_file, delimiter=delimiter, chunksize=chunk_size):\n",
      "/mnt/c/Users/maluv/OneDrive/Área de Trabalho/script/ScriptCNPJ/cnpj/lib.py:8: DtypeWarning: Columns (10,25,29) have mixed types. Specify dtype option on import or set low_memory=False.\n",
      "  for chunk in pd.read_csv(path_to_file, delimiter=delimiter, chunksize=chunk_size):\n",
      "/mnt/c/Users/maluv/OneDrive/Área de Trabalho/script/ScriptCNPJ/cnpj/lib.py:8: DtypeWarning: Columns (10,25,29) have mixed types. Specify dtype option on import or set low_memory=False.\n",
      "  for chunk in pd.read_csv(path_to_file, delimiter=delimiter, chunksize=chunk_size):\n",
      "/mnt/c/Users/maluv/OneDrive/Área de Trabalho/script/ScriptCNPJ/cnpj/lib.py:8: DtypeWarning: Columns (10,25,29,31,32) have mixed types. Specify dtype option on import or set low_memory=False.\n",
      "  for chunk in pd.read_csv(path_to_file, delimiter=delimiter, chunksize=chunk_size):\n",
      "/mnt/c/Users/maluv/OneDrive/Área de Trabalho/script/ScriptCNPJ/cnpj/lib.py:8: DtypeWarning: Columns (10,25,27,29) have mixed types. Specify dtype option on import or set low_memory=False.\n",
      "  for chunk in pd.read_csv(path_to_file, delimiter=delimiter, chunksize=chunk_size):\n",
      "/mnt/c/Users/maluv/OneDrive/Área de Trabalho/script/ScriptCNPJ/cnpj/lib.py:8: DtypeWarning: Columns (10,25,29) have mixed types. Specify dtype option on import or set low_memory=False.\n",
      "  for chunk in pd.read_csv(path_to_file, delimiter=delimiter, chunksize=chunk_size):\n",
      "/mnt/c/Users/maluv/OneDrive/Área de Trabalho/script/ScriptCNPJ/cnpj/lib.py:8: DtypeWarning: Columns (10,25,29,31,32) have mixed types. Specify dtype option on import or set low_memory=False.\n",
      "  for chunk in pd.read_csv(path_to_file, delimiter=delimiter, chunksize=chunk_size):\n",
      "/mnt/c/Users/maluv/OneDrive/Área de Trabalho/script/ScriptCNPJ/cnpj/lib.py:8: DtypeWarning: Columns (10,25,27,29) have mixed types. Specify dtype option on import or set low_memory=False.\n",
      "  for chunk in pd.read_csv(path_to_file, delimiter=delimiter, chunksize=chunk_size):\n",
      "/mnt/c/Users/maluv/OneDrive/Área de Trabalho/script/ScriptCNPJ/cnpj/lib.py:8: DtypeWarning: Columns (10,27,29,31,32) have mixed types. Specify dtype option on import or set low_memory=False.\n",
      "  for chunk in pd.read_csv(path_to_file, delimiter=delimiter, chunksize=chunk_size):\n",
      "/mnt/c/Users/maluv/OneDrive/Área de Trabalho/script/ScriptCNPJ/cnpj/lib.py:8: DtypeWarning: Columns (10,25,29) have mixed types. Specify dtype option on import or set low_memory=False.\n",
      "  for chunk in pd.read_csv(path_to_file, delimiter=delimiter, chunksize=chunk_size):\n",
      "/mnt/c/Users/maluv/OneDrive/Área de Trabalho/script/ScriptCNPJ/cnpj/lib.py:8: DtypeWarning: Columns (10,25,29) have mixed types. Specify dtype option on import or set low_memory=False.\n",
      "  for chunk in pd.read_csv(path_to_file, delimiter=delimiter, chunksize=chunk_size):\n",
      "/mnt/c/Users/maluv/OneDrive/Área de Trabalho/script/ScriptCNPJ/cnpj/lib.py:8: DtypeWarning: Columns (10,25,27,29) have mixed types. Specify dtype option on import or set low_memory=False.\n",
      "  for chunk in pd.read_csv(path_to_file, delimiter=delimiter, chunksize=chunk_size):\n",
      "/mnt/c/Users/maluv/OneDrive/Área de Trabalho/script/ScriptCNPJ/cnpj/lib.py:8: DtypeWarning: Columns (10,25,29,31,32) have mixed types. Specify dtype option on import or set low_memory=False.\n",
      "  for chunk in pd.read_csv(path_to_file, delimiter=delimiter, chunksize=chunk_size):\n",
      "/mnt/c/Users/maluv/OneDrive/Área de Trabalho/script/ScriptCNPJ/cnpj/lib.py:8: DtypeWarning: Columns (10,25) have mixed types. Specify dtype option on import or set low_memory=False.\n",
      "  for chunk in pd.read_csv(path_to_file, delimiter=delimiter, chunksize=chunk_size):\n",
      "/mnt/c/Users/maluv/OneDrive/Área de Trabalho/script/ScriptCNPJ/cnpj/lib.py:8: DtypeWarning: Columns (10,25,31,32) have mixed types. Specify dtype option on import or set low_memory=False.\n",
      "  for chunk in pd.read_csv(path_to_file, delimiter=delimiter, chunksize=chunk_size):\n",
      "/mnt/c/Users/maluv/OneDrive/Área de Trabalho/script/ScriptCNPJ/cnpj/lib.py:8: DtypeWarning: Columns (10,25,29,31,32) have mixed types. Specify dtype option on import or set low_memory=False.\n",
      "  for chunk in pd.read_csv(path_to_file, delimiter=delimiter, chunksize=chunk_size):\n",
      "/mnt/c/Users/maluv/OneDrive/Área de Trabalho/script/ScriptCNPJ/cnpj/lib.py:8: DtypeWarning: Columns (10,25,29) have mixed types. Specify dtype option on import or set low_memory=False.\n",
      "  for chunk in pd.read_csv(path_to_file, delimiter=delimiter, chunksize=chunk_size):\n",
      "/mnt/c/Users/maluv/OneDrive/Área de Trabalho/script/ScriptCNPJ/cnpj/lib.py:8: DtypeWarning: Columns (10,25,29) have mixed types. Specify dtype option on import or set low_memory=False.\n",
      "  for chunk in pd.read_csv(path_to_file, delimiter=delimiter, chunksize=chunk_size):\n",
      "/mnt/c/Users/maluv/OneDrive/Área de Trabalho/script/ScriptCNPJ/cnpj/lib.py:8: DtypeWarning: Columns (10,25,29,31,32) have mixed types. Specify dtype option on import or set low_memory=False.\n",
      "  for chunk in pd.read_csv(path_to_file, delimiter=delimiter, chunksize=chunk_size):\n",
      "/mnt/c/Users/maluv/OneDrive/Área de Trabalho/script/ScriptCNPJ/cnpj/lib.py:8: DtypeWarning: Columns (10,25,27,29,31,32) have mixed types. Specify dtype option on import or set low_memory=False.\n",
      "  for chunk in pd.read_csv(path_to_file, delimiter=delimiter, chunksize=chunk_size):\n",
      "/mnt/c/Users/maluv/OneDrive/Área de Trabalho/script/ScriptCNPJ/cnpj/lib.py:8: DtypeWarning: Columns (10,25,27,29,31,32) have mixed types. Specify dtype option on import or set low_memory=False.\n",
      "  for chunk in pd.read_csv(path_to_file, delimiter=delimiter, chunksize=chunk_size):\n",
      "/mnt/c/Users/maluv/OneDrive/Área de Trabalho/script/ScriptCNPJ/cnpj/lib.py:8: DtypeWarning: Columns (10,25,29,31,32) have mixed types. Specify dtype option on import or set low_memory=False.\n",
      "  for chunk in pd.read_csv(path_to_file, delimiter=delimiter, chunksize=chunk_size):\n",
      "/mnt/c/Users/maluv/OneDrive/Área de Trabalho/script/ScriptCNPJ/cnpj/lib.py:8: DtypeWarning: Columns (10,25,27,29) have mixed types. Specify dtype option on import or set low_memory=False.\n",
      "  for chunk in pd.read_csv(path_to_file, delimiter=delimiter, chunksize=chunk_size):\n",
      "/mnt/c/Users/maluv/OneDrive/Área de Trabalho/script/ScriptCNPJ/cnpj/lib.py:8: DtypeWarning: Columns (10,25,27,29) have mixed types. Specify dtype option on import or set low_memory=False.\n",
      "  for chunk in pd.read_csv(path_to_file, delimiter=delimiter, chunksize=chunk_size):\n",
      "/mnt/c/Users/maluv/OneDrive/Área de Trabalho/script/ScriptCNPJ/cnpj/lib.py:8: DtypeWarning: Columns (10,25,29,31,32) have mixed types. Specify dtype option on import or set low_memory=False.\n",
      "  for chunk in pd.read_csv(path_to_file, delimiter=delimiter, chunksize=chunk_size):\n",
      "/mnt/c/Users/maluv/OneDrive/Área de Trabalho/script/ScriptCNPJ/cnpj/lib.py:8: DtypeWarning: Columns (10,25,27,29) have mixed types. Specify dtype option on import or set low_memory=False.\n",
      "  for chunk in pd.read_csv(path_to_file, delimiter=delimiter, chunksize=chunk_size):\n",
      "/mnt/c/Users/maluv/OneDrive/Área de Trabalho/script/ScriptCNPJ/cnpj/lib.py:8: DtypeWarning: Columns (10,25,27,29) have mixed types. Specify dtype option on import or set low_memory=False.\n",
      "  for chunk in pd.read_csv(path_to_file, delimiter=delimiter, chunksize=chunk_size):\n",
      "/mnt/c/Users/maluv/OneDrive/Área de Trabalho/script/ScriptCNPJ/cnpj/lib.py:8: DtypeWarning: Columns (10,25,27,29) have mixed types. Specify dtype option on import or set low_memory=False.\n",
      "  for chunk in pd.read_csv(path_to_file, delimiter=delimiter, chunksize=chunk_size):\n",
      "/mnt/c/Users/maluv/OneDrive/Área de Trabalho/script/ScriptCNPJ/cnpj/lib.py:8: DtypeWarning: Columns (10,25,29,31,32) have mixed types. Specify dtype option on import or set low_memory=False.\n",
      "  for chunk in pd.read_csv(path_to_file, delimiter=delimiter, chunksize=chunk_size):\n",
      "/mnt/c/Users/maluv/OneDrive/Área de Trabalho/script/ScriptCNPJ/cnpj/lib.py:8: DtypeWarning: Columns (10,25) have mixed types. Specify dtype option on import or set low_memory=False.\n",
      "  for chunk in pd.read_csv(path_to_file, delimiter=delimiter, chunksize=chunk_size):\n",
      "/mnt/c/Users/maluv/OneDrive/Área de Trabalho/script/ScriptCNPJ/cnpj/lib.py:8: DtypeWarning: Columns (10,25,27,29,31,32) have mixed types. Specify dtype option on import or set low_memory=False.\n",
      "  for chunk in pd.read_csv(path_to_file, delimiter=delimiter, chunksize=chunk_size):\n",
      "/mnt/c/Users/maluv/OneDrive/Área de Trabalho/script/ScriptCNPJ/cnpj/lib.py:8: DtypeWarning: Columns (10,25) have mixed types. Specify dtype option on import or set low_memory=False.\n",
      "  for chunk in pd.read_csv(path_to_file, delimiter=delimiter, chunksize=chunk_size):\n",
      "/mnt/c/Users/maluv/OneDrive/Área de Trabalho/script/ScriptCNPJ/cnpj/lib.py:8: DtypeWarning: Columns (10,25,29,31,32) have mixed types. Specify dtype option on import or set low_memory=False.\n",
      "  for chunk in pd.read_csv(path_to_file, delimiter=delimiter, chunksize=chunk_size):\n",
      "/mnt/c/Users/maluv/OneDrive/Área de Trabalho/script/ScriptCNPJ/cnpj/lib.py:8: DtypeWarning: Columns (10,25,29) have mixed types. Specify dtype option on import or set low_memory=False.\n",
      "  for chunk in pd.read_csv(path_to_file, delimiter=delimiter, chunksize=chunk_size):\n",
      "/mnt/c/Users/maluv/OneDrive/Área de Trabalho/script/ScriptCNPJ/cnpj/lib.py:8: DtypeWarning: Columns (10,25,31,32) have mixed types. Specify dtype option on import or set low_memory=False.\n",
      "  for chunk in pd.read_csv(path_to_file, delimiter=delimiter, chunksize=chunk_size):\n",
      "/mnt/c/Users/maluv/OneDrive/Área de Trabalho/script/ScriptCNPJ/cnpj/lib.py:8: DtypeWarning: Columns (10,25,27,29,31,32) have mixed types. Specify dtype option on import or set low_memory=False.\n",
      "  for chunk in pd.read_csv(path_to_file, delimiter=delimiter, chunksize=chunk_size):\n",
      "/mnt/c/Users/maluv/OneDrive/Área de Trabalho/script/ScriptCNPJ/cnpj/lib.py:8: DtypeWarning: Columns (10,25,27,29) have mixed types. Specify dtype option on import or set low_memory=False.\n",
      "  for chunk in pd.read_csv(path_to_file, delimiter=delimiter, chunksize=chunk_size):\n",
      "/mnt/c/Users/maluv/OneDrive/Área de Trabalho/script/ScriptCNPJ/cnpj/lib.py:8: DtypeWarning: Columns (10,25,29,31,32) have mixed types. Specify dtype option on import or set low_memory=False.\n",
      "  for chunk in pd.read_csv(path_to_file, delimiter=delimiter, chunksize=chunk_size):\n",
      "/mnt/c/Users/maluv/OneDrive/Área de Trabalho/script/ScriptCNPJ/cnpj/lib.py:8: DtypeWarning: Columns (10,25,27,29) have mixed types. Specify dtype option on import or set low_memory=False.\n",
      "  for chunk in pd.read_csv(path_to_file, delimiter=delimiter, chunksize=chunk_size):\n",
      "/mnt/c/Users/maluv/OneDrive/Área de Trabalho/script/ScriptCNPJ/cnpj/lib.py:8: DtypeWarning: Columns (10,25,29) have mixed types. Specify dtype option on import or set low_memory=False.\n",
      "  for chunk in pd.read_csv(path_to_file, delimiter=delimiter, chunksize=chunk_size):\n",
      "/mnt/c/Users/maluv/OneDrive/Área de Trabalho/script/ScriptCNPJ/cnpj/lib.py:8: DtypeWarning: Columns (10,25,27,29) have mixed types. Specify dtype option on import or set low_memory=False.\n",
      "  for chunk in pd.read_csv(path_to_file, delimiter=delimiter, chunksize=chunk_size):\n",
      "/mnt/c/Users/maluv/OneDrive/Área de Trabalho/script/ScriptCNPJ/cnpj/lib.py:8: DtypeWarning: Columns (10,25,29) have mixed types. Specify dtype option on import or set low_memory=False.\n",
      "  for chunk in pd.read_csv(path_to_file, delimiter=delimiter, chunksize=chunk_size):\n",
      "/mnt/c/Users/maluv/OneDrive/Área de Trabalho/script/ScriptCNPJ/cnpj/lib.py:8: DtypeWarning: Columns (10,25,29) have mixed types. Specify dtype option on import or set low_memory=False.\n",
      "  for chunk in pd.read_csv(path_to_file, delimiter=delimiter, chunksize=chunk_size):\n",
      "/mnt/c/Users/maluv/OneDrive/Área de Trabalho/script/ScriptCNPJ/cnpj/lib.py:8: DtypeWarning: Columns (10,25,29) have mixed types. Specify dtype option on import or set low_memory=False.\n",
      "  for chunk in pd.read_csv(path_to_file, delimiter=delimiter, chunksize=chunk_size):\n",
      "/mnt/c/Users/maluv/OneDrive/Área de Trabalho/script/ScriptCNPJ/cnpj/lib.py:8: DtypeWarning: Columns (10,25,29) have mixed types. Specify dtype option on import or set low_memory=False.\n",
      "  for chunk in pd.read_csv(path_to_file, delimiter=delimiter, chunksize=chunk_size):\n",
      "/mnt/c/Users/maluv/OneDrive/Área de Trabalho/script/ScriptCNPJ/cnpj/lib.py:8: DtypeWarning: Columns (10,25,29,31,32) have mixed types. Specify dtype option on import or set low_memory=False.\n",
      "  for chunk in pd.read_csv(path_to_file, delimiter=delimiter, chunksize=chunk_size):\n",
      "/mnt/c/Users/maluv/OneDrive/Área de Trabalho/script/ScriptCNPJ/cnpj/lib.py:8: DtypeWarning: Columns (10,25,29,31,32) have mixed types. Specify dtype option on import or set low_memory=False.\n",
      "  for chunk in pd.read_csv(path_to_file, delimiter=delimiter, chunksize=chunk_size):\n",
      "/mnt/c/Users/maluv/OneDrive/Área de Trabalho/script/ScriptCNPJ/cnpj/lib.py:8: DtypeWarning: Columns (10,25,29) have mixed types. Specify dtype option on import or set low_memory=False.\n",
      "  for chunk in pd.read_csv(path_to_file, delimiter=delimiter, chunksize=chunk_size):\n",
      "/mnt/c/Users/maluv/OneDrive/Área de Trabalho/script/ScriptCNPJ/cnpj/lib.py:8: DtypeWarning: Columns (10,25,29,31,32) have mixed types. Specify dtype option on import or set low_memory=False.\n",
      "  for chunk in pd.read_csv(path_to_file, delimiter=delimiter, chunksize=chunk_size):\n",
      "/mnt/c/Users/maluv/OneDrive/Área de Trabalho/script/ScriptCNPJ/cnpj/lib.py:8: DtypeWarning: Columns (10,25,29) have mixed types. Specify dtype option on import or set low_memory=False.\n",
      "  for chunk in pd.read_csv(path_to_file, delimiter=delimiter, chunksize=chunk_size):\n",
      "/mnt/c/Users/maluv/OneDrive/Área de Trabalho/script/ScriptCNPJ/cnpj/lib.py:8: DtypeWarning: Columns (10,25,29) have mixed types. Specify dtype option on import or set low_memory=False.\n",
      "  for chunk in pd.read_csv(path_to_file, delimiter=delimiter, chunksize=chunk_size):\n",
      "/mnt/c/Users/maluv/OneDrive/Área de Trabalho/script/ScriptCNPJ/cnpj/lib.py:8: DtypeWarning: Columns (10,25,29) have mixed types. Specify dtype option on import or set low_memory=False.\n",
      "  for chunk in pd.read_csv(path_to_file, delimiter=delimiter, chunksize=chunk_size):\n",
      "/mnt/c/Users/maluv/OneDrive/Área de Trabalho/script/ScriptCNPJ/cnpj/lib.py:8: DtypeWarning: Columns (10,25,27,29,31,32) have mixed types. Specify dtype option on import or set low_memory=False.\n",
      "  for chunk in pd.read_csv(path_to_file, delimiter=delimiter, chunksize=chunk_size):\n",
      "/mnt/c/Users/maluv/OneDrive/Área de Trabalho/script/ScriptCNPJ/cnpj/lib.py:8: DtypeWarning: Columns (10,25,27,31,32) have mixed types. Specify dtype option on import or set low_memory=False.\n",
      "  for chunk in pd.read_csv(path_to_file, delimiter=delimiter, chunksize=chunk_size):\n",
      "/mnt/c/Users/maluv/OneDrive/Área de Trabalho/script/ScriptCNPJ/cnpj/lib.py:8: DtypeWarning: Columns (10,25,29,31,32) have mixed types. Specify dtype option on import or set low_memory=False.\n",
      "  for chunk in pd.read_csv(path_to_file, delimiter=delimiter, chunksize=chunk_size):\n",
      "/mnt/c/Users/maluv/OneDrive/Área de Trabalho/script/ScriptCNPJ/cnpj/lib.py:8: DtypeWarning: Columns (10,25,27) have mixed types. Specify dtype option on import or set low_memory=False.\n",
      "  for chunk in pd.read_csv(path_to_file, delimiter=delimiter, chunksize=chunk_size):\n",
      "/mnt/c/Users/maluv/OneDrive/Área de Trabalho/script/ScriptCNPJ/cnpj/lib.py:8: DtypeWarning: Columns (10,25,29) have mixed types. Specify dtype option on import or set low_memory=False.\n",
      "  for chunk in pd.read_csv(path_to_file, delimiter=delimiter, chunksize=chunk_size):\n",
      "/mnt/c/Users/maluv/OneDrive/Área de Trabalho/script/ScriptCNPJ/cnpj/lib.py:8: DtypeWarning: Columns (10,25) have mixed types. Specify dtype option on import or set low_memory=False.\n",
      "  for chunk in pd.read_csv(path_to_file, delimiter=delimiter, chunksize=chunk_size):\n",
      "/mnt/c/Users/maluv/OneDrive/Área de Trabalho/script/ScriptCNPJ/cnpj/lib.py:8: DtypeWarning: Columns (10,25,29) have mixed types. Specify dtype option on import or set low_memory=False.\n",
      "  for chunk in pd.read_csv(path_to_file, delimiter=delimiter, chunksize=chunk_size):\n",
      "/mnt/c/Users/maluv/OneDrive/Área de Trabalho/script/ScriptCNPJ/cnpj/lib.py:8: DtypeWarning: Columns (10,25,29,31,32) have mixed types. Specify dtype option on import or set low_memory=False.\n",
      "  for chunk in pd.read_csv(path_to_file, delimiter=delimiter, chunksize=chunk_size):\n",
      "/mnt/c/Users/maluv/OneDrive/Área de Trabalho/script/ScriptCNPJ/cnpj/lib.py:8: DtypeWarning: Columns (10,25,27,29,31,32) have mixed types. Specify dtype option on import or set low_memory=False.\n",
      "  for chunk in pd.read_csv(path_to_file, delimiter=delimiter, chunksize=chunk_size):\n",
      "/mnt/c/Users/maluv/OneDrive/Área de Trabalho/script/ScriptCNPJ/cnpj/lib.py:8: DtypeWarning: Columns (10,25,29) have mixed types. Specify dtype option on import or set low_memory=False.\n",
      "  for chunk in pd.read_csv(path_to_file, delimiter=delimiter, chunksize=chunk_size):\n",
      "/mnt/c/Users/maluv/OneDrive/Área de Trabalho/script/ScriptCNPJ/cnpj/lib.py:8: DtypeWarning: Columns (10,25,29,31,32) have mixed types. Specify dtype option on import or set low_memory=False.\n",
      "  for chunk in pd.read_csv(path_to_file, delimiter=delimiter, chunksize=chunk_size):\n",
      "/mnt/c/Users/maluv/OneDrive/Área de Trabalho/script/ScriptCNPJ/cnpj/lib.py:8: DtypeWarning: Columns (10,25,29,31,32) have mixed types. Specify dtype option on import or set low_memory=False.\n",
      "  for chunk in pd.read_csv(path_to_file, delimiter=delimiter, chunksize=chunk_size):\n",
      "/mnt/c/Users/maluv/OneDrive/Área de Trabalho/script/ScriptCNPJ/cnpj/lib.py:8: DtypeWarning: Columns (10,25,29) have mixed types. Specify dtype option on import or set low_memory=False.\n",
      "  for chunk in pd.read_csv(path_to_file, delimiter=delimiter, chunksize=chunk_size):\n",
      "/mnt/c/Users/maluv/OneDrive/Área de Trabalho/script/ScriptCNPJ/cnpj/lib.py:8: DtypeWarning: Columns (10,25,27,31,32) have mixed types. Specify dtype option on import or set low_memory=False.\n",
      "  for chunk in pd.read_csv(path_to_file, delimiter=delimiter, chunksize=chunk_size):\n",
      "/mnt/c/Users/maluv/OneDrive/Área de Trabalho/script/ScriptCNPJ/cnpj/lib.py:8: DtypeWarning: Columns (10,25,27,31,32) have mixed types. Specify dtype option on import or set low_memory=False.\n",
      "  for chunk in pd.read_csv(path_to_file, delimiter=delimiter, chunksize=chunk_size):\n",
      "/mnt/c/Users/maluv/OneDrive/Área de Trabalho/script/ScriptCNPJ/cnpj/lib.py:8: DtypeWarning: Columns (10,25,31,32) have mixed types. Specify dtype option on import or set low_memory=False.\n",
      "  for chunk in pd.read_csv(path_to_file, delimiter=delimiter, chunksize=chunk_size):\n"
     ]
    }
   ],
   "source": [
    "df = funcao.carregar_dados_delimitador_correto('./csv/cnpjs_5.csv', ';')"
   ]
  },
  {
   "cell_type": "code",
   "execution_count": 4,
   "metadata": {},
   "outputs": [
    {
     "name": "stderr",
     "output_type": "stream",
     "text": [
      "/mnt/c/Users/maluv/OneDrive/Área de Trabalho/script/ScriptCNPJ/cnpj/lib.py:29: SettingWithCopyWarning: \n",
      "A value is trying to be set on a copy of a slice from a DataFrame.\n",
      "Try using .loc[row_indexer,col_indexer] = value instead\n",
      "\n",
      "See the caveats in the documentation: https://pandas.pydata.org/pandas-docs/stable/user_guide/indexing.html#returning-a-view-versus-a-copy\n",
      "  chunk[coluna] = chunk[coluna].apply(limpar_celula)\n"
     ]
    },
    {
     "ename": "",
     "evalue": "",
     "output_type": "error",
     "traceback": [
      "\u001b[1;31mThe Kernel crashed while executing code in the the current cell or a previous cell. Please review the code in the cell(s) to identify a possible cause of the failure. Click <a href='https://aka.ms/vscodeJupyterKernelCrash'>here</a> for more info. View Jupyter <a href='command:jupyter.viewOutput'>log</a> for further details."
     ]
    }
   ],
   "source": [
    "df = funcao.limpar_dados(df, colunas_a_ignorar=['email', 'data', 'data_situacao_cadastral', 'data_inicio_atividade', 'data_situacao_especial'])\n",
    "df = funcao.tratar_valores_nulos(df, 'nan', chunk_size=100) \n",
    "df = funcao.remover_coluna(df, 'cnae_fiscal_secundaria') \n",
    "funcao.ajustar_amazon_s3(df, './csv_s3/cnpj_5_s3.csv')"
   ]
  },
  {
   "cell_type": "code",
   "execution_count": null,
   "metadata": {},
   "outputs": [],
   "source": []
  }
 ],
 "metadata": {
  "kernelspec": {
   "display_name": "Python 3",
   "language": "python",
   "name": "python3"
  },
  "language_info": {
   "codemirror_mode": {
    "name": "ipython",
    "version": 3
   },
   "file_extension": ".py",
   "mimetype": "text/x-python",
   "name": "python",
   "nbconvert_exporter": "python",
   "pygments_lexer": "ipython3",
   "version": "3.10.6"
  }
 },
 "nbformat": 4,
 "nbformat_minor": 2
}
