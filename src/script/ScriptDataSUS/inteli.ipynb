{
 "cells": [
  {
   "cell_type": "code",
   "execution_count": 1,
   "metadata": {},
   "outputs": [],
   "source": [
    "%load_ext autoreload\n",
    "%autoreload 2"
   ]
  },
  {
   "cell_type": "code",
   "execution_count": 2,
   "metadata": {},
   "outputs": [
    {
     "name": "stdout",
     "output_type": "stream",
     "text": [
      "Requirement already satisfied: chardet in /home/malumaia/.pyenv/versions/3.10.6/lib/python3.10/site-packages (5.2.0)\n",
      "\n",
      "\u001b[1m[\u001b[0m\u001b[34;49mnotice\u001b[0m\u001b[1;39;49m]\u001b[0m\u001b[39;49m A new release of pip available: \u001b[0m\u001b[31;49m22.2.1\u001b[0m\u001b[39;49m -> \u001b[0m\u001b[32;49m23.3.1\u001b[0m\n",
      "\u001b[1m[\u001b[0m\u001b[34;49mnotice\u001b[0m\u001b[1;39;49m]\u001b[0m\u001b[39;49m To update, run: \u001b[0m\u001b[32;49mpip install --upgrade pip\u001b[0m\n",
      "Processing /mnt/c/Users/maluv/OneDrive/Área de Trabalho/script/ScriptDataSUS\n",
      "  Preparing metadata (setup.py) ... \u001b[?25ldone\n",
      "\u001b[?25hUsing legacy 'setup.py install' for datasus, since package 'wheel' is not installed.\n",
      "Installing collected packages: datasus\n",
      "  Running setup.py install for datasus ... \u001b[?25ldone\n",
      "\u001b[?25hSuccessfully installed datasus-0.0.0\n",
      "\n",
      "\u001b[1m[\u001b[0m\u001b[34;49mnotice\u001b[0m\u001b[1;39;49m]\u001b[0m\u001b[39;49m A new release of pip available: \u001b[0m\u001b[31;49m22.2.1\u001b[0m\u001b[39;49m -> \u001b[0m\u001b[32;49m23.3.1\u001b[0m\n",
      "\u001b[1m[\u001b[0m\u001b[34;49mnotice\u001b[0m\u001b[1;39;49m]\u001b[0m\u001b[39;49m To update, run: \u001b[0m\u001b[32;49mpip install --upgrade pip\u001b[0m\n"
     ]
    }
   ],
   "source": [
    "!pip install chardet\n",
    "!pip install ."
   ]
  },
  {
   "cell_type": "code",
   "execution_count": 2,
   "metadata": {},
   "outputs": [],
   "source": [
    "import pandas as pd\n",
    "import datasus.lib as funcao\n",
    "import os"
   ]
  },
  {
   "cell_type": "markdown",
   "metadata": {},
   "source": [
    "# Leitos"
   ]
  },
  {
   "cell_type": "markdown",
   "metadata": {},
   "source": [
    "## Leitos 2015"
   ]
  },
  {
   "cell_type": "code",
   "execution_count": 4,
   "metadata": {},
   "outputs": [],
   "source": [
    "df_15 = funcao.carregar_csv('./csv/Leitos_2015.csv')"
   ]
  },
  {
   "cell_type": "code",
   "execution_count": 5,
   "metadata": {},
   "outputs": [
    {
     "name": "stderr",
     "output_type": "stream",
     "text": [
      "/mnt/c/Users/maluv/OneDrive/Área de Trabalho/script/ScriptDataSUS/datasus/lib.py:38: SettingWithCopyWarning: \n",
      "A value is trying to be set on a copy of a slice from a DataFrame.\n",
      "Try using .loc[row_indexer,col_indexer] = value instead\n",
      "\n",
      "See the caveats in the documentation: https://pandas.pydata.org/pandas-docs/stable/user_guide/indexing.html#returning-a-view-versus-a-copy\n",
      "  chunk[coluna] = chunk[coluna].apply(limpar_celula)\n"
     ]
    }
   ],
   "source": [
    "df_15 = funcao.limpar_dados(df_15, colunas_a_ignorar=['NO_EMAIL'])\n",
    "df_15 = funcao.tratar_valores_nulos(df_15, 'N/A', chunk_size=1000)  "
   ]
  },
  {
   "cell_type": "code",
   "execution_count": 6,
   "metadata": {},
   "outputs": [
    {
     "name": "stderr",
     "output_type": "stream",
     "text": [
      "/mnt/c/Users/maluv/OneDrive/Área de Trabalho/script/ScriptDataSUS/datasus/lib.py:59: FutureWarning: DataFrame.applymap has been deprecated. Use DataFrame.map instead.\n",
      "  df_chunk = df_chunk.applymap(lambda x: x.replace(',', ';') if isinstance(x, str) else x)\n"
     ]
    },
    {
     "data": {
      "text/plain": [
       "'./csv_s3/leitos_15_s3.csv'"
      ]
     },
     "execution_count": 6,
     "metadata": {},
     "output_type": "execute_result"
    }
   ],
   "source": [
    "funcao.ajustar_amazon_s3(df_15, './csv_s3/leitos_15_s3.csv')"
   ]
  },
  {
   "cell_type": "markdown",
   "metadata": {},
   "source": [
    "## Leitos 2016"
   ]
  },
  {
   "cell_type": "code",
   "execution_count": 7,
   "metadata": {},
   "outputs": [],
   "source": [
    "df_16 = funcao.carregar_csv('./csv/Leitos_2016.csv')"
   ]
  },
  {
   "cell_type": "code",
   "execution_count": 8,
   "metadata": {},
   "outputs": [
    {
     "name": "stderr",
     "output_type": "stream",
     "text": [
      "/mnt/c/Users/maluv/OneDrive/Área de Trabalho/script/ScriptDataSUS/datasus/lib.py:38: SettingWithCopyWarning: \n",
      "A value is trying to be set on a copy of a slice from a DataFrame.\n",
      "Try using .loc[row_indexer,col_indexer] = value instead\n",
      "\n",
      "See the caveats in the documentation: https://pandas.pydata.org/pandas-docs/stable/user_guide/indexing.html#returning-a-view-versus-a-copy\n",
      "  chunk[coluna] = chunk[coluna].apply(limpar_celula)\n"
     ]
    }
   ],
   "source": [
    "df_16 = funcao.limpar_dados(df_16, colunas_a_ignorar=['NO_EMAIL'])\n",
    "df_16 = funcao.tratar_valores_nulos(df_16, 'N/A', chunk_size=1000)  "
   ]
  },
  {
   "cell_type": "code",
   "execution_count": 9,
   "metadata": {},
   "outputs": [
    {
     "name": "stderr",
     "output_type": "stream",
     "text": [
      "/mnt/c/Users/maluv/OneDrive/Área de Trabalho/script/ScriptDataSUS/datasus/lib.py:59: FutureWarning: DataFrame.applymap has been deprecated. Use DataFrame.map instead.\n",
      "  df_chunk = df_chunk.applymap(lambda x: x.replace(',', ';') if isinstance(x, str) else x)\n"
     ]
    },
    {
     "data": {
      "text/plain": [
       "'./csv_s3/leitos_16_s3.csv'"
      ]
     },
     "execution_count": 9,
     "metadata": {},
     "output_type": "execute_result"
    }
   ],
   "source": [
    "funcao.ajustar_amazon_s3(df_16, './csv_s3/leitos_16_s3.csv')"
   ]
  },
  {
   "cell_type": "markdown",
   "metadata": {},
   "source": [
    "## Leitos 2017"
   ]
  },
  {
   "cell_type": "code",
   "execution_count": 10,
   "metadata": {},
   "outputs": [],
   "source": [
    "df_17 = funcao.carregar_csv('./csv/Leitos_2017.csv')"
   ]
  },
  {
   "cell_type": "code",
   "execution_count": 11,
   "metadata": {},
   "outputs": [
    {
     "name": "stderr",
     "output_type": "stream",
     "text": [
      "/mnt/c/Users/maluv/OneDrive/Área de Trabalho/script/ScriptDataSUS/datasus/lib.py:38: SettingWithCopyWarning: \n",
      "A value is trying to be set on a copy of a slice from a DataFrame.\n",
      "Try using .loc[row_indexer,col_indexer] = value instead\n",
      "\n",
      "See the caveats in the documentation: https://pandas.pydata.org/pandas-docs/stable/user_guide/indexing.html#returning-a-view-versus-a-copy\n",
      "  chunk[coluna] = chunk[coluna].apply(limpar_celula)\n"
     ]
    }
   ],
   "source": [
    "df_17 = funcao.limpar_dados(df_17, colunas_a_ignorar=['NO_EMAIL'])\n",
    "df_17 = funcao.tratar_valores_nulos(df_17, 'N/A', chunk_size=1000)  "
   ]
  },
  {
   "cell_type": "code",
   "execution_count": 12,
   "metadata": {},
   "outputs": [
    {
     "name": "stderr",
     "output_type": "stream",
     "text": [
      "/mnt/c/Users/maluv/OneDrive/Área de Trabalho/script/ScriptDataSUS/datasus/lib.py:59: FutureWarning: DataFrame.applymap has been deprecated. Use DataFrame.map instead.\n",
      "  df_chunk = df_chunk.applymap(lambda x: x.replace(',', ';') if isinstance(x, str) else x)\n"
     ]
    },
    {
     "data": {
      "text/plain": [
       "'./csv_s3/leitos_17_s3.csv'"
      ]
     },
     "execution_count": 12,
     "metadata": {},
     "output_type": "execute_result"
    }
   ],
   "source": [
    "funcao.ajustar_amazon_s3(df_17, './csv_s3/leitos_17_s3.csv')"
   ]
  },
  {
   "cell_type": "markdown",
   "metadata": {},
   "source": [
    "## Leitos 2018"
   ]
  },
  {
   "cell_type": "code",
   "execution_count": 13,
   "metadata": {},
   "outputs": [],
   "source": [
    "df_18 = funcao.carregar_csv('./csv/Leitos_2018.csv')"
   ]
  },
  {
   "cell_type": "code",
   "execution_count": 14,
   "metadata": {},
   "outputs": [
    {
     "name": "stderr",
     "output_type": "stream",
     "text": [
      "/mnt/c/Users/maluv/OneDrive/Área de Trabalho/script/ScriptDataSUS/datasus/lib.py:38: SettingWithCopyWarning: \n",
      "A value is trying to be set on a copy of a slice from a DataFrame.\n",
      "Try using .loc[row_indexer,col_indexer] = value instead\n",
      "\n",
      "See the caveats in the documentation: https://pandas.pydata.org/pandas-docs/stable/user_guide/indexing.html#returning-a-view-versus-a-copy\n",
      "  chunk[coluna] = chunk[coluna].apply(limpar_celula)\n"
     ]
    }
   ],
   "source": [
    "df_18 = funcao.limpar_dados(df_18, colunas_a_ignorar=['NO_EMAIL'])\n",
    "df_18 = funcao.tratar_valores_nulos(df_18, 'N/A', chunk_size=1000)  "
   ]
  },
  {
   "cell_type": "code",
   "execution_count": 15,
   "metadata": {},
   "outputs": [
    {
     "name": "stderr",
     "output_type": "stream",
     "text": [
      "/mnt/c/Users/maluv/OneDrive/Área de Trabalho/script/ScriptDataSUS/datasus/lib.py:59: FutureWarning: DataFrame.applymap has been deprecated. Use DataFrame.map instead.\n",
      "  df_chunk = df_chunk.applymap(lambda x: x.replace(',', ';') if isinstance(x, str) else x)\n"
     ]
    },
    {
     "data": {
      "text/plain": [
       "'./csv_s3/leitos_18_s3.csv'"
      ]
     },
     "execution_count": 15,
     "metadata": {},
     "output_type": "execute_result"
    }
   ],
   "source": [
    "funcao.ajustar_amazon_s3(df_18, './csv_s3/leitos_18_s3.csv')"
   ]
  },
  {
   "cell_type": "markdown",
   "metadata": {},
   "source": [
    "## Leitos 2019"
   ]
  },
  {
   "cell_type": "code",
   "execution_count": 16,
   "metadata": {},
   "outputs": [],
   "source": [
    "df_19 = funcao.carregar_csv('./csv/Leitos_2019.csv')"
   ]
  },
  {
   "cell_type": "code",
   "execution_count": 17,
   "metadata": {},
   "outputs": [
    {
     "name": "stderr",
     "output_type": "stream",
     "text": [
      "/mnt/c/Users/maluv/OneDrive/Área de Trabalho/script/ScriptDataSUS/datasus/lib.py:38: SettingWithCopyWarning: \n",
      "A value is trying to be set on a copy of a slice from a DataFrame.\n",
      "Try using .loc[row_indexer,col_indexer] = value instead\n",
      "\n",
      "See the caveats in the documentation: https://pandas.pydata.org/pandas-docs/stable/user_guide/indexing.html#returning-a-view-versus-a-copy\n",
      "  chunk[coluna] = chunk[coluna].apply(limpar_celula)\n"
     ]
    }
   ],
   "source": [
    "df_19 = funcao.limpar_dados(df_19, colunas_a_ignorar=['NO_EMAIL'])\n",
    "df_19 = funcao.tratar_valores_nulos(df_19, 'N/A', chunk_size=1000)  "
   ]
  },
  {
   "cell_type": "code",
   "execution_count": 18,
   "metadata": {},
   "outputs": [
    {
     "name": "stderr",
     "output_type": "stream",
     "text": [
      "/mnt/c/Users/maluv/OneDrive/Área de Trabalho/script/ScriptDataSUS/datasus/lib.py:59: FutureWarning: DataFrame.applymap has been deprecated. Use DataFrame.map instead.\n",
      "  df_chunk = df_chunk.applymap(lambda x: x.replace(',', ';') if isinstance(x, str) else x)\n"
     ]
    },
    {
     "data": {
      "text/plain": [
       "'./csv_s3/leitos_19_s3.csv'"
      ]
     },
     "execution_count": 18,
     "metadata": {},
     "output_type": "execute_result"
    }
   ],
   "source": [
    "funcao.ajustar_amazon_s3(df_19, './csv_s3/leitos_19_s3.csv')"
   ]
  },
  {
   "cell_type": "markdown",
   "metadata": {},
   "source": [
    "## Leitos 2020"
   ]
  },
  {
   "cell_type": "code",
   "execution_count": 19,
   "metadata": {},
   "outputs": [],
   "source": [
    "df_20 = funcao.carregar_csv('./csv/Leitos_2020.csv')"
   ]
  },
  {
   "cell_type": "code",
   "execution_count": 20,
   "metadata": {},
   "outputs": [
    {
     "name": "stderr",
     "output_type": "stream",
     "text": [
      "/mnt/c/Users/maluv/OneDrive/Área de Trabalho/script/ScriptDataSUS/datasus/lib.py:38: SettingWithCopyWarning: \n",
      "A value is trying to be set on a copy of a slice from a DataFrame.\n",
      "Try using .loc[row_indexer,col_indexer] = value instead\n",
      "\n",
      "See the caveats in the documentation: https://pandas.pydata.org/pandas-docs/stable/user_guide/indexing.html#returning-a-view-versus-a-copy\n",
      "  chunk[coluna] = chunk[coluna].apply(limpar_celula)\n"
     ]
    }
   ],
   "source": [
    "df_20 = funcao.limpar_dados(df_20, colunas_a_ignorar=['NO_EMAIL'])\n",
    "df_20 = funcao.tratar_valores_nulos(df_20, 'N/A', chunk_size=1000)  "
   ]
  },
  {
   "cell_type": "code",
   "execution_count": 21,
   "metadata": {},
   "outputs": [
    {
     "name": "stderr",
     "output_type": "stream",
     "text": [
      "/mnt/c/Users/maluv/OneDrive/Área de Trabalho/script/ScriptDataSUS/datasus/lib.py:59: FutureWarning: DataFrame.applymap has been deprecated. Use DataFrame.map instead.\n",
      "  df_chunk = df_chunk.applymap(lambda x: x.replace(',', ';') if isinstance(x, str) else x)\n"
     ]
    },
    {
     "data": {
      "text/plain": [
       "'./csv_s3/leitos_20_s3.csv'"
      ]
     },
     "execution_count": 21,
     "metadata": {},
     "output_type": "execute_result"
    }
   ],
   "source": [
    "funcao.ajustar_amazon_s3(df_20, './csv_s3/leitos_20_s3.csv')"
   ]
  },
  {
   "cell_type": "markdown",
   "metadata": {},
   "source": [
    "## Leitos 2021"
   ]
  },
  {
   "cell_type": "code",
   "execution_count": 22,
   "metadata": {},
   "outputs": [],
   "source": [
    "df_21 = funcao.carregar_csv('./csv/Leitos_2021.csv')"
   ]
  },
  {
   "cell_type": "code",
   "execution_count": 23,
   "metadata": {},
   "outputs": [
    {
     "name": "stderr",
     "output_type": "stream",
     "text": [
      "/mnt/c/Users/maluv/OneDrive/Área de Trabalho/script/ScriptDataSUS/datasus/lib.py:38: SettingWithCopyWarning: \n",
      "A value is trying to be set on a copy of a slice from a DataFrame.\n",
      "Try using .loc[row_indexer,col_indexer] = value instead\n",
      "\n",
      "See the caveats in the documentation: https://pandas.pydata.org/pandas-docs/stable/user_guide/indexing.html#returning-a-view-versus-a-copy\n",
      "  chunk[coluna] = chunk[coluna].apply(limpar_celula)\n"
     ]
    }
   ],
   "source": [
    "df_21 = funcao.limpar_dados(df_21, colunas_a_ignorar=['NO_EMAIL'])\n",
    "df_21 = funcao.tratar_valores_nulos(df_21, 'N/A', chunk_size=1000)  "
   ]
  },
  {
   "cell_type": "code",
   "execution_count": 24,
   "metadata": {},
   "outputs": [
    {
     "name": "stderr",
     "output_type": "stream",
     "text": [
      "/mnt/c/Users/maluv/OneDrive/Área de Trabalho/script/ScriptDataSUS/datasus/lib.py:59: FutureWarning: DataFrame.applymap has been deprecated. Use DataFrame.map instead.\n",
      "  df_chunk = df_chunk.applymap(lambda x: x.replace(',', ';') if isinstance(x, str) else x)\n"
     ]
    },
    {
     "data": {
      "text/plain": [
       "'./csv_s3/leitos_21_s3.csv'"
      ]
     },
     "execution_count": 24,
     "metadata": {},
     "output_type": "execute_result"
    }
   ],
   "source": [
    "funcao.ajustar_amazon_s3(df_21, './csv_s3/leitos_21_s3.csv')"
   ]
  },
  {
   "cell_type": "markdown",
   "metadata": {},
   "source": [
    "## Leitos 2022"
   ]
  },
  {
   "cell_type": "code",
   "execution_count": 25,
   "metadata": {},
   "outputs": [],
   "source": [
    "df_22 = funcao.carregar_csv('./csv/Leitos_2022.csv')"
   ]
  },
  {
   "cell_type": "code",
   "execution_count": 26,
   "metadata": {},
   "outputs": [
    {
     "name": "stderr",
     "output_type": "stream",
     "text": [
      "/mnt/c/Users/maluv/OneDrive/Área de Trabalho/script/ScriptDataSUS/datasus/lib.py:38: SettingWithCopyWarning: \n",
      "A value is trying to be set on a copy of a slice from a DataFrame.\n",
      "Try using .loc[row_indexer,col_indexer] = value instead\n",
      "\n",
      "See the caveats in the documentation: https://pandas.pydata.org/pandas-docs/stable/user_guide/indexing.html#returning-a-view-versus-a-copy\n",
      "  chunk[coluna] = chunk[coluna].apply(limpar_celula)\n"
     ]
    }
   ],
   "source": [
    "df_22 = funcao.limpar_dados(df_22, colunas_a_ignorar=['NO_EMAIL'])\n",
    "df_22 = funcao.tratar_valores_nulos(df_22, 'N/A', chunk_size=1000)  "
   ]
  },
  {
   "cell_type": "code",
   "execution_count": 27,
   "metadata": {},
   "outputs": [
    {
     "name": "stderr",
     "output_type": "stream",
     "text": [
      "/mnt/c/Users/maluv/OneDrive/Área de Trabalho/script/ScriptDataSUS/datasus/lib.py:59: FutureWarning: DataFrame.applymap has been deprecated. Use DataFrame.map instead.\n",
      "  df_chunk = df_chunk.applymap(lambda x: x.replace(',', ';') if isinstance(x, str) else x)\n"
     ]
    },
    {
     "data": {
      "text/plain": [
       "'./csv_s3/leitos_22_s3.csv'"
      ]
     },
     "execution_count": 27,
     "metadata": {},
     "output_type": "execute_result"
    }
   ],
   "source": [
    "funcao.ajustar_amazon_s3(df_22, './csv_s3/leitos_22_s3.csv')"
   ]
  },
  {
   "cell_type": "markdown",
   "metadata": {},
   "source": [
    "## Leitos 2023"
   ]
  },
  {
   "cell_type": "code",
   "execution_count": 28,
   "metadata": {},
   "outputs": [],
   "source": [
    "df_23 = funcao.carregar_csv_com_codificacao('./csv/Leitos_2023.csv')"
   ]
  },
  {
   "cell_type": "code",
   "execution_count": 29,
   "metadata": {},
   "outputs": [
    {
     "name": "stderr",
     "output_type": "stream",
     "text": [
      "/mnt/c/Users/maluv/OneDrive/Área de Trabalho/script/ScriptDataSUS/datasus/lib.py:38: SettingWithCopyWarning: \n",
      "A value is trying to be set on a copy of a slice from a DataFrame.\n",
      "Try using .loc[row_indexer,col_indexer] = value instead\n",
      "\n",
      "See the caveats in the documentation: https://pandas.pydata.org/pandas-docs/stable/user_guide/indexing.html#returning-a-view-versus-a-copy\n",
      "  chunk[coluna] = chunk[coluna].apply(limpar_celula)\n"
     ]
    }
   ],
   "source": [
    "df_23 = funcao.limpar_dados(df_23, colunas_a_ignorar=['NO_EMAIL'])\n",
    "df_23 = funcao.tratar_valores_nulos(df_23, 'N/A', chunk_size=1000)  "
   ]
  },
  {
   "cell_type": "code",
   "execution_count": 30,
   "metadata": {},
   "outputs": [
    {
     "name": "stderr",
     "output_type": "stream",
     "text": [
      "/mnt/c/Users/maluv/OneDrive/Área de Trabalho/script/ScriptDataSUS/datasus/lib.py:59: FutureWarning: DataFrame.applymap has been deprecated. Use DataFrame.map instead.\n",
      "  df_chunk = df_chunk.applymap(lambda x: x.replace(',', ';') if isinstance(x, str) else x)\n"
     ]
    },
    {
     "data": {
      "text/plain": [
       "'./csv_s3/leitos_23_s3.csv'"
      ]
     },
     "execution_count": 30,
     "metadata": {},
     "output_type": "execute_result"
    }
   ],
   "source": [
    "funcao.ajustar_amazon_s3(df_23, './csv_s3/leitos_23_s3.csv')"
   ]
  },
  {
   "cell_type": "markdown",
   "metadata": {},
   "source": [
    "# Leitos Ocupação"
   ]
  },
  {
   "cell_type": "markdown",
   "metadata": {},
   "source": [
    "## Leitos Ocupação 2020"
   ]
  },
  {
   "cell_type": "code",
   "execution_count": 2,
   "metadata": {},
   "outputs": [
    {
     "name": "stderr",
     "output_type": "stream",
     "text": [
      "/mnt/c/Users/maluv/OneDrive/Área de Trabalho/script/ScriptDataSUS/datasus/lib.py:6: DtypeWarning: Columns (3) have mixed types. Specify dtype option on import or set low_memory=False.\n",
      "  return pd.read_csv(caminho_arquivo, delimiter=delimiter)\n"
     ]
    }
   ],
   "source": [
    "df_20_ = funcao.carregar_csv('./csv/esus-vepi.LeitoOcupacao_2020.csv')"
   ]
  },
  {
   "cell_type": "code",
   "execution_count": 3,
   "metadata": {},
   "outputs": [
    {
     "name": "stderr",
     "output_type": "stream",
     "text": [
      "/mnt/c/Users/maluv/OneDrive/Área de Trabalho/script/ScriptDataSUS/datasus/lib.py:38: SettingWithCopyWarning: \n",
      "A value is trying to be set on a copy of a slice from a DataFrame.\n",
      "Try using .loc[row_indexer,col_indexer] = value instead\n",
      "\n",
      "See the caveats in the documentation: https://pandas.pydata.org/pandas-docs/stable/user_guide/indexing.html#returning-a-view-versus-a-copy\n",
      "  chunk[coluna] = chunk[coluna].apply(limpar_celula)\n"
     ]
    }
   ],
   "source": [
    "df_20_ = funcao.remover_coluna(df_20_, 'Unnamed: 0')\n",
    "df_20_ = funcao.remover_coluna(df_20_, 'cnes')\n",
    "df_20_ = funcao.limpar_dados(df_20_, colunas_a_ignorar=['dataNotificacao', '_created_at', '_updated_at', 'origem', '_id', '_p_usuario'])\n",
    "df_20_ = funcao.tratar_valores_nulos(df_20_, 'N/A', chunk_size=1000)  \n",
    "df_20_['dataNotificacao'] = df_20_['dataNotificacao'].str.split('T').str[0]\n",
    "df_20_['_created_at'] = df_20_['_created_at'].str.split('T').str[0]\n",
    "df_20_['_updated_at'] = df_20_['_updated_at'].str.split('T').str[0]"
   ]
  },
  {
   "cell_type": "code",
   "execution_count": 4,
   "metadata": {},
   "outputs": [
    {
     "name": "stderr",
     "output_type": "stream",
     "text": [
      "/mnt/c/Users/maluv/OneDrive/Área de Trabalho/script/ScriptDataSUS/datasus/lib.py:59: FutureWarning: DataFrame.applymap has been deprecated. Use DataFrame.map instead.\n",
      "  df_chunk = df_chunk.applymap(lambda x: x.replace(',', ';') if isinstance(x, str) else x)\n"
     ]
    },
    {
     "data": {
      "text/plain": [
       "'./csv_s3/leito_ocupacao_20_s3.csv'"
      ]
     },
     "execution_count": 4,
     "metadata": {},
     "output_type": "execute_result"
    }
   ],
   "source": [
    "funcao.ajustar_amazon_s3(df_20_, './csv_s3/leito_ocupacao_20_s3.csv')"
   ]
  },
  {
   "cell_type": "markdown",
   "metadata": {},
   "source": [
    "## Leitos Ocupação 2021"
   ]
  },
  {
   "cell_type": "code",
   "execution_count": 3,
   "metadata": {},
   "outputs": [
    {
     "name": "stderr",
     "output_type": "stream",
     "text": [
      "/mnt/c/Users/maluv/OneDrive/Área de Trabalho/script/ScriptDataSUS/datasus/lib.py:6: DtypeWarning: Columns (3) have mixed types. Specify dtype option on import or set low_memory=False.\n",
      "  return pd.read_csv(caminho_arquivo, delimiter=delimiter)\n"
     ]
    }
   ],
   "source": [
    "df_21_ = funcao.carregar_csv('./csv/esus-vepi.LeitoOcupacao_2021.csv')"
   ]
  },
  {
   "cell_type": "code",
   "execution_count": 4,
   "metadata": {},
   "outputs": [
    {
     "name": "stderr",
     "output_type": "stream",
     "text": [
      "/mnt/c/Users/maluv/OneDrive/Área de Trabalho/script/ScriptDataSUS/datasus/lib.py:38: SettingWithCopyWarning: \n",
      "A value is trying to be set on a copy of a slice from a DataFrame.\n",
      "Try using .loc[row_indexer,col_indexer] = value instead\n",
      "\n",
      "See the caveats in the documentation: https://pandas.pydata.org/pandas-docs/stable/user_guide/indexing.html#returning-a-view-versus-a-copy\n",
      "  chunk[coluna] = chunk[coluna].apply(limpar_celula)\n"
     ]
    }
   ],
   "source": [
    "df_21_ = funcao.remover_coluna(df_21_, 'Unnamed: 0')\n",
    "df_21_ = funcao.remover_coluna(df_21_, 'cnes')\n",
    "df_21_ = funcao.limpar_dados(df_21_, colunas_a_ignorar=['dataNotificacao', '_created_at', '_updated_at', 'origem', '_id', '_p_usuario'])\n",
    "df_21_ = funcao.tratar_valores_nulos(df_21_, 'N/A', chunk_size=1000)  \n",
    "df_21_['dataNotificacao'] = df_21_['dataNotificacao'].str.split('T').str[0]\n",
    "df_21_['_created_at'] = df_21_['_created_at'].str.split('T').str[0]\n",
    "df_21_['_updated_at'] = df_21_['_updated_at'].str.split('T').str[0]"
   ]
  },
  {
   "cell_type": "code",
   "execution_count": 5,
   "metadata": {},
   "outputs": [
    {
     "name": "stderr",
     "output_type": "stream",
     "text": [
      "/mnt/c/Users/maluv/OneDrive/Área de Trabalho/script/ScriptDataSUS/datasus/lib.py:59: FutureWarning: DataFrame.applymap has been deprecated. Use DataFrame.map instead.\n",
      "  df_chunk = df_chunk.applymap(lambda x: x.replace(',', ';') if isinstance(x, str) else x)\n"
     ]
    },
    {
     "data": {
      "text/plain": [
       "'./csv_s3/leito_ocupacao_21_s3.csv'"
      ]
     },
     "execution_count": 5,
     "metadata": {},
     "output_type": "execute_result"
    }
   ],
   "source": [
    "funcao.ajustar_amazon_s3(df_21_, './csv_s3/leito_ocupacao_21_s3.csv')"
   ]
  },
  {
   "cell_type": "markdown",
   "metadata": {},
   "source": [
    "## Leitos Ocupação 2022"
   ]
  },
  {
   "cell_type": "code",
   "execution_count": 9,
   "metadata": {},
   "outputs": [],
   "source": [
    "df_22_ = funcao.carregar_csv('./csv/esus-vepi.LeitoOcupacao_2022.csv')"
   ]
  },
  {
   "cell_type": "code",
   "execution_count": 10,
   "metadata": {},
   "outputs": [
    {
     "name": "stderr",
     "output_type": "stream",
     "text": [
      "/mnt/c/Users/maluv/OneDrive/Área de Trabalho/script/ScriptDataSUS/datasus/lib.py:38: SettingWithCopyWarning: \n",
      "A value is trying to be set on a copy of a slice from a DataFrame.\n",
      "Try using .loc[row_indexer,col_indexer] = value instead\n",
      "\n",
      "See the caveats in the documentation: https://pandas.pydata.org/pandas-docs/stable/user_guide/indexing.html#returning-a-view-versus-a-copy\n",
      "  chunk[coluna] = chunk[coluna].apply(limpar_celula)\n"
     ]
    }
   ],
   "source": [
    "df_22_ = funcao.remover_coluna(df_22_, 'Unnamed: 0')\n",
    "df_22_ = funcao.limpar_dados(df_22_, colunas_a_ignorar=['dataNotificacao', '_created_at', '_updated_at', 'origem', '_id', '_p_usuario'])\n",
    "df_22_ = funcao.tratar_valores_nulos(df_22_, 'N/A', chunk_size=1000)  \n",
    "df_22_['dataNotificacao'] = df_22_['dataNotificacao'].str.split('T').str[0]\n",
    "df_22_['_created_at'] = df_22_['_created_at'].str.split('T').str[0]\n",
    "df_22_['_updated_at'] = df_22_['_updated_at'].str.split('T').str[0]"
   ]
  },
  {
   "cell_type": "code",
   "execution_count": 11,
   "metadata": {},
   "outputs": [
    {
     "name": "stderr",
     "output_type": "stream",
     "text": [
      "/mnt/c/Users/maluv/OneDrive/Área de Trabalho/script/ScriptDataSUS/datasus/lib.py:59: FutureWarning: DataFrame.applymap has been deprecated. Use DataFrame.map instead.\n",
      "  df_chunk = df_chunk.applymap(lambda x: x.replace(',', ';') if isinstance(x, str) else x)\n"
     ]
    },
    {
     "data": {
      "text/plain": [
       "'./csv_s3/leito_ocupacao_22_s3.csv'"
      ]
     },
     "execution_count": 11,
     "metadata": {},
     "output_type": "execute_result"
    }
   ],
   "source": [
    "funcao.ajustar_amazon_s3(df_22_, './csv_s3/leito_ocupacao_22_s3.csv')"
   ]
  }
 ],
 "metadata": {
  "kernelspec": {
   "display_name": "Python 3",
   "language": "python",
   "name": "python3"
  },
  "language_info": {
   "codemirror_mode": {
    "name": "ipython",
    "version": 3
   },
   "file_extension": ".py",
   "mimetype": "text/x-python",
   "name": "python",
   "nbconvert_exporter": "python",
   "pygments_lexer": "ipython3",
   "version": "3.10.6"
  }
 },
 "nbformat": 4,
 "nbformat_minor": 2
}
