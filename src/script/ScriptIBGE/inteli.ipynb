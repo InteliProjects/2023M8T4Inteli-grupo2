{
 "cells": [
  {
   "cell_type": "code",
   "execution_count": 1,
   "metadata": {},
   "outputs": [
    {
     "name": "stdout",
     "output_type": "stream",
     "text": [
      "Processing /mnt/c/Users/maluv/OneDrive/Área de Trabalho/script/ScriptIBGE\n",
      "  Preparing metadata (setup.py) ... \u001b[?25ldone\n",
      "\u001b[?25hUsing legacy 'setup.py install' for ibge, since package 'wheel' is not installed.\n",
      "Installing collected packages: ibge\n",
      "  Attempting uninstall: ibge\n",
      "    Found existing installation: ibge 0.0.0\n",
      "    Uninstalling ibge-0.0.0:\n",
      "      Successfully uninstalled ibge-0.0.0\n",
      "  Running setup.py install for ibge ... \u001b[?25ldone\n",
      "\u001b[?25hSuccessfully installed ibge-0.0.0\n",
      "\n",
      "\u001b[1m[\u001b[0m\u001b[34;49mnotice\u001b[0m\u001b[1;39;49m]\u001b[0m\u001b[39;49m A new release of pip available: \u001b[0m\u001b[31;49m22.2.1\u001b[0m\u001b[39;49m -> \u001b[0m\u001b[32;49m23.3.1\u001b[0m\n",
      "\u001b[1m[\u001b[0m\u001b[34;49mnotice\u001b[0m\u001b[1;39;49m]\u001b[0m\u001b[39;49m To update, run: \u001b[0m\u001b[32;49mpip install --upgrade pip\u001b[0m\n",
      "\u001b[1m============================= test session starts ==============================\u001b[0m\n",
      "platform linux -- Python 3.10.6, pytest-7.1.3, pluggy-1.0.0 -- /home/malumaia/.pyenv/versions/3.10.6/envs/seunome/bin/python3.10\n",
      "cachedir: .pytest_cache\n",
      "rootdir: /mnt/c/Users/maluv/OneDrive/Área de Trabalho/script/ScriptIBGE\n",
      "plugins: anyio-3.6.2\n",
      "collected 5 items                                                              \u001b[0m\u001b[1m\n",
      "\n",
      "tests/test_lib.py::test_preprocess_output \u001b[32mPASSED\u001b[0m\u001b[32m                         [ 20%]\u001b[0m\n",
      "tests/test_lib.py::test_clean_data_success \u001b[32mPASSED\u001b[0m\u001b[32m                        [ 40%]\u001b[0m\n",
      "tests/test_lib.py::test_clean_data_failure \u001b[32mPASSED\u001b[0m\u001b[32m                        [ 60%]\u001b[0m\n",
      "tests/test_lib.py::teste_ajustar_amazon_s3_sucesso \u001b[32mPASSED\u001b[0m\u001b[32m                [ 80%]\u001b[0m\n",
      "tests/test_lib.py::teste_ajustar_amazon_s3_falha \u001b[32mPASSED\u001b[0m\u001b[32m                  [100%]\u001b[0m\n",
      "\n",
      "\u001b[32m============================== \u001b[32m\u001b[1m5 passed\u001b[0m\u001b[32m in 1.52s\u001b[0m\u001b[32m ===============================\u001b[0m\n"
     ]
    }
   ],
   "source": [
    "!pip install .\n",
    "!pytest tests -v # verbose"
   ]
  },
  {
   "cell_type": "code",
   "execution_count": 2,
   "metadata": {},
   "outputs": [],
   "source": [
    "# Este código garante que o notebook sempre vai buscar os módulos\n",
    "%load_ext autoreload\n",
    "%autoreload 2"
   ]
  },
  {
   "cell_type": "code",
   "execution_count": 3,
   "metadata": {},
   "outputs": [],
   "source": [
    "import ibge.lib as funcao"
   ]
  },
  {
   "cell_type": "markdown",
   "metadata": {},
   "source": [
    "# GINI Geral"
   ]
  },
  {
   "cell_type": "code",
   "execution_count": 4,
   "metadata": {},
   "outputs": [
    {
     "name": "stderr",
     "output_type": "stream",
     "text": [
      "/mnt/c/Users/maluv/OneDrive/Área de Trabalho/script/ScriptIBGE/ibge/lib.py:29: FutureWarning: DataFrame.applymap has been deprecated. Use DataFrame.map instead.\n",
      "  df = df.applymap(lambda x: x.replace(',', ';') if isinstance(x, str) else x)\n"
     ]
    }
   ],
   "source": [
    "df_gini_geral = funcao.load_data_with_correct_delimiter(\"./csv/gini_geral.csv\")\n",
    "\n",
    "df_gini_geral_clean = funcao.clean_data(df_gini_geral)\n",
    "\n",
    "gini_geral_s3 = funcao.ajustar_amazon_s3(df_gini_geral_clean, './csv_s3/gini_geral_s3.csv')"
   ]
  },
  {
   "cell_type": "markdown",
   "metadata": {},
   "source": [
    "# GINI Industria"
   ]
  },
  {
   "cell_type": "code",
   "execution_count": 5,
   "metadata": {},
   "outputs": [
    {
     "name": "stderr",
     "output_type": "stream",
     "text": [
      "/mnt/c/Users/maluv/OneDrive/Área de Trabalho/script/ScriptIBGE/ibge/lib.py:29: FutureWarning: DataFrame.applymap has been deprecated. Use DataFrame.map instead.\n",
      "  df = df.applymap(lambda x: x.replace(',', ';') if isinstance(x, str) else x)\n"
     ]
    }
   ],
   "source": [
    "df_gini_industria = funcao.load_data_with_correct_delimiter(\"./csv/gini_industria.csv\")\n",
    "\n",
    "df_gini_industria_clean = funcao.clean_data(df_gini_industria)\n",
    "\n",
    "gini_industria_s3 = funcao.ajustar_amazon_s3(df_gini_industria_clean, './csv_s3/gini_industria_s3.csv')"
   ]
  },
  {
   "cell_type": "markdown",
   "metadata": {},
   "source": [
    "# PIB"
   ]
  },
  {
   "cell_type": "code",
   "execution_count": 6,
   "metadata": {},
   "outputs": [
    {
     "name": "stderr",
     "output_type": "stream",
     "text": [
      "/mnt/c/Users/maluv/OneDrive/Área de Trabalho/script/ScriptIBGE/ibge/lib.py:29: FutureWarning: DataFrame.applymap has been deprecated. Use DataFrame.map instead.\n",
      "  df = df.applymap(lambda x: x.replace(',', ';') if isinstance(x, str) else x)\n"
     ]
    }
   ],
   "source": [
    "df_pib = funcao.load_data_with_correct_delimiter(\"./csv/pib.csv\")\n",
    "\n",
    "df_pib_clean = funcao.clean_data(df_pib)\n",
    "\n",
    "df_pib_s3 = funcao.ajustar_amazon_s3(df_pib_clean, './csv_s3/pib_s3.csv')"
   ]
  }
 ],
 "metadata": {
  "kernelspec": {
   "display_name": "Python 3",
   "language": "python",
   "name": "python3"
  },
  "language_info": {
   "codemirror_mode": {
    "name": "ipython",
    "version": 3
   },
   "file_extension": ".py",
   "mimetype": "text/x-python",
   "name": "python",
   "nbconvert_exporter": "python",
   "pygments_lexer": "ipython3",
   "version": "3.10.6"
  }
 },
 "nbformat": 4,
 "nbformat_minor": 2
}
